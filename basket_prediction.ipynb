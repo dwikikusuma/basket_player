{
 "cells": [
  {
   "cell_type": "code",
   "execution_count": 1,
   "metadata": {},
   "outputs": [
    {
     "name": "stderr",
     "output_type": "stream",
     "text": [
      "D:\\anaconda\\lib\\site-packages\\outdated\\utils.py:14: OutdatedPackageWarning: The package outdated is out of date. Your version is 0.2.0, the latest is 0.2.1.\n",
      "Set the environment variable OUTDATED_IGNORE=1 to disable these warnings.\n",
      "  return warn(\n"
     ]
    }
   ],
   "source": [
    "import pandas as pd\n",
    "import numpy as np\n",
    "\n",
    "import seaborn as sns\n",
    "import matplotlib.pyplot as plt\n",
    "\n",
    "from sklearn.preprocessing import PolynomialFeatures,StandardScaler, MinMaxScaler\n",
    "from sklearn.metrics import roc_curve, auc\n",
    "\n",
    "from sklearn.model_selection import train_test_split\n",
    "from sklearn.model_selection import cross_val_score, StratifiedKFold\n",
    "from sklearn.linear_model import LogisticRegression\n",
    "from sklearn.neighbors import KNeighborsClassifier\n",
    "from sklearn.tree import DecisionTreeClassifier\n",
    "from sklearn.ensemble import RandomForestClassifier,GradientBoostingClassifier\n",
    "#from sklearn.pipeline import Pipeline\n",
    "from sklearn.impute import SimpleImputer\n",
    "from sklearn.feature_selection import RFE\n",
    "from sklearn.model_selection import GridSearchCV, StratifiedKFold\n",
    "from sklearn.preprocessing import OneHotEncoder\n",
    "from sklearn.preprocessing import StandardScaler\n",
    "\n",
    "from sklearn.compose import ColumnTransformer\n",
    "from scipy import stats\n",
    "from sklearn.metrics import confusion_matrix, classification_report, f1_score, recall_score, precision_score, plot_confusion_matrix, auc,plot_roc_curve, roc_curve\n",
    "import category_encoders as ce\n",
    "\n",
    "from imblearn.pipeline import Pipeline\n",
    "from imblearn.over_sampling import RandomOverSampler, SMOTE\n",
    "from imblearn.under_sampling import RandomUnderSampler\n",
    "\n",
    "from scipy.stats import mannwhitneyu\n",
    "\n",
    "import pingouin as pg\n",
    "from sklearn.metrics import SCORERS,accuracy_score\n",
    "\n"
   ]
  },
  {
   "cell_type": "markdown",
   "metadata": {},
   "source": [
    "kolom di nba dan new beda,"
   ]
  },
  {
   "cell_type": "code",
   "execution_count": 2,
   "metadata": {},
   "outputs": [],
   "source": [
    "## Download Data From Github\n",
    "# import requests\n",
    "# url = 'https://raw.githubusercontent.com/ridhoaryo/Ujian_Modul3_NBA/main/new_players.csv'\n",
    "# res = requests.get(url, allow_redirects=True)\n",
    "# with open('new_players.csv','wb') as file:\n",
    "#     file.write(res.content)\n",
    "# nba = pd.read_csv('new_players.csv')"
   ]
  },
  {
   "cell_type": "markdown",
   "metadata": {},
   "source": [
    "## Cek Data Set"
   ]
  },
  {
   "cell_type": "code",
   "execution_count": 3,
   "metadata": {},
   "outputs": [
    {
     "data": {
      "text/html": [
       "<div>\n",
       "<style scoped>\n",
       "    .dataframe tbody tr th:only-of-type {\n",
       "        vertical-align: middle;\n",
       "    }\n",
       "\n",
       "    .dataframe tbody tr th {\n",
       "        vertical-align: top;\n",
       "    }\n",
       "\n",
       "    .dataframe thead th {\n",
       "        text-align: right;\n",
       "    }\n",
       "</style>\n",
       "<table border=\"1\" class=\"dataframe\">\n",
       "  <thead>\n",
       "    <tr style=\"text-align: right;\">\n",
       "      <th></th>\n",
       "      <th>Unnamed: 0</th>\n",
       "      <th>Unnamed: 0.1</th>\n",
       "      <th>player_name</th>\n",
       "      <th>team_abbreviation</th>\n",
       "      <th>age</th>\n",
       "      <th>player_height</th>\n",
       "      <th>player_weight</th>\n",
       "      <th>college</th>\n",
       "      <th>country</th>\n",
       "      <th>draft_year</th>\n",
       "      <th>...</th>\n",
       "      <th>reb</th>\n",
       "      <th>ast</th>\n",
       "      <th>net_rating</th>\n",
       "      <th>oreb_pct</th>\n",
       "      <th>dreb_pct</th>\n",
       "      <th>usg_pct</th>\n",
       "      <th>ts_pct</th>\n",
       "      <th>ast_pct</th>\n",
       "      <th>season</th>\n",
       "      <th>potential_player</th>\n",
       "    </tr>\n",
       "  </thead>\n",
       "  <tbody>\n",
       "    <tr>\n",
       "      <th>0</th>\n",
       "      <td>0</td>\n",
       "      <td>0</td>\n",
       "      <td>Dennis Rodman</td>\n",
       "      <td>CHI</td>\n",
       "      <td>36.0</td>\n",
       "      <td>198.12</td>\n",
       "      <td>99.790240</td>\n",
       "      <td>Southeastern Oklahoma State</td>\n",
       "      <td>USA</td>\n",
       "      <td>1986</td>\n",
       "      <td>...</td>\n",
       "      <td>16.1</td>\n",
       "      <td>3.1</td>\n",
       "      <td>16.1</td>\n",
       "      <td>0.186</td>\n",
       "      <td>0.323</td>\n",
       "      <td>0.100</td>\n",
       "      <td>0.479</td>\n",
       "      <td>0.113</td>\n",
       "      <td>1996-97</td>\n",
       "      <td>0</td>\n",
       "    </tr>\n",
       "    <tr>\n",
       "      <th>1</th>\n",
       "      <td>1</td>\n",
       "      <td>1</td>\n",
       "      <td>Dwayne Schintzius</td>\n",
       "      <td>LAC</td>\n",
       "      <td>28.0</td>\n",
       "      <td>215.90</td>\n",
       "      <td>117.933920</td>\n",
       "      <td>Florida</td>\n",
       "      <td>USA</td>\n",
       "      <td>1990</td>\n",
       "      <td>...</td>\n",
       "      <td>1.5</td>\n",
       "      <td>0.3</td>\n",
       "      <td>12.3</td>\n",
       "      <td>0.078</td>\n",
       "      <td>0.151</td>\n",
       "      <td>0.175</td>\n",
       "      <td>0.430</td>\n",
       "      <td>0.048</td>\n",
       "      <td>1996-97</td>\n",
       "      <td>0</td>\n",
       "    </tr>\n",
       "    <tr>\n",
       "      <th>2</th>\n",
       "      <td>2</td>\n",
       "      <td>2</td>\n",
       "      <td>Earl Cureton</td>\n",
       "      <td>TOR</td>\n",
       "      <td>39.0</td>\n",
       "      <td>205.74</td>\n",
       "      <td>95.254320</td>\n",
       "      <td>Detroit Mercy</td>\n",
       "      <td>USA</td>\n",
       "      <td>1979</td>\n",
       "      <td>...</td>\n",
       "      <td>1.0</td>\n",
       "      <td>0.4</td>\n",
       "      <td>-2.1</td>\n",
       "      <td>0.105</td>\n",
       "      <td>0.102</td>\n",
       "      <td>0.103</td>\n",
       "      <td>0.376</td>\n",
       "      <td>0.148</td>\n",
       "      <td>1996-97</td>\n",
       "      <td>0</td>\n",
       "    </tr>\n",
       "    <tr>\n",
       "      <th>3</th>\n",
       "      <td>3</td>\n",
       "      <td>3</td>\n",
       "      <td>Ed O'Bannon</td>\n",
       "      <td>DAL</td>\n",
       "      <td>24.0</td>\n",
       "      <td>203.20</td>\n",
       "      <td>100.697424</td>\n",
       "      <td>UCLA</td>\n",
       "      <td>USA</td>\n",
       "      <td>1995</td>\n",
       "      <td>...</td>\n",
       "      <td>2.3</td>\n",
       "      <td>0.6</td>\n",
       "      <td>-8.7</td>\n",
       "      <td>0.060</td>\n",
       "      <td>0.149</td>\n",
       "      <td>0.167</td>\n",
       "      <td>0.399</td>\n",
       "      <td>0.077</td>\n",
       "      <td>1996-97</td>\n",
       "      <td>0</td>\n",
       "    </tr>\n",
       "    <tr>\n",
       "      <th>4</th>\n",
       "      <td>4</td>\n",
       "      <td>4</td>\n",
       "      <td>Ed Pinckney</td>\n",
       "      <td>MIA</td>\n",
       "      <td>34.0</td>\n",
       "      <td>205.74</td>\n",
       "      <td>108.862080</td>\n",
       "      <td>Villanova</td>\n",
       "      <td>USA</td>\n",
       "      <td>1985</td>\n",
       "      <td>...</td>\n",
       "      <td>2.4</td>\n",
       "      <td>0.2</td>\n",
       "      <td>-11.2</td>\n",
       "      <td>0.109</td>\n",
       "      <td>0.179</td>\n",
       "      <td>0.127</td>\n",
       "      <td>0.611</td>\n",
       "      <td>0.040</td>\n",
       "      <td>1996-97</td>\n",
       "      <td>0</td>\n",
       "    </tr>\n",
       "  </tbody>\n",
       "</table>\n",
       "<p>5 rows × 24 columns</p>\n",
       "</div>"
      ],
      "text/plain": [
       "   Unnamed: 0  Unnamed: 0.1        player_name team_abbreviation   age  \\\n",
       "0           0             0      Dennis Rodman               CHI  36.0   \n",
       "1           1             1  Dwayne Schintzius               LAC  28.0   \n",
       "2           2             2       Earl Cureton               TOR  39.0   \n",
       "3           3             3        Ed O'Bannon               DAL  24.0   \n",
       "4           4             4        Ed Pinckney               MIA  34.0   \n",
       "\n",
       "   player_height  player_weight                      college country  \\\n",
       "0         198.12      99.790240  Southeastern Oklahoma State     USA   \n",
       "1         215.90     117.933920                      Florida     USA   \n",
       "2         205.74      95.254320                Detroit Mercy     USA   \n",
       "3         203.20     100.697424                         UCLA     USA   \n",
       "4         205.74     108.862080                    Villanova     USA   \n",
       "\n",
       "  draft_year  ...   reb  ast  net_rating  oreb_pct  dreb_pct  usg_pct  ts_pct  \\\n",
       "0       1986  ...  16.1  3.1        16.1     0.186     0.323    0.100   0.479   \n",
       "1       1990  ...   1.5  0.3        12.3     0.078     0.151    0.175   0.430   \n",
       "2       1979  ...   1.0  0.4        -2.1     0.105     0.102    0.103   0.376   \n",
       "3       1995  ...   2.3  0.6        -8.7     0.060     0.149    0.167   0.399   \n",
       "4       1985  ...   2.4  0.2       -11.2     0.109     0.179    0.127   0.611   \n",
       "\n",
       "   ast_pct   season  potential_player  \n",
       "0    0.113  1996-97                 0  \n",
       "1    0.048  1996-97                 0  \n",
       "2    0.148  1996-97                 0  \n",
       "3    0.077  1996-97                 0  \n",
       "4    0.040  1996-97                 0  \n",
       "\n",
       "[5 rows x 24 columns]"
      ]
     },
     "execution_count": 3,
     "metadata": {},
     "output_type": "execute_result"
    }
   ],
   "source": [
    "nba = pd.read_csv('D:/anaconda/pwd/modul3/data/nba_players.csv')\n",
    "nba.head()"
   ]
  },
  {
   "cell_type": "code",
   "execution_count": 4,
   "metadata": {},
   "outputs": [],
   "source": [
    "new = pd.read_csv('D:/anaconda/pwd/modul3/data/new_players.csv')"
   ]
  },
  {
   "cell_type": "code",
   "execution_count": 5,
   "metadata": {},
   "outputs": [
    {
     "data": {
      "text/html": [
       "<div>\n",
       "<style scoped>\n",
       "    .dataframe tbody tr th:only-of-type {\n",
       "        vertical-align: middle;\n",
       "    }\n",
       "\n",
       "    .dataframe tbody tr th {\n",
       "        vertical-align: top;\n",
       "    }\n",
       "\n",
       "    .dataframe thead th {\n",
       "        text-align: right;\n",
       "    }\n",
       "</style>\n",
       "<table border=\"1\" class=\"dataframe\">\n",
       "  <thead>\n",
       "    <tr style=\"text-align: right;\">\n",
       "      <th></th>\n",
       "      <th>Unnamed: 0</th>\n",
       "      <th>player_id</th>\n",
       "      <th>age</th>\n",
       "      <th>player_height</th>\n",
       "      <th>player_weight</th>\n",
       "      <th>college</th>\n",
       "      <th>country</th>\n",
       "      <th>gp</th>\n",
       "      <th>pts</th>\n",
       "      <th>reb</th>\n",
       "      <th>ast</th>\n",
       "      <th>net_rating</th>\n",
       "      <th>oreb_pct</th>\n",
       "      <th>dreb_pct</th>\n",
       "      <th>usg_pct</th>\n",
       "      <th>ts_pct</th>\n",
       "      <th>ast_pct</th>\n",
       "    </tr>\n",
       "  </thead>\n",
       "  <tbody>\n",
       "    <tr>\n",
       "      <th>0</th>\n",
       "      <td>0</td>\n",
       "      <td>1</td>\n",
       "      <td>37.0</td>\n",
       "      <td>205.74</td>\n",
       "      <td>104.326160</td>\n",
       "      <td>Texas Christian</td>\n",
       "      <td>USA</td>\n",
       "      <td>70</td>\n",
       "      <td>3.0</td>\n",
       "      <td>4.2</td>\n",
       "      <td>0.7</td>\n",
       "      <td>-5.2</td>\n",
       "      <td>0.084</td>\n",
       "      <td>0.237</td>\n",
       "      <td>0.114</td>\n",
       "      <td>0.489</td>\n",
       "      <td>0.069</td>\n",
       "    </tr>\n",
       "    <tr>\n",
       "      <th>1</th>\n",
       "      <td>1</td>\n",
       "      <td>2</td>\n",
       "      <td>33.0</td>\n",
       "      <td>160.02</td>\n",
       "      <td>63.956472</td>\n",
       "      <td>Wake Forest</td>\n",
       "      <td>USA</td>\n",
       "      <td>61</td>\n",
       "      <td>5.7</td>\n",
       "      <td>2.2</td>\n",
       "      <td>5.4</td>\n",
       "      <td>-8.4</td>\n",
       "      <td>0.020</td>\n",
       "      <td>0.074</td>\n",
       "      <td>0.129</td>\n",
       "      <td>0.492</td>\n",
       "      <td>0.344</td>\n",
       "    </tr>\n",
       "    <tr>\n",
       "      <th>2</th>\n",
       "      <td>2</td>\n",
       "      <td>3</td>\n",
       "      <td>27.0</td>\n",
       "      <td>193.04</td>\n",
       "      <td>95.254320</td>\n",
       "      <td>Indiana</td>\n",
       "      <td>USA</td>\n",
       "      <td>36</td>\n",
       "      <td>18.8</td>\n",
       "      <td>5.6</td>\n",
       "      <td>5.2</td>\n",
       "      <td>5.6</td>\n",
       "      <td>0.018</td>\n",
       "      <td>0.154</td>\n",
       "      <td>0.278</td>\n",
       "      <td>0.519</td>\n",
       "      <td>0.250</td>\n",
       "    </tr>\n",
       "    <tr>\n",
       "      <th>3</th>\n",
       "      <td>3</td>\n",
       "      <td>4</td>\n",
       "      <td>21.0</td>\n",
       "      <td>195.58</td>\n",
       "      <td>99.790240</td>\n",
       "      <td>Cincinnati</td>\n",
       "      <td>USA</td>\n",
       "      <td>42</td>\n",
       "      <td>2.5</td>\n",
       "      <td>1.3</td>\n",
       "      <td>1.1</td>\n",
       "      <td>-4.2</td>\n",
       "      <td>0.030</td>\n",
       "      <td>0.115</td>\n",
       "      <td>0.171</td>\n",
       "      <td>0.400</td>\n",
       "      <td>0.174</td>\n",
       "    </tr>\n",
       "    <tr>\n",
       "      <th>4</th>\n",
       "      <td>4</td>\n",
       "      <td>5</td>\n",
       "      <td>23.0</td>\n",
       "      <td>215.90</td>\n",
       "      <td>122.469840</td>\n",
       "      <td>None</td>\n",
       "      <td>USA</td>\n",
       "      <td>26</td>\n",
       "      <td>3.3</td>\n",
       "      <td>3.4</td>\n",
       "      <td>0.3</td>\n",
       "      <td>-7.8</td>\n",
       "      <td>0.069</td>\n",
       "      <td>0.221</td>\n",
       "      <td>0.112</td>\n",
       "      <td>0.551</td>\n",
       "      <td>0.037</td>\n",
       "    </tr>\n",
       "  </tbody>\n",
       "</table>\n",
       "</div>"
      ],
      "text/plain": [
       "   Unnamed: 0  player_id   age  player_height  player_weight          college  \\\n",
       "0           0          1  37.0         205.74     104.326160  Texas Christian   \n",
       "1           1          2  33.0         160.02      63.956472      Wake Forest   \n",
       "2           2          3  27.0         193.04      95.254320          Indiana   \n",
       "3           3          4  21.0         195.58      99.790240       Cincinnati   \n",
       "4           4          5  23.0         215.90     122.469840             None   \n",
       "\n",
       "  country  gp   pts  reb  ast  net_rating  oreb_pct  dreb_pct  usg_pct  \\\n",
       "0     USA  70   3.0  4.2  0.7        -5.2     0.084     0.237    0.114   \n",
       "1     USA  61   5.7  2.2  5.4        -8.4     0.020     0.074    0.129   \n",
       "2     USA  36  18.8  5.6  5.2         5.6     0.018     0.154    0.278   \n",
       "3     USA  42   2.5  1.3  1.1        -4.2     0.030     0.115    0.171   \n",
       "4     USA  26   3.3  3.4  0.3        -7.8     0.069     0.221    0.112   \n",
       "\n",
       "   ts_pct  ast_pct  \n",
       "0   0.489    0.069  \n",
       "1   0.492    0.344  \n",
       "2   0.519    0.250  \n",
       "3   0.400    0.174  \n",
       "4   0.551    0.037  "
      ]
     },
     "execution_count": 5,
     "metadata": {},
     "output_type": "execute_result"
    }
   ],
   "source": [
    "new.head()"
   ]
  },
  {
   "cell_type": "code",
   "execution_count": 6,
   "metadata": {},
   "outputs": [
    {
     "data": {
      "text/plain": [
       "Index(['Unnamed: 0', 'Unnamed: 0.1', 'player_name', 'team_abbreviation', 'age',\n",
       "       'player_height', 'player_weight', 'college', 'country', 'draft_year',\n",
       "       'draft_round', 'draft_number', 'gp', 'pts', 'reb', 'ast', 'net_rating',\n",
       "       'oreb_pct', 'dreb_pct', 'usg_pct', 'ts_pct', 'ast_pct', 'season',\n",
       "       'potential_player'],\n",
       "      dtype='object')"
      ]
     },
     "execution_count": 6,
     "metadata": {},
     "output_type": "execute_result"
    }
   ],
   "source": [
    "nba.columns"
   ]
  },
  {
   "cell_type": "code",
   "execution_count": 7,
   "metadata": {},
   "outputs": [
    {
     "data": {
      "text/plain": [
       "Index(['Unnamed: 0', 'player_id', 'age', 'player_height', 'player_weight',\n",
       "       'college', 'country', 'gp', 'pts', 'reb', 'ast', 'net_rating',\n",
       "       'oreb_pct', 'dreb_pct', 'usg_pct', 'ts_pct', 'ast_pct'],\n",
       "      dtype='object')"
      ]
     },
     "execution_count": 7,
     "metadata": {},
     "output_type": "execute_result"
    }
   ],
   "source": [
    "new.columns"
   ]
  },
  {
   "cell_type": "code",
   "execution_count": 8,
   "metadata": {},
   "outputs": [
    {
     "data": {
      "text/plain": [
       "Unnamed: 0           0\n",
       "Unnamed: 0.1         0\n",
       "player_name          0\n",
       "team_abbreviation    0\n",
       "age                  0\n",
       "player_height        0\n",
       "player_weight        0\n",
       "college              0\n",
       "country              0\n",
       "draft_year           0\n",
       "draft_round          0\n",
       "draft_number         0\n",
       "gp                   0\n",
       "pts                  0\n",
       "reb                  0\n",
       "ast                  0\n",
       "net_rating           0\n",
       "oreb_pct             0\n",
       "dreb_pct             0\n",
       "usg_pct              0\n",
       "ts_pct               0\n",
       "ast_pct              0\n",
       "season               0\n",
       "potential_player     0\n",
       "dtype: int64"
      ]
     },
     "execution_count": 8,
     "metadata": {},
     "output_type": "execute_result"
    }
   ],
   "source": [
    "nba.isna().sum()"
   ]
  },
  {
   "cell_type": "code",
   "execution_count": 9,
   "metadata": {},
   "outputs": [
    {
     "data": {
      "text/plain": [
       "Unnamed: 0       0\n",
       "player_id        0\n",
       "age              0\n",
       "player_height    0\n",
       "player_weight    0\n",
       "college          0\n",
       "country          0\n",
       "gp               0\n",
       "pts              0\n",
       "reb              0\n",
       "ast              0\n",
       "net_rating       0\n",
       "oreb_pct         0\n",
       "dreb_pct         0\n",
       "usg_pct          0\n",
       "ts_pct           0\n",
       "ast_pct          0\n",
       "dtype: int64"
      ]
     },
     "execution_count": 9,
     "metadata": {},
     "output_type": "execute_result"
    }
   ],
   "source": [
    "new.isna().sum()"
   ]
  },
  {
   "cell_type": "markdown",
   "metadata": {},
   "source": [
    "#### Tidakada null value"
   ]
  },
  {
   "cell_type": "code",
   "execution_count": 10,
   "metadata": {},
   "outputs": [
    {
     "data": {
      "text/html": [
       "<div>\n",
       "<style scoped>\n",
       "    .dataframe tbody tr th:only-of-type {\n",
       "        vertical-align: middle;\n",
       "    }\n",
       "\n",
       "    .dataframe tbody tr th {\n",
       "        vertical-align: top;\n",
       "    }\n",
       "\n",
       "    .dataframe thead th {\n",
       "        text-align: right;\n",
       "    }\n",
       "</style>\n",
       "<table border=\"1\" class=\"dataframe\">\n",
       "  <thead>\n",
       "    <tr style=\"text-align: right;\">\n",
       "      <th></th>\n",
       "      <th>Unnamed: 0</th>\n",
       "      <th>Unnamed: 0.1</th>\n",
       "      <th>age</th>\n",
       "      <th>player_height</th>\n",
       "      <th>player_weight</th>\n",
       "      <th>gp</th>\n",
       "      <th>pts</th>\n",
       "      <th>reb</th>\n",
       "      <th>ast</th>\n",
       "      <th>net_rating</th>\n",
       "      <th>oreb_pct</th>\n",
       "      <th>dreb_pct</th>\n",
       "      <th>usg_pct</th>\n",
       "      <th>ts_pct</th>\n",
       "      <th>ast_pct</th>\n",
       "      <th>potential_player</th>\n",
       "    </tr>\n",
       "  </thead>\n",
       "  <tbody>\n",
       "    <tr>\n",
       "      <th>count</th>\n",
       "      <td>11145.000000</td>\n",
       "      <td>11145.000000</td>\n",
       "      <td>11145.000000</td>\n",
       "      <td>11145.000000</td>\n",
       "      <td>11145.000000</td>\n",
       "      <td>11145.000000</td>\n",
       "      <td>11145.000000</td>\n",
       "      <td>11145.000000</td>\n",
       "      <td>11145.000000</td>\n",
       "      <td>11145.000000</td>\n",
       "      <td>11145.000000</td>\n",
       "      <td>11145.000000</td>\n",
       "      <td>11145.000000</td>\n",
       "      <td>11145.000000</td>\n",
       "      <td>11145.000000</td>\n",
       "      <td>11145.000000</td>\n",
       "    </tr>\n",
       "    <tr>\n",
       "      <th>mean</th>\n",
       "      <td>5572.000000</td>\n",
       "      <td>5572.000000</td>\n",
       "      <td>27.168686</td>\n",
       "      <td>200.812818</td>\n",
       "      <td>100.637868</td>\n",
       "      <td>52.005832</td>\n",
       "      <td>8.126487</td>\n",
       "      <td>3.560036</td>\n",
       "      <td>1.801463</td>\n",
       "      <td>-2.153899</td>\n",
       "      <td>0.055593</td>\n",
       "      <td>0.141772</td>\n",
       "      <td>0.185599</td>\n",
       "      <td>0.508099</td>\n",
       "      <td>0.131078</td>\n",
       "      <td>0.040825</td>\n",
       "    </tr>\n",
       "    <tr>\n",
       "      <th>std</th>\n",
       "      <td>3217.428709</td>\n",
       "      <td>3217.428709</td>\n",
       "      <td>4.344164</td>\n",
       "      <td>9.190973</td>\n",
       "      <td>12.576295</td>\n",
       "      <td>25.069495</td>\n",
       "      <td>5.935482</td>\n",
       "      <td>2.495394</td>\n",
       "      <td>1.789940</td>\n",
       "      <td>12.150611</td>\n",
       "      <td>0.043889</td>\n",
       "      <td>0.063194</td>\n",
       "      <td>0.053047</td>\n",
       "      <td>0.098879</td>\n",
       "      <td>0.095017</td>\n",
       "      <td>0.197895</td>\n",
       "    </tr>\n",
       "    <tr>\n",
       "      <th>min</th>\n",
       "      <td>0.000000</td>\n",
       "      <td>0.000000</td>\n",
       "      <td>18.000000</td>\n",
       "      <td>160.020000</td>\n",
       "      <td>60.327736</td>\n",
       "      <td>1.000000</td>\n",
       "      <td>0.000000</td>\n",
       "      <td>0.000000</td>\n",
       "      <td>0.000000</td>\n",
       "      <td>-200.000000</td>\n",
       "      <td>0.000000</td>\n",
       "      <td>0.000000</td>\n",
       "      <td>0.000000</td>\n",
       "      <td>0.000000</td>\n",
       "      <td>0.000000</td>\n",
       "      <td>0.000000</td>\n",
       "    </tr>\n",
       "    <tr>\n",
       "      <th>25%</th>\n",
       "      <td>2786.000000</td>\n",
       "      <td>2786.000000</td>\n",
       "      <td>24.000000</td>\n",
       "      <td>195.580000</td>\n",
       "      <td>90.718400</td>\n",
       "      <td>32.000000</td>\n",
       "      <td>3.500000</td>\n",
       "      <td>1.800000</td>\n",
       "      <td>0.600000</td>\n",
       "      <td>-6.300000</td>\n",
       "      <td>0.022000</td>\n",
       "      <td>0.096000</td>\n",
       "      <td>0.150000</td>\n",
       "      <td>0.478000</td>\n",
       "      <td>0.065000</td>\n",
       "      <td>0.000000</td>\n",
       "    </tr>\n",
       "    <tr>\n",
       "      <th>50%</th>\n",
       "      <td>5572.000000</td>\n",
       "      <td>5572.000000</td>\n",
       "      <td>27.000000</td>\n",
       "      <td>200.660000</td>\n",
       "      <td>99.790240</td>\n",
       "      <td>58.000000</td>\n",
       "      <td>6.600000</td>\n",
       "      <td>3.000000</td>\n",
       "      <td>1.200000</td>\n",
       "      <td>-1.300000</td>\n",
       "      <td>0.043000</td>\n",
       "      <td>0.132000</td>\n",
       "      <td>0.182000</td>\n",
       "      <td>0.521000</td>\n",
       "      <td>0.102000</td>\n",
       "      <td>0.000000</td>\n",
       "    </tr>\n",
       "    <tr>\n",
       "      <th>75%</th>\n",
       "      <td>8358.000000</td>\n",
       "      <td>8358.000000</td>\n",
       "      <td>30.000000</td>\n",
       "      <td>208.280000</td>\n",
       "      <td>109.315672</td>\n",
       "      <td>74.000000</td>\n",
       "      <td>11.500000</td>\n",
       "      <td>4.700000</td>\n",
       "      <td>2.400000</td>\n",
       "      <td>3.200000</td>\n",
       "      <td>0.086000</td>\n",
       "      <td>0.182000</td>\n",
       "      <td>0.218000</td>\n",
       "      <td>0.557000</td>\n",
       "      <td>0.178000</td>\n",
       "      <td>0.000000</td>\n",
       "    </tr>\n",
       "    <tr>\n",
       "      <th>max</th>\n",
       "      <td>11144.000000</td>\n",
       "      <td>11144.000000</td>\n",
       "      <td>44.000000</td>\n",
       "      <td>231.140000</td>\n",
       "      <td>163.293120</td>\n",
       "      <td>85.000000</td>\n",
       "      <td>36.100000</td>\n",
       "      <td>16.300000</td>\n",
       "      <td>11.700000</td>\n",
       "      <td>300.000000</td>\n",
       "      <td>1.000000</td>\n",
       "      <td>1.000000</td>\n",
       "      <td>1.000000</td>\n",
       "      <td>1.500000</td>\n",
       "      <td>1.000000</td>\n",
       "      <td>1.000000</td>\n",
       "    </tr>\n",
       "  </tbody>\n",
       "</table>\n",
       "</div>"
      ],
      "text/plain": [
       "         Unnamed: 0  Unnamed: 0.1           age  player_height  player_weight  \\\n",
       "count  11145.000000  11145.000000  11145.000000   11145.000000   11145.000000   \n",
       "mean    5572.000000   5572.000000     27.168686     200.812818     100.637868   \n",
       "std     3217.428709   3217.428709      4.344164       9.190973      12.576295   \n",
       "min        0.000000      0.000000     18.000000     160.020000      60.327736   \n",
       "25%     2786.000000   2786.000000     24.000000     195.580000      90.718400   \n",
       "50%     5572.000000   5572.000000     27.000000     200.660000      99.790240   \n",
       "75%     8358.000000   8358.000000     30.000000     208.280000     109.315672   \n",
       "max    11144.000000  11144.000000     44.000000     231.140000     163.293120   \n",
       "\n",
       "                 gp           pts           reb           ast    net_rating  \\\n",
       "count  11145.000000  11145.000000  11145.000000  11145.000000  11145.000000   \n",
       "mean      52.005832      8.126487      3.560036      1.801463     -2.153899   \n",
       "std       25.069495      5.935482      2.495394      1.789940     12.150611   \n",
       "min        1.000000      0.000000      0.000000      0.000000   -200.000000   \n",
       "25%       32.000000      3.500000      1.800000      0.600000     -6.300000   \n",
       "50%       58.000000      6.600000      3.000000      1.200000     -1.300000   \n",
       "75%       74.000000     11.500000      4.700000      2.400000      3.200000   \n",
       "max       85.000000     36.100000     16.300000     11.700000    300.000000   \n",
       "\n",
       "           oreb_pct      dreb_pct       usg_pct        ts_pct       ast_pct  \\\n",
       "count  11145.000000  11145.000000  11145.000000  11145.000000  11145.000000   \n",
       "mean       0.055593      0.141772      0.185599      0.508099      0.131078   \n",
       "std        0.043889      0.063194      0.053047      0.098879      0.095017   \n",
       "min        0.000000      0.000000      0.000000      0.000000      0.000000   \n",
       "25%        0.022000      0.096000      0.150000      0.478000      0.065000   \n",
       "50%        0.043000      0.132000      0.182000      0.521000      0.102000   \n",
       "75%        0.086000      0.182000      0.218000      0.557000      0.178000   \n",
       "max        1.000000      1.000000      1.000000      1.500000      1.000000   \n",
       "\n",
       "       potential_player  \n",
       "count      11145.000000  \n",
       "mean           0.040825  \n",
       "std            0.197895  \n",
       "min            0.000000  \n",
       "25%            0.000000  \n",
       "50%            0.000000  \n",
       "75%            0.000000  \n",
       "max            1.000000  "
      ]
     },
     "execution_count": 10,
     "metadata": {},
     "output_type": "execute_result"
    }
   ],
   "source": [
    "nba.describe()"
   ]
  },
  {
   "cell_type": "code",
   "execution_count": 11,
   "metadata": {},
   "outputs": [
    {
     "data": {
      "text/html": [
       "<div>\n",
       "<style scoped>\n",
       "    .dataframe tbody tr th:only-of-type {\n",
       "        vertical-align: middle;\n",
       "    }\n",
       "\n",
       "    .dataframe tbody tr th {\n",
       "        vertical-align: top;\n",
       "    }\n",
       "\n",
       "    .dataframe thead th {\n",
       "        text-align: right;\n",
       "    }\n",
       "</style>\n",
       "<table border=\"1\" class=\"dataframe\">\n",
       "  <thead>\n",
       "    <tr style=\"text-align: right;\">\n",
       "      <th></th>\n",
       "      <th>Unnamed: 0</th>\n",
       "      <th>player_id</th>\n",
       "      <th>age</th>\n",
       "      <th>player_height</th>\n",
       "      <th>player_weight</th>\n",
       "      <th>gp</th>\n",
       "      <th>pts</th>\n",
       "      <th>reb</th>\n",
       "      <th>ast</th>\n",
       "      <th>net_rating</th>\n",
       "      <th>oreb_pct</th>\n",
       "      <th>dreb_pct</th>\n",
       "      <th>usg_pct</th>\n",
       "      <th>ts_pct</th>\n",
       "      <th>ast_pct</th>\n",
       "    </tr>\n",
       "  </thead>\n",
       "  <tbody>\n",
       "    <tr>\n",
       "      <th>count</th>\n",
       "      <td>500.000000</td>\n",
       "      <td>500.000000</td>\n",
       "      <td>500.000000</td>\n",
       "      <td>500.000000</td>\n",
       "      <td>500.000000</td>\n",
       "      <td>500.000000</td>\n",
       "      <td>500.000000</td>\n",
       "      <td>500.00000</td>\n",
       "      <td>500.000000</td>\n",
       "      <td>500.000000</td>\n",
       "      <td>500.000000</td>\n",
       "      <td>500.000000</td>\n",
       "      <td>500.000000</td>\n",
       "      <td>500.000000</td>\n",
       "      <td>500.000000</td>\n",
       "    </tr>\n",
       "    <tr>\n",
       "      <th>mean</th>\n",
       "      <td>249.500000</td>\n",
       "      <td>250.500000</td>\n",
       "      <td>27.140000</td>\n",
       "      <td>201.077920</td>\n",
       "      <td>101.156741</td>\n",
       "      <td>53.246000</td>\n",
       "      <td>8.381200</td>\n",
       "      <td>3.60820</td>\n",
       "      <td>1.714200</td>\n",
       "      <td>-3.001400</td>\n",
       "      <td>0.054912</td>\n",
       "      <td>0.142798</td>\n",
       "      <td>0.188166</td>\n",
       "      <td>0.506756</td>\n",
       "      <td>0.125532</td>\n",
       "    </tr>\n",
       "    <tr>\n",
       "      <th>std</th>\n",
       "      <td>144.481833</td>\n",
       "      <td>144.481833</td>\n",
       "      <td>4.214252</td>\n",
       "      <td>9.351931</td>\n",
       "      <td>12.643817</td>\n",
       "      <td>25.219467</td>\n",
       "      <td>6.016088</td>\n",
       "      <td>2.38932</td>\n",
       "      <td>1.644539</td>\n",
       "      <td>11.786318</td>\n",
       "      <td>0.042551</td>\n",
       "      <td>0.058589</td>\n",
       "      <td>0.052081</td>\n",
       "      <td>0.102860</td>\n",
       "      <td>0.092083</td>\n",
       "    </tr>\n",
       "    <tr>\n",
       "      <th>min</th>\n",
       "      <td>0.000000</td>\n",
       "      <td>1.000000</td>\n",
       "      <td>19.000000</td>\n",
       "      <td>160.020000</td>\n",
       "      <td>60.327736</td>\n",
       "      <td>1.000000</td>\n",
       "      <td>0.000000</td>\n",
       "      <td>0.00000</td>\n",
       "      <td>0.000000</td>\n",
       "      <td>-96.100000</td>\n",
       "      <td>0.000000</td>\n",
       "      <td>0.000000</td>\n",
       "      <td>0.000000</td>\n",
       "      <td>0.000000</td>\n",
       "      <td>0.000000</td>\n",
       "    </tr>\n",
       "    <tr>\n",
       "      <th>25%</th>\n",
       "      <td>124.750000</td>\n",
       "      <td>125.750000</td>\n",
       "      <td>24.000000</td>\n",
       "      <td>195.580000</td>\n",
       "      <td>92.646166</td>\n",
       "      <td>33.000000</td>\n",
       "      <td>3.600000</td>\n",
       "      <td>1.87500</td>\n",
       "      <td>0.600000</td>\n",
       "      <td>-6.325000</td>\n",
       "      <td>0.021000</td>\n",
       "      <td>0.100000</td>\n",
       "      <td>0.154000</td>\n",
       "      <td>0.478000</td>\n",
       "      <td>0.063000</td>\n",
       "    </tr>\n",
       "    <tr>\n",
       "      <th>50%</th>\n",
       "      <td>249.500000</td>\n",
       "      <td>250.500000</td>\n",
       "      <td>27.000000</td>\n",
       "      <td>203.200000</td>\n",
       "      <td>99.790240</td>\n",
       "      <td>61.000000</td>\n",
       "      <td>7.100000</td>\n",
       "      <td>3.20000</td>\n",
       "      <td>1.200000</td>\n",
       "      <td>-2.050000</td>\n",
       "      <td>0.044500</td>\n",
       "      <td>0.133000</td>\n",
       "      <td>0.184500</td>\n",
       "      <td>0.524000</td>\n",
       "      <td>0.099000</td>\n",
       "    </tr>\n",
       "    <tr>\n",
       "      <th>75%</th>\n",
       "      <td>374.250000</td>\n",
       "      <td>375.250000</td>\n",
       "      <td>30.000000</td>\n",
       "      <td>208.280000</td>\n",
       "      <td>111.130040</td>\n",
       "      <td>75.250000</td>\n",
       "      <td>11.800000</td>\n",
       "      <td>4.80000</td>\n",
       "      <td>2.300000</td>\n",
       "      <td>2.700000</td>\n",
       "      <td>0.085000</td>\n",
       "      <td>0.180000</td>\n",
       "      <td>0.218000</td>\n",
       "      <td>0.557250</td>\n",
       "      <td>0.170000</td>\n",
       "    </tr>\n",
       "    <tr>\n",
       "      <th>max</th>\n",
       "      <td>499.000000</td>\n",
       "      <td>500.000000</td>\n",
       "      <td>40.000000</td>\n",
       "      <td>231.140000</td>\n",
       "      <td>137.438376</td>\n",
       "      <td>83.000000</td>\n",
       "      <td>31.400000</td>\n",
       "      <td>15.60000</td>\n",
       "      <td>9.700000</td>\n",
       "      <td>66.700000</td>\n",
       "      <td>0.360000</td>\n",
       "      <td>0.364000</td>\n",
       "      <td>0.500000</td>\n",
       "      <td>1.050000</td>\n",
       "      <td>0.667000</td>\n",
       "    </tr>\n",
       "  </tbody>\n",
       "</table>\n",
       "</div>"
      ],
      "text/plain": [
       "       Unnamed: 0   player_id         age  player_height  player_weight  \\\n",
       "count  500.000000  500.000000  500.000000     500.000000     500.000000   \n",
       "mean   249.500000  250.500000   27.140000     201.077920     101.156741   \n",
       "std    144.481833  144.481833    4.214252       9.351931      12.643817   \n",
       "min      0.000000    1.000000   19.000000     160.020000      60.327736   \n",
       "25%    124.750000  125.750000   24.000000     195.580000      92.646166   \n",
       "50%    249.500000  250.500000   27.000000     203.200000      99.790240   \n",
       "75%    374.250000  375.250000   30.000000     208.280000     111.130040   \n",
       "max    499.000000  500.000000   40.000000     231.140000     137.438376   \n",
       "\n",
       "               gp         pts        reb         ast  net_rating    oreb_pct  \\\n",
       "count  500.000000  500.000000  500.00000  500.000000  500.000000  500.000000   \n",
       "mean    53.246000    8.381200    3.60820    1.714200   -3.001400    0.054912   \n",
       "std     25.219467    6.016088    2.38932    1.644539   11.786318    0.042551   \n",
       "min      1.000000    0.000000    0.00000    0.000000  -96.100000    0.000000   \n",
       "25%     33.000000    3.600000    1.87500    0.600000   -6.325000    0.021000   \n",
       "50%     61.000000    7.100000    3.20000    1.200000   -2.050000    0.044500   \n",
       "75%     75.250000   11.800000    4.80000    2.300000    2.700000    0.085000   \n",
       "max     83.000000   31.400000   15.60000    9.700000   66.700000    0.360000   \n",
       "\n",
       "         dreb_pct     usg_pct      ts_pct     ast_pct  \n",
       "count  500.000000  500.000000  500.000000  500.000000  \n",
       "mean     0.142798    0.188166    0.506756    0.125532  \n",
       "std      0.058589    0.052081    0.102860    0.092083  \n",
       "min      0.000000    0.000000    0.000000    0.000000  \n",
       "25%      0.100000    0.154000    0.478000    0.063000  \n",
       "50%      0.133000    0.184500    0.524000    0.099000  \n",
       "75%      0.180000    0.218000    0.557250    0.170000  \n",
       "max      0.364000    0.500000    1.050000    0.667000  "
      ]
     },
     "execution_count": 11,
     "metadata": {},
     "output_type": "execute_result"
    }
   ],
   "source": [
    "new.describe()"
   ]
  },
  {
   "cell_type": "code",
   "execution_count": 12,
   "metadata": {},
   "outputs": [
    {
     "data": {
      "text/plain": [
       "Unnamed: 0             int64\n",
       "Unnamed: 0.1           int64\n",
       "player_name           object\n",
       "team_abbreviation     object\n",
       "age                  float64\n",
       "player_height        float64\n",
       "player_weight        float64\n",
       "college               object\n",
       "country               object\n",
       "draft_year            object\n",
       "draft_round           object\n",
       "draft_number          object\n",
       "gp                     int64\n",
       "pts                  float64\n",
       "reb                  float64\n",
       "ast                  float64\n",
       "net_rating           float64\n",
       "oreb_pct             float64\n",
       "dreb_pct             float64\n",
       "usg_pct              float64\n",
       "ts_pct               float64\n",
       "ast_pct              float64\n",
       "season                object\n",
       "potential_player       int64\n",
       "dtype: object"
      ]
     },
     "execution_count": 12,
     "metadata": {},
     "output_type": "execute_result"
    }
   ],
   "source": [
    "nba.dtypes"
   ]
  },
  {
   "cell_type": "code",
   "execution_count": 13,
   "metadata": {},
   "outputs": [
    {
     "data": {
      "text/plain": [
       "Unnamed: 0         int64\n",
       "player_id          int64\n",
       "age              float64\n",
       "player_height    float64\n",
       "player_weight    float64\n",
       "college           object\n",
       "country           object\n",
       "gp                 int64\n",
       "pts              float64\n",
       "reb              float64\n",
       "ast              float64\n",
       "net_rating       float64\n",
       "oreb_pct         float64\n",
       "dreb_pct         float64\n",
       "usg_pct          float64\n",
       "ts_pct           float64\n",
       "ast_pct          float64\n",
       "dtype: object"
      ]
     },
     "execution_count": 13,
     "metadata": {},
     "output_type": "execute_result"
    }
   ],
   "source": [
    "new.dtypes"
   ]
  },
  {
   "cell_type": "code",
   "execution_count": 14,
   "metadata": {},
   "outputs": [
    {
     "data": {
      "text/html": [
       "<div>\n",
       "<style scoped>\n",
       "    .dataframe tbody tr th:only-of-type {\n",
       "        vertical-align: middle;\n",
       "    }\n",
       "\n",
       "    .dataframe tbody tr th {\n",
       "        vertical-align: top;\n",
       "    }\n",
       "\n",
       "    .dataframe thead th {\n",
       "        text-align: right;\n",
       "    }\n",
       "</style>\n",
       "<table border=\"1\" class=\"dataframe\">\n",
       "  <thead>\n",
       "    <tr style=\"text-align: right;\">\n",
       "      <th></th>\n",
       "      <th>Unnamed: 0</th>\n",
       "      <th>Unnamed: 0.1</th>\n",
       "      <th>age</th>\n",
       "      <th>player_height</th>\n",
       "      <th>player_weight</th>\n",
       "      <th>gp</th>\n",
       "      <th>pts</th>\n",
       "      <th>reb</th>\n",
       "      <th>ast</th>\n",
       "      <th>net_rating</th>\n",
       "      <th>oreb_pct</th>\n",
       "      <th>dreb_pct</th>\n",
       "      <th>usg_pct</th>\n",
       "      <th>ts_pct</th>\n",
       "      <th>ast_pct</th>\n",
       "      <th>potential_player</th>\n",
       "    </tr>\n",
       "  </thead>\n",
       "  <tbody>\n",
       "    <tr>\n",
       "      <th>Unnamed: 0</th>\n",
       "      <td>1.000000</td>\n",
       "      <td>1.000000</td>\n",
       "      <td>-0.123543</td>\n",
       "      <td>-0.026447</td>\n",
       "      <td>-0.047329</td>\n",
       "      <td>-0.045959</td>\n",
       "      <td>0.034429</td>\n",
       "      <td>-0.001385</td>\n",
       "      <td>0.013879</td>\n",
       "      <td>0.011620</td>\n",
       "      <td>-0.148041</td>\n",
       "      <td>0.026208</td>\n",
       "      <td>-0.034313</td>\n",
       "      <td>0.119268</td>\n",
       "      <td>-0.007876</td>\n",
       "      <td>0.028590</td>\n",
       "    </tr>\n",
       "    <tr>\n",
       "      <th>Unnamed: 0.1</th>\n",
       "      <td>1.000000</td>\n",
       "      <td>1.000000</td>\n",
       "      <td>-0.123543</td>\n",
       "      <td>-0.026447</td>\n",
       "      <td>-0.047329</td>\n",
       "      <td>-0.045959</td>\n",
       "      <td>0.034429</td>\n",
       "      <td>-0.001385</td>\n",
       "      <td>0.013879</td>\n",
       "      <td>0.011620</td>\n",
       "      <td>-0.148041</td>\n",
       "      <td>0.026208</td>\n",
       "      <td>-0.034313</td>\n",
       "      <td>0.119268</td>\n",
       "      <td>-0.007876</td>\n",
       "      <td>0.028590</td>\n",
       "    </tr>\n",
       "    <tr>\n",
       "      <th>age</th>\n",
       "      <td>-0.123543</td>\n",
       "      <td>-0.123543</td>\n",
       "      <td>1.000000</td>\n",
       "      <td>-0.013981</td>\n",
       "      <td>0.046904</td>\n",
       "      <td>0.046221</td>\n",
       "      <td>-0.000810</td>\n",
       "      <td>0.028319</td>\n",
       "      <td>0.083695</td>\n",
       "      <td>0.088161</td>\n",
       "      <td>-0.064672</td>\n",
       "      <td>0.012451</td>\n",
       "      <td>-0.133839</td>\n",
       "      <td>0.025627</td>\n",
       "      <td>0.063037</td>\n",
       "      <td>0.009211</td>\n",
       "    </tr>\n",
       "    <tr>\n",
       "      <th>player_height</th>\n",
       "      <td>-0.026447</td>\n",
       "      <td>-0.026447</td>\n",
       "      <td>-0.013981</td>\n",
       "      <td>1.000000</td>\n",
       "      <td>0.829901</td>\n",
       "      <td>-0.005844</td>\n",
       "      <td>-0.059748</td>\n",
       "      <td>0.422547</td>\n",
       "      <td>-0.463908</td>\n",
       "      <td>-0.009260</td>\n",
       "      <td>0.589033</td>\n",
       "      <td>0.614650</td>\n",
       "      <td>-0.110438</td>\n",
       "      <td>0.069810</td>\n",
       "      <td>-0.632000</td>\n",
       "      <td>-0.085887</td>\n",
       "    </tr>\n",
       "    <tr>\n",
       "      <th>player_weight</th>\n",
       "      <td>-0.047329</td>\n",
       "      <td>-0.047329</td>\n",
       "      <td>0.046904</td>\n",
       "      <td>0.829901</td>\n",
       "      <td>1.000000</td>\n",
       "      <td>0.009308</td>\n",
       "      <td>-0.032130</td>\n",
       "      <td>0.436762</td>\n",
       "      <td>-0.395356</td>\n",
       "      <td>-0.000503</td>\n",
       "      <td>0.603258</td>\n",
       "      <td>0.606327</td>\n",
       "      <td>-0.074495</td>\n",
       "      <td>0.060416</td>\n",
       "      <td>-0.547488</td>\n",
       "      <td>-0.062429</td>\n",
       "    </tr>\n",
       "    <tr>\n",
       "      <th>gp</th>\n",
       "      <td>-0.045959</td>\n",
       "      <td>-0.045959</td>\n",
       "      <td>0.046221</td>\n",
       "      <td>-0.005844</td>\n",
       "      <td>0.009308</td>\n",
       "      <td>1.000000</td>\n",
       "      <td>0.543846</td>\n",
       "      <td>0.471562</td>\n",
       "      <td>0.388840</td>\n",
       "      <td>0.251260</td>\n",
       "      <td>-0.021649</td>\n",
       "      <td>0.060702</td>\n",
       "      <td>0.138119</td>\n",
       "      <td>0.389950</td>\n",
       "      <td>0.134544</td>\n",
       "      <td>0.141288</td>\n",
       "    </tr>\n",
       "    <tr>\n",
       "      <th>pts</th>\n",
       "      <td>0.034429</td>\n",
       "      <td>0.034429</td>\n",
       "      <td>-0.000810</td>\n",
       "      <td>-0.059748</td>\n",
       "      <td>-0.032130</td>\n",
       "      <td>0.543846</td>\n",
       "      <td>1.000000</td>\n",
       "      <td>0.623909</td>\n",
       "      <td>0.652098</td>\n",
       "      <td>0.217883</td>\n",
       "      <td>-0.121267</td>\n",
       "      <td>0.048110</td>\n",
       "      <td>0.633110</td>\n",
       "      <td>0.382417</td>\n",
       "      <td>0.322214</td>\n",
       "      <td>0.421311</td>\n",
       "    </tr>\n",
       "    <tr>\n",
       "      <th>reb</th>\n",
       "      <td>-0.001385</td>\n",
       "      <td>-0.001385</td>\n",
       "      <td>0.028319</td>\n",
       "      <td>0.422547</td>\n",
       "      <td>0.436762</td>\n",
       "      <td>0.471562</td>\n",
       "      <td>0.623909</td>\n",
       "      <td>1.000000</td>\n",
       "      <td>0.224217</td>\n",
       "      <td>0.190416</td>\n",
       "      <td>0.411597</td>\n",
       "      <td>0.606899</td>\n",
       "      <td>0.221804</td>\n",
       "      <td>0.314563</td>\n",
       "      <td>-0.087725</td>\n",
       "      <td>0.201826</td>\n",
       "    </tr>\n",
       "    <tr>\n",
       "      <th>ast</th>\n",
       "      <td>0.013879</td>\n",
       "      <td>0.013879</td>\n",
       "      <td>0.083695</td>\n",
       "      <td>-0.463908</td>\n",
       "      <td>-0.395356</td>\n",
       "      <td>0.388840</td>\n",
       "      <td>0.652098</td>\n",
       "      <td>0.224217</td>\n",
       "      <td>1.000000</td>\n",
       "      <td>0.165236</td>\n",
       "      <td>-0.349217</td>\n",
       "      <td>-0.215141</td>\n",
       "      <td>0.378803</td>\n",
       "      <td>0.180234</td>\n",
       "      <td>0.802008</td>\n",
       "      <td>0.503401</td>\n",
       "    </tr>\n",
       "    <tr>\n",
       "      <th>net_rating</th>\n",
       "      <td>0.011620</td>\n",
       "      <td>0.011620</td>\n",
       "      <td>0.088161</td>\n",
       "      <td>-0.009260</td>\n",
       "      <td>-0.000503</td>\n",
       "      <td>0.251260</td>\n",
       "      <td>0.217883</td>\n",
       "      <td>0.190416</td>\n",
       "      <td>0.165236</td>\n",
       "      <td>1.000000</td>\n",
       "      <td>0.056177</td>\n",
       "      <td>0.036148</td>\n",
       "      <td>-0.004305</td>\n",
       "      <td>0.309536</td>\n",
       "      <td>0.060158</td>\n",
       "      <td>0.089950</td>\n",
       "    </tr>\n",
       "    <tr>\n",
       "      <th>oreb_pct</th>\n",
       "      <td>-0.148041</td>\n",
       "      <td>-0.148041</td>\n",
       "      <td>-0.064672</td>\n",
       "      <td>0.589033</td>\n",
       "      <td>0.603258</td>\n",
       "      <td>-0.021649</td>\n",
       "      <td>-0.121267</td>\n",
       "      <td>0.411597</td>\n",
       "      <td>-0.349217</td>\n",
       "      <td>0.056177</td>\n",
       "      <td>1.000000</td>\n",
       "      <td>0.552462</td>\n",
       "      <td>-0.102698</td>\n",
       "      <td>0.066285</td>\n",
       "      <td>-0.443269</td>\n",
       "      <td>-0.083355</td>\n",
       "    </tr>\n",
       "    <tr>\n",
       "      <th>dreb_pct</th>\n",
       "      <td>0.026208</td>\n",
       "      <td>0.026208</td>\n",
       "      <td>0.012451</td>\n",
       "      <td>0.614650</td>\n",
       "      <td>0.606327</td>\n",
       "      <td>0.060702</td>\n",
       "      <td>0.048110</td>\n",
       "      <td>0.606899</td>\n",
       "      <td>-0.215141</td>\n",
       "      <td>0.036148</td>\n",
       "      <td>0.552462</td>\n",
       "      <td>1.000000</td>\n",
       "      <td>-0.028883</td>\n",
       "      <td>0.098745</td>\n",
       "      <td>-0.346278</td>\n",
       "      <td>0.015748</td>\n",
       "    </tr>\n",
       "    <tr>\n",
       "      <th>usg_pct</th>\n",
       "      <td>-0.034313</td>\n",
       "      <td>-0.034313</td>\n",
       "      <td>-0.133839</td>\n",
       "      <td>-0.110438</td>\n",
       "      <td>-0.074495</td>\n",
       "      <td>0.138119</td>\n",
       "      <td>0.633110</td>\n",
       "      <td>0.221804</td>\n",
       "      <td>0.378803</td>\n",
       "      <td>-0.004305</td>\n",
       "      <td>-0.102698</td>\n",
       "      <td>-0.028883</td>\n",
       "      <td>1.000000</td>\n",
       "      <td>0.129526</td>\n",
       "      <td>0.316895</td>\n",
       "      <td>0.303417</td>\n",
       "    </tr>\n",
       "    <tr>\n",
       "      <th>ts_pct</th>\n",
       "      <td>0.119268</td>\n",
       "      <td>0.119268</td>\n",
       "      <td>0.025627</td>\n",
       "      <td>0.069810</td>\n",
       "      <td>0.060416</td>\n",
       "      <td>0.389950</td>\n",
       "      <td>0.382417</td>\n",
       "      <td>0.314563</td>\n",
       "      <td>0.180234</td>\n",
       "      <td>0.309536</td>\n",
       "      <td>0.066285</td>\n",
       "      <td>0.098745</td>\n",
       "      <td>0.129526</td>\n",
       "      <td>1.000000</td>\n",
       "      <td>0.023630</td>\n",
       "      <td>0.084824</td>\n",
       "    </tr>\n",
       "    <tr>\n",
       "      <th>ast_pct</th>\n",
       "      <td>-0.007876</td>\n",
       "      <td>-0.007876</td>\n",
       "      <td>0.063037</td>\n",
       "      <td>-0.632000</td>\n",
       "      <td>-0.547488</td>\n",
       "      <td>0.134544</td>\n",
       "      <td>0.322214</td>\n",
       "      <td>-0.087725</td>\n",
       "      <td>0.802008</td>\n",
       "      <td>0.060158</td>\n",
       "      <td>-0.443269</td>\n",
       "      <td>-0.346278</td>\n",
       "      <td>0.316895</td>\n",
       "      <td>0.023630</td>\n",
       "      <td>1.000000</td>\n",
       "      <td>0.344517</td>\n",
       "    </tr>\n",
       "    <tr>\n",
       "      <th>potential_player</th>\n",
       "      <td>0.028590</td>\n",
       "      <td>0.028590</td>\n",
       "      <td>0.009211</td>\n",
       "      <td>-0.085887</td>\n",
       "      <td>-0.062429</td>\n",
       "      <td>0.141288</td>\n",
       "      <td>0.421311</td>\n",
       "      <td>0.201826</td>\n",
       "      <td>0.503401</td>\n",
       "      <td>0.089950</td>\n",
       "      <td>-0.083355</td>\n",
       "      <td>0.015748</td>\n",
       "      <td>0.303417</td>\n",
       "      <td>0.084824</td>\n",
       "      <td>0.344517</td>\n",
       "      <td>1.000000</td>\n",
       "    </tr>\n",
       "  </tbody>\n",
       "</table>\n",
       "</div>"
      ],
      "text/plain": [
       "                  Unnamed: 0  Unnamed: 0.1       age  player_height  \\\n",
       "Unnamed: 0          1.000000      1.000000 -0.123543      -0.026447   \n",
       "Unnamed: 0.1        1.000000      1.000000 -0.123543      -0.026447   \n",
       "age                -0.123543     -0.123543  1.000000      -0.013981   \n",
       "player_height      -0.026447     -0.026447 -0.013981       1.000000   \n",
       "player_weight      -0.047329     -0.047329  0.046904       0.829901   \n",
       "gp                 -0.045959     -0.045959  0.046221      -0.005844   \n",
       "pts                 0.034429      0.034429 -0.000810      -0.059748   \n",
       "reb                -0.001385     -0.001385  0.028319       0.422547   \n",
       "ast                 0.013879      0.013879  0.083695      -0.463908   \n",
       "net_rating          0.011620      0.011620  0.088161      -0.009260   \n",
       "oreb_pct           -0.148041     -0.148041 -0.064672       0.589033   \n",
       "dreb_pct            0.026208      0.026208  0.012451       0.614650   \n",
       "usg_pct            -0.034313     -0.034313 -0.133839      -0.110438   \n",
       "ts_pct              0.119268      0.119268  0.025627       0.069810   \n",
       "ast_pct            -0.007876     -0.007876  0.063037      -0.632000   \n",
       "potential_player    0.028590      0.028590  0.009211      -0.085887   \n",
       "\n",
       "                  player_weight        gp       pts       reb       ast  \\\n",
       "Unnamed: 0            -0.047329 -0.045959  0.034429 -0.001385  0.013879   \n",
       "Unnamed: 0.1          -0.047329 -0.045959  0.034429 -0.001385  0.013879   \n",
       "age                    0.046904  0.046221 -0.000810  0.028319  0.083695   \n",
       "player_height          0.829901 -0.005844 -0.059748  0.422547 -0.463908   \n",
       "player_weight          1.000000  0.009308 -0.032130  0.436762 -0.395356   \n",
       "gp                     0.009308  1.000000  0.543846  0.471562  0.388840   \n",
       "pts                   -0.032130  0.543846  1.000000  0.623909  0.652098   \n",
       "reb                    0.436762  0.471562  0.623909  1.000000  0.224217   \n",
       "ast                   -0.395356  0.388840  0.652098  0.224217  1.000000   \n",
       "net_rating            -0.000503  0.251260  0.217883  0.190416  0.165236   \n",
       "oreb_pct               0.603258 -0.021649 -0.121267  0.411597 -0.349217   \n",
       "dreb_pct               0.606327  0.060702  0.048110  0.606899 -0.215141   \n",
       "usg_pct               -0.074495  0.138119  0.633110  0.221804  0.378803   \n",
       "ts_pct                 0.060416  0.389950  0.382417  0.314563  0.180234   \n",
       "ast_pct               -0.547488  0.134544  0.322214 -0.087725  0.802008   \n",
       "potential_player      -0.062429  0.141288  0.421311  0.201826  0.503401   \n",
       "\n",
       "                  net_rating  oreb_pct  dreb_pct   usg_pct    ts_pct  \\\n",
       "Unnamed: 0          0.011620 -0.148041  0.026208 -0.034313  0.119268   \n",
       "Unnamed: 0.1        0.011620 -0.148041  0.026208 -0.034313  0.119268   \n",
       "age                 0.088161 -0.064672  0.012451 -0.133839  0.025627   \n",
       "player_height      -0.009260  0.589033  0.614650 -0.110438  0.069810   \n",
       "player_weight      -0.000503  0.603258  0.606327 -0.074495  0.060416   \n",
       "gp                  0.251260 -0.021649  0.060702  0.138119  0.389950   \n",
       "pts                 0.217883 -0.121267  0.048110  0.633110  0.382417   \n",
       "reb                 0.190416  0.411597  0.606899  0.221804  0.314563   \n",
       "ast                 0.165236 -0.349217 -0.215141  0.378803  0.180234   \n",
       "net_rating          1.000000  0.056177  0.036148 -0.004305  0.309536   \n",
       "oreb_pct            0.056177  1.000000  0.552462 -0.102698  0.066285   \n",
       "dreb_pct            0.036148  0.552462  1.000000 -0.028883  0.098745   \n",
       "usg_pct            -0.004305 -0.102698 -0.028883  1.000000  0.129526   \n",
       "ts_pct              0.309536  0.066285  0.098745  0.129526  1.000000   \n",
       "ast_pct             0.060158 -0.443269 -0.346278  0.316895  0.023630   \n",
       "potential_player    0.089950 -0.083355  0.015748  0.303417  0.084824   \n",
       "\n",
       "                   ast_pct  potential_player  \n",
       "Unnamed: 0       -0.007876          0.028590  \n",
       "Unnamed: 0.1     -0.007876          0.028590  \n",
       "age               0.063037          0.009211  \n",
       "player_height    -0.632000         -0.085887  \n",
       "player_weight    -0.547488         -0.062429  \n",
       "gp                0.134544          0.141288  \n",
       "pts               0.322214          0.421311  \n",
       "reb              -0.087725          0.201826  \n",
       "ast               0.802008          0.503401  \n",
       "net_rating        0.060158          0.089950  \n",
       "oreb_pct         -0.443269         -0.083355  \n",
       "dreb_pct         -0.346278          0.015748  \n",
       "usg_pct           0.316895          0.303417  \n",
       "ts_pct            0.023630          0.084824  \n",
       "ast_pct           1.000000          0.344517  \n",
       "potential_player  0.344517          1.000000  "
      ]
     },
     "execution_count": 14,
     "metadata": {},
     "output_type": "execute_result"
    }
   ],
   "source": [
    "# cek multicoll\n",
    "nba.corr()"
   ]
  },
  {
   "cell_type": "code",
   "execution_count": 15,
   "metadata": {},
   "outputs": [
    {
     "data": {
      "text/html": [
       "<div>\n",
       "<style scoped>\n",
       "    .dataframe tbody tr th:only-of-type {\n",
       "        vertical-align: middle;\n",
       "    }\n",
       "\n",
       "    .dataframe tbody tr th {\n",
       "        vertical-align: top;\n",
       "    }\n",
       "\n",
       "    .dataframe thead th {\n",
       "        text-align: right;\n",
       "    }\n",
       "</style>\n",
       "<table border=\"1\" class=\"dataframe\">\n",
       "  <thead>\n",
       "    <tr style=\"text-align: right;\">\n",
       "      <th></th>\n",
       "      <th>Unnamed: 0</th>\n",
       "      <th>player_id</th>\n",
       "      <th>age</th>\n",
       "      <th>player_height</th>\n",
       "      <th>player_weight</th>\n",
       "      <th>gp</th>\n",
       "      <th>pts</th>\n",
       "      <th>reb</th>\n",
       "      <th>ast</th>\n",
       "      <th>net_rating</th>\n",
       "      <th>oreb_pct</th>\n",
       "      <th>dreb_pct</th>\n",
       "      <th>usg_pct</th>\n",
       "      <th>ts_pct</th>\n",
       "      <th>ast_pct</th>\n",
       "    </tr>\n",
       "  </thead>\n",
       "  <tbody>\n",
       "    <tr>\n",
       "      <th>Unnamed: 0</th>\n",
       "      <td>1.000000</td>\n",
       "      <td>1.000000</td>\n",
       "      <td>-0.047710</td>\n",
       "      <td>0.108106</td>\n",
       "      <td>0.109595</td>\n",
       "      <td>0.064789</td>\n",
       "      <td>0.033387</td>\n",
       "      <td>0.119152</td>\n",
       "      <td>-0.025562</td>\n",
       "      <td>0.090118</td>\n",
       "      <td>0.081497</td>\n",
       "      <td>0.057965</td>\n",
       "      <td>-0.016323</td>\n",
       "      <td>0.048635</td>\n",
       "      <td>-0.102703</td>\n",
       "    </tr>\n",
       "    <tr>\n",
       "      <th>player_id</th>\n",
       "      <td>1.000000</td>\n",
       "      <td>1.000000</td>\n",
       "      <td>-0.047710</td>\n",
       "      <td>0.108106</td>\n",
       "      <td>0.109595</td>\n",
       "      <td>0.064789</td>\n",
       "      <td>0.033387</td>\n",
       "      <td>0.119152</td>\n",
       "      <td>-0.025562</td>\n",
       "      <td>0.090118</td>\n",
       "      <td>0.081497</td>\n",
       "      <td>0.057965</td>\n",
       "      <td>-0.016323</td>\n",
       "      <td>0.048635</td>\n",
       "      <td>-0.102703</td>\n",
       "    </tr>\n",
       "    <tr>\n",
       "      <th>age</th>\n",
       "      <td>-0.047710</td>\n",
       "      <td>-0.047710</td>\n",
       "      <td>1.000000</td>\n",
       "      <td>-0.096787</td>\n",
       "      <td>-0.048219</td>\n",
       "      <td>0.001957</td>\n",
       "      <td>-0.051954</td>\n",
       "      <td>-0.053751</td>\n",
       "      <td>0.100629</td>\n",
       "      <td>0.056767</td>\n",
       "      <td>-0.108937</td>\n",
       "      <td>-0.049281</td>\n",
       "      <td>-0.191482</td>\n",
       "      <td>0.012654</td>\n",
       "      <td>0.091874</td>\n",
       "    </tr>\n",
       "    <tr>\n",
       "      <th>player_height</th>\n",
       "      <td>0.108106</td>\n",
       "      <td>0.108106</td>\n",
       "      <td>-0.096787</td>\n",
       "      <td>1.000000</td>\n",
       "      <td>0.836025</td>\n",
       "      <td>0.032664</td>\n",
       "      <td>-0.090696</td>\n",
       "      <td>0.394947</td>\n",
       "      <td>-0.508427</td>\n",
       "      <td>-0.040475</td>\n",
       "      <td>0.606111</td>\n",
       "      <td>0.626527</td>\n",
       "      <td>-0.104722</td>\n",
       "      <td>0.023441</td>\n",
       "      <td>-0.647083</td>\n",
       "    </tr>\n",
       "    <tr>\n",
       "      <th>player_weight</th>\n",
       "      <td>0.109595</td>\n",
       "      <td>0.109595</td>\n",
       "      <td>-0.048219</td>\n",
       "      <td>0.836025</td>\n",
       "      <td>1.000000</td>\n",
       "      <td>0.084623</td>\n",
       "      <td>-0.061090</td>\n",
       "      <td>0.416620</td>\n",
       "      <td>-0.441709</td>\n",
       "      <td>-0.043184</td>\n",
       "      <td>0.627947</td>\n",
       "      <td>0.630275</td>\n",
       "      <td>-0.063858</td>\n",
       "      <td>0.026593</td>\n",
       "      <td>-0.581076</td>\n",
       "    </tr>\n",
       "    <tr>\n",
       "      <th>gp</th>\n",
       "      <td>0.064789</td>\n",
       "      <td>0.064789</td>\n",
       "      <td>0.001957</td>\n",
       "      <td>0.032664</td>\n",
       "      <td>0.084623</td>\n",
       "      <td>1.000000</td>\n",
       "      <td>0.538104</td>\n",
       "      <td>0.490857</td>\n",
       "      <td>0.369388</td>\n",
       "      <td>0.381061</td>\n",
       "      <td>0.050006</td>\n",
       "      <td>0.108504</td>\n",
       "      <td>0.130989</td>\n",
       "      <td>0.461727</td>\n",
       "      <td>0.087846</td>\n",
       "    </tr>\n",
       "    <tr>\n",
       "      <th>pts</th>\n",
       "      <td>0.033387</td>\n",
       "      <td>0.033387</td>\n",
       "      <td>-0.051954</td>\n",
       "      <td>-0.090696</td>\n",
       "      <td>-0.061090</td>\n",
       "      <td>0.538104</td>\n",
       "      <td>1.000000</td>\n",
       "      <td>0.639141</td>\n",
       "      <td>0.640445</td>\n",
       "      <td>0.319315</td>\n",
       "      <td>-0.118341</td>\n",
       "      <td>0.033620</td>\n",
       "      <td>0.602534</td>\n",
       "      <td>0.406234</td>\n",
       "      <td>0.255818</td>\n",
       "    </tr>\n",
       "    <tr>\n",
       "      <th>reb</th>\n",
       "      <td>0.119152</td>\n",
       "      <td>0.119152</td>\n",
       "      <td>-0.053751</td>\n",
       "      <td>0.394947</td>\n",
       "      <td>0.416620</td>\n",
       "      <td>0.490857</td>\n",
       "      <td>0.639141</td>\n",
       "      <td>1.000000</td>\n",
       "      <td>0.201833</td>\n",
       "      <td>0.267918</td>\n",
       "      <td>0.413371</td>\n",
       "      <td>0.611569</td>\n",
       "      <td>0.224197</td>\n",
       "      <td>0.316342</td>\n",
       "      <td>-0.138100</td>\n",
       "    </tr>\n",
       "    <tr>\n",
       "      <th>ast</th>\n",
       "      <td>-0.025562</td>\n",
       "      <td>-0.025562</td>\n",
       "      <td>0.100629</td>\n",
       "      <td>-0.508427</td>\n",
       "      <td>-0.441709</td>\n",
       "      <td>0.369388</td>\n",
       "      <td>0.640445</td>\n",
       "      <td>0.201833</td>\n",
       "      <td>1.000000</td>\n",
       "      <td>0.248756</td>\n",
       "      <td>-0.372985</td>\n",
       "      <td>-0.254535</td>\n",
       "      <td>0.333462</td>\n",
       "      <td>0.213400</td>\n",
       "      <td>0.766479</td>\n",
       "    </tr>\n",
       "    <tr>\n",
       "      <th>net_rating</th>\n",
       "      <td>0.090118</td>\n",
       "      <td>0.090118</td>\n",
       "      <td>0.056767</td>\n",
       "      <td>-0.040475</td>\n",
       "      <td>-0.043184</td>\n",
       "      <td>0.381061</td>\n",
       "      <td>0.319315</td>\n",
       "      <td>0.267918</td>\n",
       "      <td>0.248756</td>\n",
       "      <td>1.000000</td>\n",
       "      <td>0.022756</td>\n",
       "      <td>0.010932</td>\n",
       "      <td>-0.062429</td>\n",
       "      <td>0.405644</td>\n",
       "      <td>0.099211</td>\n",
       "    </tr>\n",
       "    <tr>\n",
       "      <th>oreb_pct</th>\n",
       "      <td>0.081497</td>\n",
       "      <td>0.081497</td>\n",
       "      <td>-0.108937</td>\n",
       "      <td>0.606111</td>\n",
       "      <td>0.627947</td>\n",
       "      <td>0.050006</td>\n",
       "      <td>-0.118341</td>\n",
       "      <td>0.413371</td>\n",
       "      <td>-0.372985</td>\n",
       "      <td>0.022756</td>\n",
       "      <td>1.000000</td>\n",
       "      <td>0.629523</td>\n",
       "      <td>-0.083527</td>\n",
       "      <td>0.051582</td>\n",
       "      <td>-0.459658</td>\n",
       "    </tr>\n",
       "    <tr>\n",
       "      <th>dreb_pct</th>\n",
       "      <td>0.057965</td>\n",
       "      <td>0.057965</td>\n",
       "      <td>-0.049281</td>\n",
       "      <td>0.626527</td>\n",
       "      <td>0.630275</td>\n",
       "      <td>0.108504</td>\n",
       "      <td>0.033620</td>\n",
       "      <td>0.611569</td>\n",
       "      <td>-0.254535</td>\n",
       "      <td>0.010932</td>\n",
       "      <td>0.629523</td>\n",
       "      <td>1.000000</td>\n",
       "      <td>-0.067092</td>\n",
       "      <td>0.123658</td>\n",
       "      <td>-0.363265</td>\n",
       "    </tr>\n",
       "    <tr>\n",
       "      <th>usg_pct</th>\n",
       "      <td>-0.016323</td>\n",
       "      <td>-0.016323</td>\n",
       "      <td>-0.191482</td>\n",
       "      <td>-0.104722</td>\n",
       "      <td>-0.063858</td>\n",
       "      <td>0.130989</td>\n",
       "      <td>0.602534</td>\n",
       "      <td>0.224197</td>\n",
       "      <td>0.333462</td>\n",
       "      <td>-0.062429</td>\n",
       "      <td>-0.083527</td>\n",
       "      <td>-0.067092</td>\n",
       "      <td>1.000000</td>\n",
       "      <td>0.008388</td>\n",
       "      <td>0.186708</td>\n",
       "    </tr>\n",
       "    <tr>\n",
       "      <th>ts_pct</th>\n",
       "      <td>0.048635</td>\n",
       "      <td>0.048635</td>\n",
       "      <td>0.012654</td>\n",
       "      <td>0.023441</td>\n",
       "      <td>0.026593</td>\n",
       "      <td>0.461727</td>\n",
       "      <td>0.406234</td>\n",
       "      <td>0.316342</td>\n",
       "      <td>0.213400</td>\n",
       "      <td>0.405644</td>\n",
       "      <td>0.051582</td>\n",
       "      <td>0.123658</td>\n",
       "      <td>0.008388</td>\n",
       "      <td>1.000000</td>\n",
       "      <td>-0.010263</td>\n",
       "    </tr>\n",
       "    <tr>\n",
       "      <th>ast_pct</th>\n",
       "      <td>-0.102703</td>\n",
       "      <td>-0.102703</td>\n",
       "      <td>0.091874</td>\n",
       "      <td>-0.647083</td>\n",
       "      <td>-0.581076</td>\n",
       "      <td>0.087846</td>\n",
       "      <td>0.255818</td>\n",
       "      <td>-0.138100</td>\n",
       "      <td>0.766479</td>\n",
       "      <td>0.099211</td>\n",
       "      <td>-0.459658</td>\n",
       "      <td>-0.363265</td>\n",
       "      <td>0.186708</td>\n",
       "      <td>-0.010263</td>\n",
       "      <td>1.000000</td>\n",
       "    </tr>\n",
       "  </tbody>\n",
       "</table>\n",
       "</div>"
      ],
      "text/plain": [
       "               Unnamed: 0  player_id       age  player_height  player_weight  \\\n",
       "Unnamed: 0       1.000000   1.000000 -0.047710       0.108106       0.109595   \n",
       "player_id        1.000000   1.000000 -0.047710       0.108106       0.109595   \n",
       "age             -0.047710  -0.047710  1.000000      -0.096787      -0.048219   \n",
       "player_height    0.108106   0.108106 -0.096787       1.000000       0.836025   \n",
       "player_weight    0.109595   0.109595 -0.048219       0.836025       1.000000   \n",
       "gp               0.064789   0.064789  0.001957       0.032664       0.084623   \n",
       "pts              0.033387   0.033387 -0.051954      -0.090696      -0.061090   \n",
       "reb              0.119152   0.119152 -0.053751       0.394947       0.416620   \n",
       "ast             -0.025562  -0.025562  0.100629      -0.508427      -0.441709   \n",
       "net_rating       0.090118   0.090118  0.056767      -0.040475      -0.043184   \n",
       "oreb_pct         0.081497   0.081497 -0.108937       0.606111       0.627947   \n",
       "dreb_pct         0.057965   0.057965 -0.049281       0.626527       0.630275   \n",
       "usg_pct         -0.016323  -0.016323 -0.191482      -0.104722      -0.063858   \n",
       "ts_pct           0.048635   0.048635  0.012654       0.023441       0.026593   \n",
       "ast_pct         -0.102703  -0.102703  0.091874      -0.647083      -0.581076   \n",
       "\n",
       "                     gp       pts       reb       ast  net_rating  oreb_pct  \\\n",
       "Unnamed: 0     0.064789  0.033387  0.119152 -0.025562    0.090118  0.081497   \n",
       "player_id      0.064789  0.033387  0.119152 -0.025562    0.090118  0.081497   \n",
       "age            0.001957 -0.051954 -0.053751  0.100629    0.056767 -0.108937   \n",
       "player_height  0.032664 -0.090696  0.394947 -0.508427   -0.040475  0.606111   \n",
       "player_weight  0.084623 -0.061090  0.416620 -0.441709   -0.043184  0.627947   \n",
       "gp             1.000000  0.538104  0.490857  0.369388    0.381061  0.050006   \n",
       "pts            0.538104  1.000000  0.639141  0.640445    0.319315 -0.118341   \n",
       "reb            0.490857  0.639141  1.000000  0.201833    0.267918  0.413371   \n",
       "ast            0.369388  0.640445  0.201833  1.000000    0.248756 -0.372985   \n",
       "net_rating     0.381061  0.319315  0.267918  0.248756    1.000000  0.022756   \n",
       "oreb_pct       0.050006 -0.118341  0.413371 -0.372985    0.022756  1.000000   \n",
       "dreb_pct       0.108504  0.033620  0.611569 -0.254535    0.010932  0.629523   \n",
       "usg_pct        0.130989  0.602534  0.224197  0.333462   -0.062429 -0.083527   \n",
       "ts_pct         0.461727  0.406234  0.316342  0.213400    0.405644  0.051582   \n",
       "ast_pct        0.087846  0.255818 -0.138100  0.766479    0.099211 -0.459658   \n",
       "\n",
       "               dreb_pct   usg_pct    ts_pct   ast_pct  \n",
       "Unnamed: 0     0.057965 -0.016323  0.048635 -0.102703  \n",
       "player_id      0.057965 -0.016323  0.048635 -0.102703  \n",
       "age           -0.049281 -0.191482  0.012654  0.091874  \n",
       "player_height  0.626527 -0.104722  0.023441 -0.647083  \n",
       "player_weight  0.630275 -0.063858  0.026593 -0.581076  \n",
       "gp             0.108504  0.130989  0.461727  0.087846  \n",
       "pts            0.033620  0.602534  0.406234  0.255818  \n",
       "reb            0.611569  0.224197  0.316342 -0.138100  \n",
       "ast           -0.254535  0.333462  0.213400  0.766479  \n",
       "net_rating     0.010932 -0.062429  0.405644  0.099211  \n",
       "oreb_pct       0.629523 -0.083527  0.051582 -0.459658  \n",
       "dreb_pct       1.000000 -0.067092  0.123658 -0.363265  \n",
       "usg_pct       -0.067092  1.000000  0.008388  0.186708  \n",
       "ts_pct         0.123658  0.008388  1.000000 -0.010263  \n",
       "ast_pct       -0.363265  0.186708 -0.010263  1.000000  "
      ]
     },
     "execution_count": 15,
     "metadata": {},
     "output_type": "execute_result"
    }
   ],
   "source": [
    "new.corr()"
   ]
  },
  {
   "cell_type": "markdown",
   "metadata": {},
   "source": [
    "# 1. Data Preprocessing\n",
    "- hapus kolom tiodak di gunakan\n",
    "- missing value\n",
    "- encoding\n",
    "- feture yang di gunakan"
   ]
  },
  {
   "cell_type": "code",
   "execution_count": 16,
   "metadata": {},
   "outputs": [
    {
     "data": {
      "text/html": [
       "<div>\n",
       "<style scoped>\n",
       "    .dataframe tbody tr th:only-of-type {\n",
       "        vertical-align: middle;\n",
       "    }\n",
       "\n",
       "    .dataframe tbody tr th {\n",
       "        vertical-align: top;\n",
       "    }\n",
       "\n",
       "    .dataframe thead th {\n",
       "        text-align: right;\n",
       "    }\n",
       "</style>\n",
       "<table border=\"1\" class=\"dataframe\">\n",
       "  <thead>\n",
       "    <tr style=\"text-align: right;\">\n",
       "      <th></th>\n",
       "      <th>Unnamed: 0</th>\n",
       "      <th>Unnamed: 0.1</th>\n",
       "      <th>player_name</th>\n",
       "      <th>team_abbreviation</th>\n",
       "      <th>age</th>\n",
       "      <th>player_height</th>\n",
       "      <th>player_weight</th>\n",
       "      <th>college</th>\n",
       "      <th>country</th>\n",
       "      <th>draft_year</th>\n",
       "      <th>...</th>\n",
       "      <th>reb</th>\n",
       "      <th>ast</th>\n",
       "      <th>net_rating</th>\n",
       "      <th>oreb_pct</th>\n",
       "      <th>dreb_pct</th>\n",
       "      <th>usg_pct</th>\n",
       "      <th>ts_pct</th>\n",
       "      <th>ast_pct</th>\n",
       "      <th>season</th>\n",
       "      <th>potential_player</th>\n",
       "    </tr>\n",
       "  </thead>\n",
       "  <tbody>\n",
       "    <tr>\n",
       "      <th>0</th>\n",
       "      <td>0</td>\n",
       "      <td>0</td>\n",
       "      <td>Dennis Rodman</td>\n",
       "      <td>CHI</td>\n",
       "      <td>36.0</td>\n",
       "      <td>198.12</td>\n",
       "      <td>99.790240</td>\n",
       "      <td>Southeastern Oklahoma State</td>\n",
       "      <td>USA</td>\n",
       "      <td>1986</td>\n",
       "      <td>...</td>\n",
       "      <td>16.1</td>\n",
       "      <td>3.1</td>\n",
       "      <td>16.1</td>\n",
       "      <td>0.186</td>\n",
       "      <td>0.323</td>\n",
       "      <td>0.100</td>\n",
       "      <td>0.479</td>\n",
       "      <td>0.113</td>\n",
       "      <td>1996-97</td>\n",
       "      <td>0</td>\n",
       "    </tr>\n",
       "    <tr>\n",
       "      <th>1</th>\n",
       "      <td>1</td>\n",
       "      <td>1</td>\n",
       "      <td>Dwayne Schintzius</td>\n",
       "      <td>LAC</td>\n",
       "      <td>28.0</td>\n",
       "      <td>215.90</td>\n",
       "      <td>117.933920</td>\n",
       "      <td>Florida</td>\n",
       "      <td>USA</td>\n",
       "      <td>1990</td>\n",
       "      <td>...</td>\n",
       "      <td>1.5</td>\n",
       "      <td>0.3</td>\n",
       "      <td>12.3</td>\n",
       "      <td>0.078</td>\n",
       "      <td>0.151</td>\n",
       "      <td>0.175</td>\n",
       "      <td>0.430</td>\n",
       "      <td>0.048</td>\n",
       "      <td>1996-97</td>\n",
       "      <td>0</td>\n",
       "    </tr>\n",
       "    <tr>\n",
       "      <th>2</th>\n",
       "      <td>2</td>\n",
       "      <td>2</td>\n",
       "      <td>Earl Cureton</td>\n",
       "      <td>TOR</td>\n",
       "      <td>39.0</td>\n",
       "      <td>205.74</td>\n",
       "      <td>95.254320</td>\n",
       "      <td>Detroit Mercy</td>\n",
       "      <td>USA</td>\n",
       "      <td>1979</td>\n",
       "      <td>...</td>\n",
       "      <td>1.0</td>\n",
       "      <td>0.4</td>\n",
       "      <td>-2.1</td>\n",
       "      <td>0.105</td>\n",
       "      <td>0.102</td>\n",
       "      <td>0.103</td>\n",
       "      <td>0.376</td>\n",
       "      <td>0.148</td>\n",
       "      <td>1996-97</td>\n",
       "      <td>0</td>\n",
       "    </tr>\n",
       "    <tr>\n",
       "      <th>3</th>\n",
       "      <td>3</td>\n",
       "      <td>3</td>\n",
       "      <td>Ed O'Bannon</td>\n",
       "      <td>DAL</td>\n",
       "      <td>24.0</td>\n",
       "      <td>203.20</td>\n",
       "      <td>100.697424</td>\n",
       "      <td>UCLA</td>\n",
       "      <td>USA</td>\n",
       "      <td>1995</td>\n",
       "      <td>...</td>\n",
       "      <td>2.3</td>\n",
       "      <td>0.6</td>\n",
       "      <td>-8.7</td>\n",
       "      <td>0.060</td>\n",
       "      <td>0.149</td>\n",
       "      <td>0.167</td>\n",
       "      <td>0.399</td>\n",
       "      <td>0.077</td>\n",
       "      <td>1996-97</td>\n",
       "      <td>0</td>\n",
       "    </tr>\n",
       "    <tr>\n",
       "      <th>4</th>\n",
       "      <td>4</td>\n",
       "      <td>4</td>\n",
       "      <td>Ed Pinckney</td>\n",
       "      <td>MIA</td>\n",
       "      <td>34.0</td>\n",
       "      <td>205.74</td>\n",
       "      <td>108.862080</td>\n",
       "      <td>Villanova</td>\n",
       "      <td>USA</td>\n",
       "      <td>1985</td>\n",
       "      <td>...</td>\n",
       "      <td>2.4</td>\n",
       "      <td>0.2</td>\n",
       "      <td>-11.2</td>\n",
       "      <td>0.109</td>\n",
       "      <td>0.179</td>\n",
       "      <td>0.127</td>\n",
       "      <td>0.611</td>\n",
       "      <td>0.040</td>\n",
       "      <td>1996-97</td>\n",
       "      <td>0</td>\n",
       "    </tr>\n",
       "  </tbody>\n",
       "</table>\n",
       "<p>5 rows × 24 columns</p>\n",
       "</div>"
      ],
      "text/plain": [
       "   Unnamed: 0  Unnamed: 0.1        player_name team_abbreviation   age  \\\n",
       "0           0             0      Dennis Rodman               CHI  36.0   \n",
       "1           1             1  Dwayne Schintzius               LAC  28.0   \n",
       "2           2             2       Earl Cureton               TOR  39.0   \n",
       "3           3             3        Ed O'Bannon               DAL  24.0   \n",
       "4           4             4        Ed Pinckney               MIA  34.0   \n",
       "\n",
       "   player_height  player_weight                      college country  \\\n",
       "0         198.12      99.790240  Southeastern Oklahoma State     USA   \n",
       "1         215.90     117.933920                      Florida     USA   \n",
       "2         205.74      95.254320                Detroit Mercy     USA   \n",
       "3         203.20     100.697424                         UCLA     USA   \n",
       "4         205.74     108.862080                    Villanova     USA   \n",
       "\n",
       "  draft_year  ...   reb  ast  net_rating  oreb_pct  dreb_pct  usg_pct  ts_pct  \\\n",
       "0       1986  ...  16.1  3.1        16.1     0.186     0.323    0.100   0.479   \n",
       "1       1990  ...   1.5  0.3        12.3     0.078     0.151    0.175   0.430   \n",
       "2       1979  ...   1.0  0.4        -2.1     0.105     0.102    0.103   0.376   \n",
       "3       1995  ...   2.3  0.6        -8.7     0.060     0.149    0.167   0.399   \n",
       "4       1985  ...   2.4  0.2       -11.2     0.109     0.179    0.127   0.611   \n",
       "\n",
       "   ast_pct   season  potential_player  \n",
       "0    0.113  1996-97                 0  \n",
       "1    0.048  1996-97                 0  \n",
       "2    0.148  1996-97                 0  \n",
       "3    0.077  1996-97                 0  \n",
       "4    0.040  1996-97                 0  \n",
       "\n",
       "[5 rows x 24 columns]"
      ]
     },
     "execution_count": 16,
     "metadata": {},
     "output_type": "execute_result"
    }
   ],
   "source": [
    "nba.head()"
   ]
  },
  {
   "cell_type": "code",
   "execution_count": 17,
   "metadata": {},
   "outputs": [
    {
     "data": {
      "text/plain": [
       "Index(['Unnamed: 0', 'Unnamed: 0.1', 'player_name', 'team_abbreviation', 'age',\n",
       "       'player_height', 'player_weight', 'college', 'country', 'draft_year',\n",
       "       'draft_round', 'draft_number', 'gp', 'pts', 'reb', 'ast', 'net_rating',\n",
       "       'oreb_pct', 'dreb_pct', 'usg_pct', 'ts_pct', 'ast_pct', 'season',\n",
       "       'potential_player'],\n",
       "      dtype='object')"
      ]
     },
     "execution_count": 17,
     "metadata": {},
     "output_type": "execute_result"
    }
   ],
   "source": [
    "nba.columns"
   ]
  },
  {
   "cell_type": "code",
   "execution_count": 18,
   "metadata": {},
   "outputs": [
    {
     "data": {
      "text/plain": [
       "0    10690\n",
       "1      455\n",
       "Name: potential_player, dtype: int64"
      ]
     },
     "execution_count": 18,
     "metadata": {},
     "output_type": "execute_result"
    }
   ],
   "source": [
    "nba['potential_player'].value_counts()"
   ]
  },
  {
   "cell_type": "markdown",
   "metadata": {},
   "source": [
    "### Nba Cleaning"
   ]
  },
  {
   "cell_type": "code",
   "execution_count": 19,
   "metadata": {},
   "outputs": [],
   "source": [
    "nba2 = nba.drop(['Unnamed: 0', 'Unnamed: 0.1','player_name','college', 'country',\n",
    "                 'team_abbreviation','season','draft_year','draft_round', 'draft_number'], axis = 1)"
   ]
  },
  {
   "cell_type": "code",
   "execution_count": 20,
   "metadata": {},
   "outputs": [
    {
     "data": {
      "text/plain": [
       "Index(['age', 'player_height', 'player_weight', 'gp', 'pts', 'reb', 'ast',\n",
       "       'net_rating', 'oreb_pct', 'dreb_pct', 'usg_pct', 'ts_pct', 'ast_pct',\n",
       "       'potential_player'],\n",
       "      dtype='object')"
      ]
     },
     "execution_count": 20,
     "metadata": {},
     "output_type": "execute_result"
    }
   ],
   "source": [
    "nba2.columns"
   ]
  },
  {
   "cell_type": "markdown",
   "metadata": {},
   "source": [
    "## Visualisasi data"
   ]
  },
  {
   "cell_type": "code",
   "execution_count": 21,
   "metadata": {},
   "outputs": [],
   "source": [
    "da = list(nba2['potential_player'].value_counts().values)\n",
    "da\n",
    "la = list(nba2['potential_player'].value_counts().index)"
   ]
  },
  {
   "cell_type": "code",
   "execution_count": 22,
   "metadata": {},
   "outputs": [
    {
     "data": {
      "image/png": "[encoded data removed]",
      "text/plain": [
       "<Figure size 720x720 with 1 Axes>"
      ]
     },
     "metadata": {},
     "output_type": "display_data"
    }
   ],
   "source": [
    "plt.figure(figsize = (10,10))\n",
    "plt.pie(da,labels=la,autopct = '%.2f',explode=(0,0.2))\n",
    "plt.axis('equal')\n",
    "plt.legend(loc = 0)\n",
    "plt.title('tpotential player',size = 15)\n",
    "plt.show()"
   ]
  },
  {
   "cell_type": "markdown",
   "metadata": {},
   "source": [
    "di daalam dataset terdapat 4.08%  yang di anggap sebagai potential player"
   ]
  },
  {
   "cell_type": "code",
   "execution_count": 23,
   "metadata": {},
   "outputs": [
    {
     "data": {
      "text/html": [
       "<div>\n",
       "<style scoped>\n",
       "    .dataframe tbody tr th:only-of-type {\n",
       "        vertical-align: middle;\n",
       "    }\n",
       "\n",
       "    .dataframe tbody tr th {\n",
       "        vertical-align: top;\n",
       "    }\n",
       "\n",
       "    .dataframe thead th {\n",
       "        text-align: right;\n",
       "    }\n",
       "</style>\n",
       "<table border=\"1\" class=\"dataframe\">\n",
       "  <thead>\n",
       "    <tr style=\"text-align: right;\">\n",
       "      <th></th>\n",
       "      <th>Unnamed: 0</th>\n",
       "      <th>Unnamed: 0.1</th>\n",
       "      <th>player_name</th>\n",
       "      <th>team_abbreviation</th>\n",
       "      <th>age</th>\n",
       "      <th>player_height</th>\n",
       "      <th>player_weight</th>\n",
       "      <th>college</th>\n",
       "      <th>country</th>\n",
       "      <th>draft_year</th>\n",
       "      <th>...</th>\n",
       "      <th>reb</th>\n",
       "      <th>ast</th>\n",
       "      <th>net_rating</th>\n",
       "      <th>oreb_pct</th>\n",
       "      <th>dreb_pct</th>\n",
       "      <th>usg_pct</th>\n",
       "      <th>ts_pct</th>\n",
       "      <th>ast_pct</th>\n",
       "      <th>season</th>\n",
       "      <th>potential_player</th>\n",
       "    </tr>\n",
       "  </thead>\n",
       "  <tbody>\n",
       "    <tr>\n",
       "      <th>0</th>\n",
       "      <td>0</td>\n",
       "      <td>0</td>\n",
       "      <td>Dennis Rodman</td>\n",
       "      <td>CHI</td>\n",
       "      <td>36.0</td>\n",
       "      <td>198.12</td>\n",
       "      <td>99.79024</td>\n",
       "      <td>Southeastern Oklahoma State</td>\n",
       "      <td>USA</td>\n",
       "      <td>1986</td>\n",
       "      <td>...</td>\n",
       "      <td>16.1</td>\n",
       "      <td>3.1</td>\n",
       "      <td>16.1</td>\n",
       "      <td>0.186</td>\n",
       "      <td>0.323</td>\n",
       "      <td>0.1</td>\n",
       "      <td>0.479</td>\n",
       "      <td>0.113</td>\n",
       "      <td>1996-97</td>\n",
       "      <td>0</td>\n",
       "    </tr>\n",
       "  </tbody>\n",
       "</table>\n",
       "<p>1 rows × 24 columns</p>\n",
       "</div>"
      ],
      "text/plain": [
       "   Unnamed: 0  Unnamed: 0.1    player_name team_abbreviation   age  \\\n",
       "0           0             0  Dennis Rodman               CHI  36.0   \n",
       "\n",
       "   player_height  player_weight                      college country  \\\n",
       "0         198.12       99.79024  Southeastern Oklahoma State     USA   \n",
       "\n",
       "  draft_year  ...   reb  ast  net_rating  oreb_pct  dreb_pct  usg_pct  ts_pct  \\\n",
       "0       1986  ...  16.1  3.1        16.1     0.186     0.323      0.1   0.479   \n",
       "\n",
       "   ast_pct   season  potential_player  \n",
       "0    0.113  1996-97                 0  \n",
       "\n",
       "[1 rows x 24 columns]"
      ]
     },
     "execution_count": 23,
     "metadata": {},
     "output_type": "execute_result"
    }
   ],
   "source": [
    "# non potential\n",
    "p0 = nba[nba['potential_player'] == 0]\n",
    "p0.head(1)"
   ]
  },
  {
   "cell_type": "code",
   "execution_count": 24,
   "metadata": {},
   "outputs": [
    {
     "data": {
      "text/plain": [
       "Index(['Unnamed: 0', 'Unnamed: 0.1', 'player_name', 'team_abbreviation', 'age',\n",
       "       'player_height', 'player_weight', 'college', 'country', 'draft_year',\n",
       "       'draft_round', 'draft_number', 'gp', 'pts', 'reb', 'ast', 'net_rating',\n",
       "       'oreb_pct', 'dreb_pct', 'usg_pct', 'ts_pct', 'ast_pct', 'season',\n",
       "       'potential_player'],\n",
       "      dtype='object')"
      ]
     },
     "execution_count": 24,
     "metadata": {},
     "output_type": "execute_result"
    }
   ],
   "source": [
    "nba.columns"
   ]
  },
  {
   "cell_type": "markdown",
   "metadata": {},
   "source": [
    "Bagaimana distribusi score antara pemain yang potential dengan yang tidak potential?"
   ]
  },
  {
   "cell_type": "code",
   "execution_count": 25,
   "metadata": {},
   "outputs": [
    {
     "data": {
      "image/png": "[encoded data removed]",
      "text/plain": [
       "<Figure size 432x288 with 1 Axes>"
      ]
     },
     "metadata": {
      "needs_background": "light"
     },
     "output_type": "display_data"
    }
   ],
   "source": [
    "sns.boxplot(x='potential_player', y='pts', data=nba)\n",
    "plt.show()"
   ]
  },
  {
   "cell_type": "markdown",
   "metadata": {},
   "source": [
    "rata rata pemain dengan label 1 atau potential player lebih sering mencetak score di bandingkan player dengan label 0"
   ]
  },
  {
   "cell_type": "code",
   "execution_count": null,
   "metadata": {},
   "outputs": [],
   "source": []
  },
  {
   "cell_type": "markdown",
   "metadata": {},
   "source": [
    "Bagaimana distribusi assist antara pemain yang potential dengan yang tidak potential?"
   ]
  },
  {
   "cell_type": "code",
   "execution_count": 26,
   "metadata": {},
   "outputs": [
    {
     "data": {
      "text/plain": [
       "<AxesSubplot:xlabel='potential_player', ylabel='ast'>"
      ]
     },
     "execution_count": 26,
     "metadata": {},
     "output_type": "execute_result"
    },
    {
     "data": {
      "image/png": "[encoded data removed]",
      "text/plain": [
       "<Figure size 432x288 with 1 Axes>"
      ]
     },
     "metadata": {
      "needs_background": "light"
     },
     "output_type": "display_data"
    }
   ],
   "source": [
    "sns.barplot(data=nba,x='potential_player',y='ast',hue='potential_player')"
   ]
  },
  {
   "cell_type": "markdown",
   "metadata": {},
   "source": [
    "potential player lebih banyak membuat asist(ast)"
   ]
  },
  {
   "cell_type": "markdown",
   "metadata": {},
   "source": [
    "pada gp (game played throughout the season) pemain yang dengan label potential_player lebih banyak bermain"
   ]
  },
  {
   "cell_type": "code",
   "execution_count": null,
   "metadata": {},
   "outputs": [],
   "source": []
  },
  {
   "cell_type": "markdown",
   "metadata": {},
   "source": [
    "Bagaimana distribusi rebound antara pemain yang potential dengan yang tidak potential?"
   ]
  },
  {
   "cell_type": "code",
   "execution_count": 27,
   "metadata": {},
   "outputs": [
    {
     "data": {
      "text/plain": [
       "<AxesSubplot:xlabel='potential_player', ylabel='reb'>"
      ]
     },
     "execution_count": 27,
     "metadata": {},
     "output_type": "execute_result"
    },
    {
     "data": {
      "image/png": "[encoded data removed]",
      "text/plain": [
       "<Figure size 432x288 with 1 Axes>"
      ]
     },
     "metadata": {
      "needs_background": "light"
     },
     "output_type": "display_data"
    }
   ],
   "source": [
    "sns.boxplot(x='potential_player', y='reb', data=nba)"
   ]
  },
  {
   "cell_type": "code",
   "execution_count": 28,
   "metadata": {},
   "outputs": [
    {
     "name": "stderr",
     "output_type": "stream",
     "text": [
      "D:\\anaconda\\lib\\site-packages\\seaborn\\distributions.py:2551: FutureWarning: `distplot` is a deprecated function and will be removed in a future version. Please adapt your code to use either `displot` (a figure-level function with similar flexibility) or `histplot` (an axes-level function for histograms).\n",
      "  warnings.warn(msg, FutureWarning)\n",
      "D:\\anaconda\\lib\\site-packages\\seaborn\\distributions.py:2551: FutureWarning: `distplot` is a deprecated function and will be removed in a future version. Please adapt your code to use either `displot` (a figure-level function with similar flexibility) or `histplot` (an axes-level function for histograms).\n",
      "  warnings.warn(msg, FutureWarning)\n"
     ]
    },
    {
     "data": {
      "image/png": "[encoded data removed]",
      "text/plain": [
       "<Figure size 720x720 with 1 Axes>"
      ]
     },
     "metadata": {
      "needs_background": "light"
     },
     "output_type": "display_data"
    }
   ],
   "source": [
    "plt.figure(figsize=[10,10])\n",
    "sns.distplot(nba[nba['potential_player'] ==1]['reb'],label='Potential_player')\n",
    "sns.distplot(nba[nba['potential_player'] ==0]['reb'],label='not_Potential_player')\n",
    "plt.legend()\n",
    "plt.show()"
   ]
  },
  {
   "cell_type": "markdown",
   "metadata": {},
   "source": [
    "pada plot di atas dapat di ketahui bahwa rebound grabbed(reb) yang di lakukan oleh potential_player lebih bnayak di bandingkan non_potential player"
   ]
  },
  {
   "cell_type": "code",
   "execution_count": null,
   "metadata": {},
   "outputs": [],
   "source": []
  },
  {
   "cell_type": "markdown",
   "metadata": {},
   "source": [
    "Kampus mana yang paling sering menelurkan pemain-pemain potential di NBA?"
   ]
  },
  {
   "cell_type": "code",
   "execution_count": 120,
   "metadata": {},
   "outputs": [
    {
     "data": {
      "text/html": [
       "<div>\n",
       "<style scoped>\n",
       "    .dataframe tbody tr th:only-of-type {\n",
       "        vertical-align: middle;\n",
       "    }\n",
       "\n",
       "    .dataframe tbody tr th {\n",
       "        vertical-align: top;\n",
       "    }\n",
       "\n",
       "    .dataframe thead th {\n",
       "        text-align: right;\n",
       "    }\n",
       "</style>\n",
       "<table border=\"1\" class=\"dataframe\">\n",
       "  <thead>\n",
       "    <tr style=\"text-align: right;\">\n",
       "      <th></th>\n",
       "      <th>potential_player</th>\n",
       "      <th>player_name</th>\n",
       "    </tr>\n",
       "    <tr>\n",
       "      <th>college</th>\n",
       "      <th></th>\n",
       "      <th></th>\n",
       "    </tr>\n",
       "  </thead>\n",
       "  <tbody>\n",
       "    <tr>\n",
       "      <th>None</th>\n",
       "      <td>93</td>\n",
       "      <td>93</td>\n",
       "    </tr>\n",
       "    <tr>\n",
       "      <th>Kentucky</th>\n",
       "      <td>36</td>\n",
       "      <td>36</td>\n",
       "    </tr>\n",
       "    <tr>\n",
       "      <th>UCLA</th>\n",
       "      <td>28</td>\n",
       "      <td>28</td>\n",
       "    </tr>\n",
       "    <tr>\n",
       "      <th>Marquette</th>\n",
       "      <td>18</td>\n",
       "      <td>18</td>\n",
       "    </tr>\n",
       "    <tr>\n",
       "      <th>Arizona</th>\n",
       "      <td>17</td>\n",
       "      <td>17</td>\n",
       "    </tr>\n",
       "    <tr>\n",
       "      <th>...</th>\n",
       "      <td>...</td>\n",
       "      <td>...</td>\n",
       "    </tr>\n",
       "    <tr>\n",
       "      <th>Purdue</th>\n",
       "      <td>1</td>\n",
       "      <td>1</td>\n",
       "    </tr>\n",
       "    <tr>\n",
       "      <th>Indiana Purdue-Indianapolis</th>\n",
       "      <td>1</td>\n",
       "      <td>1</td>\n",
       "    </tr>\n",
       "    <tr>\n",
       "      <th>Santa Clara</th>\n",
       "      <td>1</td>\n",
       "      <td>1</td>\n",
       "    </tr>\n",
       "    <tr>\n",
       "      <th>San Diego State</th>\n",
       "      <td>1</td>\n",
       "      <td>1</td>\n",
       "    </tr>\n",
       "    <tr>\n",
       "      <th>Minnesota</th>\n",
       "      <td>1</td>\n",
       "      <td>1</td>\n",
       "    </tr>\n",
       "  </tbody>\n",
       "</table>\n",
       "<p>68 rows × 2 columns</p>\n",
       "</div>"
      ],
      "text/plain": [
       "                             potential_player  player_name\n",
       "college                                                   \n",
       "None                                       93           93\n",
       "Kentucky                                   36           36\n",
       "UCLA                                       28           28\n",
       "Marquette                                  18           18\n",
       "Arizona                                    17           17\n",
       "...                                       ...          ...\n",
       "Purdue                                      1            1\n",
       "Indiana Purdue-Indianapolis                 1            1\n",
       "Santa Clara                                 1            1\n",
       "San Diego State                             1            1\n",
       "Minnesota                                   1            1\n",
       "\n",
       "[68 rows x 2 columns]"
      ]
     },
     "execution_count": 120,
     "metadata": {},
     "output_type": "execute_result"
    }
   ],
   "source": [
    "get_camp = nba[['college','potential_player','player_name']]\n",
    "pot = get_camp[get_camp['potential_player']==1].groupby(['college']).count()\n",
    "pot.sort_values('potential_player', ascending = False)\n",
    "\n",
    "# Dari DF di bawah dapat kita ketahui potential player banyak yang berasal dari luar kampus"
   ]
  },
  {
   "cell_type": "markdown",
   "metadata": {},
   "source": [
    "Apakah tinggi dan berat pemain dapat mempengaruhi pemain dicap potential atau tidak?"
   ]
  },
  {
   "cell_type": "code",
   "execution_count": 29,
   "metadata": {},
   "outputs": [
    {
     "name": "stderr",
     "output_type": "stream",
     "text": [
      "D:\\anaconda\\lib\\site-packages\\seaborn\\distributions.py:2551: FutureWarning: `distplot` is a deprecated function and will be removed in a future version. Please adapt your code to use either `displot` (a figure-level function with similar flexibility) or `histplot` (an axes-level function for histograms).\n",
      "  warnings.warn(msg, FutureWarning)\n",
      "D:\\anaconda\\lib\\site-packages\\seaborn\\distributions.py:2551: FutureWarning: `distplot` is a deprecated function and will be removed in a future version. Please adapt your code to use either `displot` (a figure-level function with similar flexibility) or `histplot` (an axes-level function for histograms).\n",
      "  warnings.warn(msg, FutureWarning)\n"
     ]
    },
    {
     "data": {
      "image/png": "[encoded data removed]",
      "text/plain": [
       "<Figure size 720x720 with 1 Axes>"
      ]
     },
     "metadata": {
      "needs_background": "light"
     },
     "output_type": "display_data"
    }
   ],
   "source": [
    "plt.figure(figsize=[10,10])\n",
    "sns.distplot(nba[nba['potential_player'] ==1]['player_weight'],label='Potential_player')\n",
    "sns.distplot(nba[nba['potential_player'] ==0]['player_weight'],label='not_Potential_player')\n",
    "plt.legend()\n",
    "plt.show()"
   ]
  },
  {
   "cell_type": "markdown",
   "metadata": {},
   "source": [
    "pada plot di atas potential_player memiliki berat badan yang lebih besar di bandingkan non_potential player"
   ]
  },
  {
   "cell_type": "code",
   "execution_count": 30,
   "metadata": {},
   "outputs": [
    {
     "name": "stderr",
     "output_type": "stream",
     "text": [
      "D:\\anaconda\\lib\\site-packages\\seaborn\\distributions.py:2551: FutureWarning: `distplot` is a deprecated function and will be removed in a future version. Please adapt your code to use either `displot` (a figure-level function with similar flexibility) or `histplot` (an axes-level function for histograms).\n",
      "  warnings.warn(msg, FutureWarning)\n",
      "D:\\anaconda\\lib\\site-packages\\seaborn\\distributions.py:2551: FutureWarning: `distplot` is a deprecated function and will be removed in a future version. Please adapt your code to use either `displot` (a figure-level function with similar flexibility) or `histplot` (an axes-level function for histograms).\n",
      "  warnings.warn(msg, FutureWarning)\n"
     ]
    },
    {
     "data": {
      "image/png": "[encoded data removed]",
      "text/plain": [
       "<Figure size 720x720 with 1 Axes>"
      ]
     },
     "metadata": {
      "needs_background": "light"
     },
     "output_type": "display_data"
    }
   ],
   "source": [
    "plt.figure(figsize=[10,10])\n",
    "sns.distplot(nba[nba['potential_player'] ==1]['player_height'],label='Potential_player')\n",
    "sns.distplot(nba[nba['potential_player'] ==0]['player_height'],label='not_Potential_player')\n",
    "plt.legend()\n",
    "plt.show()"
   ]
  },
  {
   "cell_type": "markdown",
   "metadata": {},
   "source": [
    "pada distribusi di atas tinggi antara potential dan non potential hampir sama"
   ]
  },
  {
   "cell_type": "markdown",
   "metadata": {},
   "source": [
    "## Scaling dataset"
   ]
  },
  {
   "cell_type": "code",
   "execution_count": 31,
   "metadata": {},
   "outputs": [],
   "source": [
    "col_name = nba2.columns"
   ]
  },
  {
   "cell_type": "code",
   "execution_count": 32,
   "metadata": {},
   "outputs": [],
   "source": [
    "scaler = StandardScaler()\n",
    "scaler.fit(nba2)\n",
    "nba2_standard = scaler.transform(nba2)\n"
   ]
  },
  {
   "cell_type": "code",
   "execution_count": 33,
   "metadata": {},
   "outputs": [],
   "source": [
    "nba2_standard = pd.DataFrame(nba2_standard,columns = col_name)"
   ]
  },
  {
   "cell_type": "code",
   "execution_count": 34,
   "metadata": {},
   "outputs": [
    {
     "data": {
      "text/html": [
       "<div>\n",
       "<style scoped>\n",
       "    .dataframe tbody tr th:only-of-type {\n",
       "        vertical-align: middle;\n",
       "    }\n",
       "\n",
       "    .dataframe tbody tr th {\n",
       "        vertical-align: top;\n",
       "    }\n",
       "\n",
       "    .dataframe thead th {\n",
       "        text-align: right;\n",
       "    }\n",
       "</style>\n",
       "<table border=\"1\" class=\"dataframe\">\n",
       "  <thead>\n",
       "    <tr style=\"text-align: right;\">\n",
       "      <th></th>\n",
       "      <th>age</th>\n",
       "      <th>player_height</th>\n",
       "      <th>player_weight</th>\n",
       "      <th>gp</th>\n",
       "      <th>pts</th>\n",
       "      <th>reb</th>\n",
       "      <th>ast</th>\n",
       "      <th>net_rating</th>\n",
       "      <th>oreb_pct</th>\n",
       "      <th>dreb_pct</th>\n",
       "      <th>usg_pct</th>\n",
       "      <th>ts_pct</th>\n",
       "      <th>ast_pct</th>\n",
       "      <th>potential_player</th>\n",
       "    </tr>\n",
       "  </thead>\n",
       "  <tbody>\n",
       "    <tr>\n",
       "      <th>0</th>\n",
       "      <td>2.033006</td>\n",
       "      <td>-0.292998</td>\n",
       "      <td>-0.067402</td>\n",
       "      <td>0.119440</td>\n",
       "      <td>-0.408829</td>\n",
       "      <td>5.025470</td>\n",
       "      <td>0.725497</td>\n",
       "      <td>1.502370</td>\n",
       "      <td>2.971452</td>\n",
       "      <td>2.867924</td>\n",
       "      <td>-1.613728</td>\n",
       "      <td>-0.294306</td>\n",
       "      <td>-0.190264</td>\n",
       "      <td>-0.206308</td>\n",
       "    </tr>\n",
       "    <tr>\n",
       "      <th>1</th>\n",
       "      <td>0.191372</td>\n",
       "      <td>1.641595</td>\n",
       "      <td>1.375352</td>\n",
       "      <td>-1.476196</td>\n",
       "      <td>-0.981681</td>\n",
       "      <td>-0.825572</td>\n",
       "      <td>-0.838872</td>\n",
       "      <td>1.189615</td>\n",
       "      <td>0.510564</td>\n",
       "      <td>0.146034</td>\n",
       "      <td>-0.199814</td>\n",
       "      <td>-0.789883</td>\n",
       "      <td>-0.874381</td>\n",
       "      <td>-0.206308</td>\n",
       "    </tr>\n",
       "    <tr>\n",
       "      <th>2</th>\n",
       "      <td>2.723619</td>\n",
       "      <td>0.536113</td>\n",
       "      <td>-0.428090</td>\n",
       "      <td>-1.715542</td>\n",
       "      <td>-1.234410</td>\n",
       "      <td>-1.025951</td>\n",
       "      <td>-0.783001</td>\n",
       "      <td>0.004436</td>\n",
       "      <td>1.125786</td>\n",
       "      <td>-0.629388</td>\n",
       "      <td>-1.557171</td>\n",
       "      <td>-1.336030</td>\n",
       "      <td>0.178107</td>\n",
       "      <td>-0.206308</td>\n",
       "    </tr>\n",
       "    <tr>\n",
       "      <th>3</th>\n",
       "      <td>-0.729445</td>\n",
       "      <td>0.259743</td>\n",
       "      <td>0.004736</td>\n",
       "      <td>0.478458</td>\n",
       "      <td>-0.745801</td>\n",
       "      <td>-0.504967</td>\n",
       "      <td>-0.671261</td>\n",
       "      <td>-0.538771</td>\n",
       "      <td>0.100416</td>\n",
       "      <td>0.114384</td>\n",
       "      <td>-0.350632</td>\n",
       "      <td>-1.103412</td>\n",
       "      <td>-0.569160</td>\n",
       "      <td>-0.206308</td>\n",
       "    </tr>\n",
       "    <tr>\n",
       "      <th>4</th>\n",
       "      <td>1.572598</td>\n",
       "      <td>0.536113</td>\n",
       "      <td>0.653975</td>\n",
       "      <td>-0.997505</td>\n",
       "      <td>-0.964832</td>\n",
       "      <td>-0.464892</td>\n",
       "      <td>-0.894742</td>\n",
       "      <td>-0.744531</td>\n",
       "      <td>1.216930</td>\n",
       "      <td>0.589132</td>\n",
       "      <td>-1.104719</td>\n",
       "      <td>1.040719</td>\n",
       "      <td>-0.958580</td>\n",
       "      <td>-0.206308</td>\n",
       "    </tr>\n",
       "    <tr>\n",
       "      <th>...</th>\n",
       "      <td>...</td>\n",
       "      <td>...</td>\n",
       "      <td>...</td>\n",
       "      <td>...</td>\n",
       "      <td>...</td>\n",
       "      <td>...</td>\n",
       "      <td>...</td>\n",
       "      <td>...</td>\n",
       "      <td>...</td>\n",
       "      <td>...</td>\n",
       "      <td>...</td>\n",
       "      <td>...</td>\n",
       "      <td>...</td>\n",
       "      <td>...</td>\n",
       "    </tr>\n",
       "    <tr>\n",
       "      <th>11140</th>\n",
       "      <td>0.191372</td>\n",
       "      <td>0.812484</td>\n",
       "      <td>0.653975</td>\n",
       "      <td>0.438567</td>\n",
       "      <td>0.164023</td>\n",
       "      <td>0.737377</td>\n",
       "      <td>-0.391909</td>\n",
       "      <td>0.555873</td>\n",
       "      <td>0.009272</td>\n",
       "      <td>-0.028040</td>\n",
       "      <td>-0.935049</td>\n",
       "      <td>0.980036</td>\n",
       "      <td>-0.705983</td>\n",
       "      <td>-0.206308</td>\n",
       "    </tr>\n",
       "    <tr>\n",
       "      <th>11141</th>\n",
       "      <td>-0.959649</td>\n",
       "      <td>-0.569369</td>\n",
       "      <td>-0.247746</td>\n",
       "      <td>-1.476196</td>\n",
       "      <td>-1.167015</td>\n",
       "      <td>-1.306480</td>\n",
       "      <td>-0.950612</td>\n",
       "      <td>-0.020255</td>\n",
       "      <td>-0.856596</td>\n",
       "      <td>-1.325686</td>\n",
       "      <td>-0.407188</td>\n",
       "      <td>-0.284192</td>\n",
       "      <td>-1.032255</td>\n",
       "      <td>-0.206308</td>\n",
       "    </tr>\n",
       "    <tr>\n",
       "      <th>11142</th>\n",
       "      <td>0.191372</td>\n",
       "      <td>1.365225</td>\n",
       "      <td>1.375352</td>\n",
       "      <td>-0.119905</td>\n",
       "      <td>-0.341434</td>\n",
       "      <td>0.617150</td>\n",
       "      <td>-0.391909</td>\n",
       "      <td>0.638177</td>\n",
       "      <td>-0.605950</td>\n",
       "      <td>1.190480</td>\n",
       "      <td>-1.236684</td>\n",
       "      <td>1.334020</td>\n",
       "      <td>-0.579685</td>\n",
       "      <td>-0.206308</td>\n",
       "    </tr>\n",
       "    <tr>\n",
       "      <th>11143</th>\n",
       "      <td>-0.038832</td>\n",
       "      <td>0.812484</td>\n",
       "      <td>0.329355</td>\n",
       "      <td>-1.276742</td>\n",
       "      <td>-1.015378</td>\n",
       "      <td>-0.224438</td>\n",
       "      <td>-0.783001</td>\n",
       "      <td>-1.172512</td>\n",
       "      <td>0.670066</td>\n",
       "      <td>1.506979</td>\n",
       "      <td>-1.123571</td>\n",
       "      <td>0.130475</td>\n",
       "      <td>-0.790182</td>\n",
       "      <td>-0.206308</td>\n",
       "    </tr>\n",
       "    <tr>\n",
       "      <th>11144</th>\n",
       "      <td>-0.499241</td>\n",
       "      <td>-0.845739</td>\n",
       "      <td>-1.149467</td>\n",
       "      <td>-0.837942</td>\n",
       "      <td>-0.611012</td>\n",
       "      <td>-0.865648</td>\n",
       "      <td>-0.727131</td>\n",
       "      <td>0.259579</td>\n",
       "      <td>-0.879382</td>\n",
       "      <td>-0.597738</td>\n",
       "      <td>-0.689971</td>\n",
       "      <td>1.566638</td>\n",
       "      <td>-0.442861</td>\n",
       "      <td>-0.206308</td>\n",
       "    </tr>\n",
       "  </tbody>\n",
       "</table>\n",
       "<p>11145 rows × 14 columns</p>\n",
       "</div>"
      ],
      "text/plain": [
       "            age  player_height  player_weight        gp       pts       reb  \\\n",
       "0      2.033006      -0.292998      -0.067402  0.119440 -0.408829  5.025470   \n",
       "1      0.191372       1.641595       1.375352 -1.476196 -0.981681 -0.825572   \n",
       "2      2.723619       0.536113      -0.428090 -1.715542 -1.234410 -1.025951   \n",
       "3     -0.729445       0.259743       0.004736  0.478458 -0.745801 -0.504967   \n",
       "4      1.572598       0.536113       0.653975 -0.997505 -0.964832 -0.464892   \n",
       "...         ...            ...            ...       ...       ...       ...   \n",
       "11140  0.191372       0.812484       0.653975  0.438567  0.164023  0.737377   \n",
       "11141 -0.959649      -0.569369      -0.247746 -1.476196 -1.167015 -1.306480   \n",
       "11142  0.191372       1.365225       1.375352 -0.119905 -0.341434  0.617150   \n",
       "11143 -0.038832       0.812484       0.329355 -1.276742 -1.015378 -0.224438   \n",
       "11144 -0.499241      -0.845739      -1.149467 -0.837942 -0.611012 -0.865648   \n",
       "\n",
       "            ast  net_rating  oreb_pct  dreb_pct   usg_pct    ts_pct   ast_pct  \\\n",
       "0      0.725497    1.502370  2.971452  2.867924 -1.613728 -0.294306 -0.190264   \n",
       "1     -0.838872    1.189615  0.510564  0.146034 -0.199814 -0.789883 -0.874381   \n",
       "2     -0.783001    0.004436  1.125786 -0.629388 -1.557171 -1.336030  0.178107   \n",
       "3     -0.671261   -0.538771  0.100416  0.114384 -0.350632 -1.103412 -0.569160   \n",
       "4     -0.894742   -0.744531  1.216930  0.589132 -1.104719  1.040719 -0.958580   \n",
       "...         ...         ...       ...       ...       ...       ...       ...   \n",
       "11140 -0.391909    0.555873  0.009272 -0.028040 -0.935049  0.980036 -0.705983   \n",
       "11141 -0.950612   -0.020255 -0.856596 -1.325686 -0.407188 -0.284192 -1.032255   \n",
       "11142 -0.391909    0.638177 -0.605950  1.190480 -1.236684  1.334020 -0.579685   \n",
       "11143 -0.783001   -1.172512  0.670066  1.506979 -1.123571  0.130475 -0.790182   \n",
       "11144 -0.727131    0.259579 -0.879382 -0.597738 -0.689971  1.566638 -0.442861   \n",
       "\n",
       "       potential_player  \n",
       "0             -0.206308  \n",
       "1             -0.206308  \n",
       "2             -0.206308  \n",
       "3             -0.206308  \n",
       "4             -0.206308  \n",
       "...                 ...  \n",
       "11140         -0.206308  \n",
       "11141         -0.206308  \n",
       "11142         -0.206308  \n",
       "11143         -0.206308  \n",
       "11144         -0.206308  \n",
       "\n",
       "[11145 rows x 14 columns]"
      ]
     },
     "execution_count": 34,
     "metadata": {},
     "output_type": "execute_result"
    }
   ],
   "source": [
    "nba2_standard"
   ]
  },
  {
   "cell_type": "markdown",
   "metadata": {},
   "source": [
    "### Memisahkan label dengan feture yang sudah di lakukan scaling untuk melakukan modeling"
   ]
  },
  {
   "cell_type": "code",
   "execution_count": 35,
   "metadata": {},
   "outputs": [],
   "source": [
    "# nba2_standard\n",
    "# x = nba2_standard[:]"
   ]
  },
  {
   "cell_type": "code",
   "execution_count": 36,
   "metadata": {},
   "outputs": [],
   "source": [
    "feature = nba2_standard.drop('potential_player', axis=1)\n",
    "label = nba2_standard['potential_player']"
   ]
  },
  {
   "cell_type": "code",
   "execution_count": null,
   "metadata": {},
   "outputs": [],
   "source": []
  },
  {
   "cell_type": "markdown",
   "metadata": {},
   "source": [
    "## Data Splitting"
   ]
  },
  {
   "cell_type": "code",
   "execution_count": 37,
   "metadata": {},
   "outputs": [],
   "source": [
    "# x_train,x_test,y_train,y_test =train_test_split(feature,label,stratify=label,test_size=0.2,random_state=4)"
   ]
  },
  {
   "cell_type": "code",
   "execution_count": 38,
   "metadata": {},
   "outputs": [
    {
     "data": {
      "text/plain": [
       "<AxesSubplot:>"
      ]
     },
     "execution_count": 38,
     "metadata": {},
     "output_type": "execute_result"
    },
    {
     "data": {
      "image/png": "[encoded data removed]",
      "text/plain": [
       "<Figure size 432x288 with 2 Axes>"
      ]
     },
     "metadata": {
      "needs_background": "light"
     },
     "output_type": "display_data"
    }
   ],
   "source": [
    "sns.heatmap(nba2_standard.isna())"
   ]
  },
  {
   "cell_type": "markdown",
   "metadata": {},
   "source": [
    "tidak memiliki null value shingga tidak di perlukan imputation pada dataset"
   ]
  },
  {
   "cell_type": "code",
   "execution_count": 39,
   "metadata": {},
   "outputs": [],
   "source": [
    "nba_model =nba.drop(['Unnamed: 0', 'Unnamed: 0.1','player_name','college', 'country',\n",
    "                 'team_abbreviation','season','draft_year','draft_round', 'draft_number','potential_player'], axis = 1)"
   ]
  },
  {
   "cell_type": "code",
   "execution_count": 40,
   "metadata": {},
   "outputs": [],
   "source": [
    "# data without scaing\n",
    "nba_norm = nba_model.copy()"
   ]
  },
  {
   "cell_type": "code",
   "execution_count": 41,
   "metadata": {},
   "outputs": [
    {
     "data": {
      "text/html": [
       "<div>\n",
       "<style scoped>\n",
       "    .dataframe tbody tr th:only-of-type {\n",
       "        vertical-align: middle;\n",
       "    }\n",
       "\n",
       "    .dataframe tbody tr th {\n",
       "        vertical-align: top;\n",
       "    }\n",
       "\n",
       "    .dataframe thead th {\n",
       "        text-align: right;\n",
       "    }\n",
       "</style>\n",
       "<table border=\"1\" class=\"dataframe\">\n",
       "  <thead>\n",
       "    <tr style=\"text-align: right;\">\n",
       "      <th></th>\n",
       "      <th>age</th>\n",
       "      <th>player_height</th>\n",
       "      <th>player_weight</th>\n",
       "      <th>gp</th>\n",
       "      <th>pts</th>\n",
       "      <th>reb</th>\n",
       "      <th>ast</th>\n",
       "      <th>net_rating</th>\n",
       "      <th>oreb_pct</th>\n",
       "      <th>dreb_pct</th>\n",
       "      <th>usg_pct</th>\n",
       "      <th>ts_pct</th>\n",
       "      <th>ast_pct</th>\n",
       "    </tr>\n",
       "  </thead>\n",
       "  <tbody>\n",
       "    <tr>\n",
       "      <th>0</th>\n",
       "      <td>2.033006</td>\n",
       "      <td>-0.292998</td>\n",
       "      <td>-0.067402</td>\n",
       "      <td>0.119440</td>\n",
       "      <td>-0.408829</td>\n",
       "      <td>5.025470</td>\n",
       "      <td>0.725497</td>\n",
       "      <td>1.502370</td>\n",
       "      <td>2.971452</td>\n",
       "      <td>2.867924</td>\n",
       "      <td>-1.613728</td>\n",
       "      <td>-0.294306</td>\n",
       "      <td>-0.190264</td>\n",
       "    </tr>\n",
       "    <tr>\n",
       "      <th>1</th>\n",
       "      <td>0.191372</td>\n",
       "      <td>1.641595</td>\n",
       "      <td>1.375352</td>\n",
       "      <td>-1.476196</td>\n",
       "      <td>-0.981681</td>\n",
       "      <td>-0.825572</td>\n",
       "      <td>-0.838872</td>\n",
       "      <td>1.189615</td>\n",
       "      <td>0.510564</td>\n",
       "      <td>0.146034</td>\n",
       "      <td>-0.199814</td>\n",
       "      <td>-0.789883</td>\n",
       "      <td>-0.874381</td>\n",
       "    </tr>\n",
       "    <tr>\n",
       "      <th>2</th>\n",
       "      <td>2.723619</td>\n",
       "      <td>0.536113</td>\n",
       "      <td>-0.428090</td>\n",
       "      <td>-1.715542</td>\n",
       "      <td>-1.234410</td>\n",
       "      <td>-1.025951</td>\n",
       "      <td>-0.783001</td>\n",
       "      <td>0.004436</td>\n",
       "      <td>1.125786</td>\n",
       "      <td>-0.629388</td>\n",
       "      <td>-1.557171</td>\n",
       "      <td>-1.336030</td>\n",
       "      <td>0.178107</td>\n",
       "    </tr>\n",
       "    <tr>\n",
       "      <th>3</th>\n",
       "      <td>-0.729445</td>\n",
       "      <td>0.259743</td>\n",
       "      <td>0.004736</td>\n",
       "      <td>0.478458</td>\n",
       "      <td>-0.745801</td>\n",
       "      <td>-0.504967</td>\n",
       "      <td>-0.671261</td>\n",
       "      <td>-0.538771</td>\n",
       "      <td>0.100416</td>\n",
       "      <td>0.114384</td>\n",
       "      <td>-0.350632</td>\n",
       "      <td>-1.103412</td>\n",
       "      <td>-0.569160</td>\n",
       "    </tr>\n",
       "    <tr>\n",
       "      <th>4</th>\n",
       "      <td>1.572598</td>\n",
       "      <td>0.536113</td>\n",
       "      <td>0.653975</td>\n",
       "      <td>-0.997505</td>\n",
       "      <td>-0.964832</td>\n",
       "      <td>-0.464892</td>\n",
       "      <td>-0.894742</td>\n",
       "      <td>-0.744531</td>\n",
       "      <td>1.216930</td>\n",
       "      <td>0.589132</td>\n",
       "      <td>-1.104719</td>\n",
       "      <td>1.040719</td>\n",
       "      <td>-0.958580</td>\n",
       "    </tr>\n",
       "    <tr>\n",
       "      <th>...</th>\n",
       "      <td>...</td>\n",
       "      <td>...</td>\n",
       "      <td>...</td>\n",
       "      <td>...</td>\n",
       "      <td>...</td>\n",
       "      <td>...</td>\n",
       "      <td>...</td>\n",
       "      <td>...</td>\n",
       "      <td>...</td>\n",
       "      <td>...</td>\n",
       "      <td>...</td>\n",
       "      <td>...</td>\n",
       "      <td>...</td>\n",
       "    </tr>\n",
       "    <tr>\n",
       "      <th>11140</th>\n",
       "      <td>0.191372</td>\n",
       "      <td>0.812484</td>\n",
       "      <td>0.653975</td>\n",
       "      <td>0.438567</td>\n",
       "      <td>0.164023</td>\n",
       "      <td>0.737377</td>\n",
       "      <td>-0.391909</td>\n",
       "      <td>0.555873</td>\n",
       "      <td>0.009272</td>\n",
       "      <td>-0.028040</td>\n",
       "      <td>-0.935049</td>\n",
       "      <td>0.980036</td>\n",
       "      <td>-0.705983</td>\n",
       "    </tr>\n",
       "    <tr>\n",
       "      <th>11141</th>\n",
       "      <td>-0.959649</td>\n",
       "      <td>-0.569369</td>\n",
       "      <td>-0.247746</td>\n",
       "      <td>-1.476196</td>\n",
       "      <td>-1.167015</td>\n",
       "      <td>-1.306480</td>\n",
       "      <td>-0.950612</td>\n",
       "      <td>-0.020255</td>\n",
       "      <td>-0.856596</td>\n",
       "      <td>-1.325686</td>\n",
       "      <td>-0.407188</td>\n",
       "      <td>-0.284192</td>\n",
       "      <td>-1.032255</td>\n",
       "    </tr>\n",
       "    <tr>\n",
       "      <th>11142</th>\n",
       "      <td>0.191372</td>\n",
       "      <td>1.365225</td>\n",
       "      <td>1.375352</td>\n",
       "      <td>-0.119905</td>\n",
       "      <td>-0.341434</td>\n",
       "      <td>0.617150</td>\n",
       "      <td>-0.391909</td>\n",
       "      <td>0.638177</td>\n",
       "      <td>-0.605950</td>\n",
       "      <td>1.190480</td>\n",
       "      <td>-1.236684</td>\n",
       "      <td>1.334020</td>\n",
       "      <td>-0.579685</td>\n",
       "    </tr>\n",
       "    <tr>\n",
       "      <th>11143</th>\n",
       "      <td>-0.038832</td>\n",
       "      <td>0.812484</td>\n",
       "      <td>0.329355</td>\n",
       "      <td>-1.276742</td>\n",
       "      <td>-1.015378</td>\n",
       "      <td>-0.224438</td>\n",
       "      <td>-0.783001</td>\n",
       "      <td>-1.172512</td>\n",
       "      <td>0.670066</td>\n",
       "      <td>1.506979</td>\n",
       "      <td>-1.123571</td>\n",
       "      <td>0.130475</td>\n",
       "      <td>-0.790182</td>\n",
       "    </tr>\n",
       "    <tr>\n",
       "      <th>11144</th>\n",
       "      <td>-0.499241</td>\n",
       "      <td>-0.845739</td>\n",
       "      <td>-1.149467</td>\n",
       "      <td>-0.837942</td>\n",
       "      <td>-0.611012</td>\n",
       "      <td>-0.865648</td>\n",
       "      <td>-0.727131</td>\n",
       "      <td>0.259579</td>\n",
       "      <td>-0.879382</td>\n",
       "      <td>-0.597738</td>\n",
       "      <td>-0.689971</td>\n",
       "      <td>1.566638</td>\n",
       "      <td>-0.442861</td>\n",
       "    </tr>\n",
       "  </tbody>\n",
       "</table>\n",
       "<p>11145 rows × 13 columns</p>\n",
       "</div>"
      ],
      "text/plain": [
       "            age  player_height  player_weight        gp       pts       reb  \\\n",
       "0      2.033006      -0.292998      -0.067402  0.119440 -0.408829  5.025470   \n",
       "1      0.191372       1.641595       1.375352 -1.476196 -0.981681 -0.825572   \n",
       "2      2.723619       0.536113      -0.428090 -1.715542 -1.234410 -1.025951   \n",
       "3     -0.729445       0.259743       0.004736  0.478458 -0.745801 -0.504967   \n",
       "4      1.572598       0.536113       0.653975 -0.997505 -0.964832 -0.464892   \n",
       "...         ...            ...            ...       ...       ...       ...   \n",
       "11140  0.191372       0.812484       0.653975  0.438567  0.164023  0.737377   \n",
       "11141 -0.959649      -0.569369      -0.247746 -1.476196 -1.167015 -1.306480   \n",
       "11142  0.191372       1.365225       1.375352 -0.119905 -0.341434  0.617150   \n",
       "11143 -0.038832       0.812484       0.329355 -1.276742 -1.015378 -0.224438   \n",
       "11144 -0.499241      -0.845739      -1.149467 -0.837942 -0.611012 -0.865648   \n",
       "\n",
       "            ast  net_rating  oreb_pct  dreb_pct   usg_pct    ts_pct   ast_pct  \n",
       "0      0.725497    1.502370  2.971452  2.867924 -1.613728 -0.294306 -0.190264  \n",
       "1     -0.838872    1.189615  0.510564  0.146034 -0.199814 -0.789883 -0.874381  \n",
       "2     -0.783001    0.004436  1.125786 -0.629388 -1.557171 -1.336030  0.178107  \n",
       "3     -0.671261   -0.538771  0.100416  0.114384 -0.350632 -1.103412 -0.569160  \n",
       "4     -0.894742   -0.744531  1.216930  0.589132 -1.104719  1.040719 -0.958580  \n",
       "...         ...         ...       ...       ...       ...       ...       ...  \n",
       "11140 -0.391909    0.555873  0.009272 -0.028040 -0.935049  0.980036 -0.705983  \n",
       "11141 -0.950612   -0.020255 -0.856596 -1.325686 -0.407188 -0.284192 -1.032255  \n",
       "11142 -0.391909    0.638177 -0.605950  1.190480 -1.236684  1.334020 -0.579685  \n",
       "11143 -0.783001   -1.172512  0.670066  1.506979 -1.123571  0.130475 -0.790182  \n",
       "11144 -0.727131    0.259579 -0.879382 -0.597738 -0.689971  1.566638 -0.442861  \n",
       "\n",
       "[11145 rows x 13 columns]"
      ]
     },
     "execution_count": 41,
     "metadata": {},
     "output_type": "execute_result"
    }
   ],
   "source": [
    "scaler.fit(nba_model)\n",
    "feat_sc = scaler.transform(nba_model)\n",
    "nba_model_sc = pd.DataFrame(feat_sc, columns = nba_model.columns)\n",
    "nba_model_sc"
   ]
  },
  {
   "cell_type": "code",
   "execution_count": 42,
   "metadata": {},
   "outputs": [],
   "source": [
    "label = nba['potential_player']"
   ]
  },
  {
   "cell_type": "code",
   "execution_count": 43,
   "metadata": {},
   "outputs": [],
   "source": [
    "x_train,x_test,y_train,y_test =train_test_split(nba_norm,label,stratify=label,test_size=0.2,random_state=4)"
   ]
  },
  {
   "cell_type": "markdown",
   "metadata": {},
   "source": [
    "## Modeling"
   ]
  },
  {
   "cell_type": "code",
   "execution_count": 44,
   "metadata": {},
   "outputs": [],
   "source": [
    "dtc = DecisionTreeClassifier()\n",
    "lr = LogisticRegression()\n",
    "knn = KNeighborsClassifier\n",
    "gbc = GradientBoostingClassifier()"
   ]
  },
  {
   "cell_type": "markdown",
   "metadata": {},
   "source": [
    "### DTC"
   ]
  },
  {
   "cell_type": "markdown",
   "metadata": {},
   "source": [
    "#### Default dtc"
   ]
  },
  {
   "cell_type": "code",
   "execution_count": 45,
   "metadata": {},
   "outputs": [
    {
     "data": {
      "text/plain": [
       "age                 float64\n",
       "player_height       float64\n",
       "player_weight       float64\n",
       "gp                  float64\n",
       "pts                 float64\n",
       "reb                 float64\n",
       "ast                 float64\n",
       "net_rating          float64\n",
       "oreb_pct            float64\n",
       "dreb_pct            float64\n",
       "usg_pct             float64\n",
       "ts_pct              float64\n",
       "ast_pct             float64\n",
       "potential_player    float64\n",
       "dtype: object"
      ]
     },
     "execution_count": 45,
     "metadata": {},
     "output_type": "execute_result"
    }
   ],
   "source": [
    "nba2_standard.dtypes"
   ]
  },
  {
   "cell_type": "code",
   "execution_count": 46,
   "metadata": {},
   "outputs": [
    {
     "data": {
      "text/plain": [
       "DecisionTreeClassifier()"
      ]
     },
     "execution_count": 46,
     "metadata": {},
     "output_type": "execute_result"
    }
   ],
   "source": [
    "dtc.fit(x_train,y_train)"
   ]
  },
  {
   "cell_type": "code",
   "execution_count": 47,
   "metadata": {},
   "outputs": [],
   "source": [
    "dtc_pred = dtc.predict(x_test)\n",
    "dtc_proba = dtc.predict_proba(x_test)"
   ]
  },
  {
   "cell_type": "code",
   "execution_count": 48,
   "metadata": {},
   "outputs": [
    {
     "name": "stdout",
     "output_type": "stream",
     "text": [
      "              precision    recall  f1-score   support\n",
      "\n",
      "           0       1.00      1.00      1.00      2138\n",
      "           1       0.99      0.95      0.97        91\n",
      "\n",
      "    accuracy                           1.00      2229\n",
      "   macro avg       0.99      0.97      0.98      2229\n",
      "weighted avg       1.00      1.00      1.00      2229\n",
      "\n"
     ]
    }
   ],
   "source": [
    "print(classification_report(y_test,dtc_pred))"
   ]
  },
  {
   "cell_type": "code",
   "execution_count": 49,
   "metadata": {},
   "outputs": [
    {
     "name": "stdout",
     "output_type": "stream",
     "text": [
      "[[2137    1]\n",
      " [   5   86]]\n"
     ]
    }
   ],
   "source": [
    "tn_dtc, fp_dtc, fn_dtc, tp_dtc = confusion_matrix(y_test,dtc_pred,labels=[0,1]).ravel()\n",
    "print(confusion_matrix(y_test, dtc_pred))"
   ]
  },
  {
   "cell_type": "code",
   "execution_count": 50,
   "metadata": {},
   "outputs": [
    {
     "data": {
      "text/plain": [
       "0.972293609103712"
      ]
     },
     "execution_count": 50,
     "metadata": {},
     "output_type": "execute_result"
    }
   ],
   "source": [
    "fpr_dtc, tpr_dtc, thr_dtc = roc_curve(y_test, dtc_proba[:,1])\n",
    "roc_auc = auc(fpr_dtc, tpr_dtc)\n",
    "roc_auc"
   ]
  },
  {
   "cell_type": "code",
   "execution_count": 51,
   "metadata": {},
   "outputs": [
    {
     "data": {
      "text/plain": [
       "Text(0.5, 0, 'False Positive Rate')"
      ]
     },
     "execution_count": 51,
     "metadata": {},
     "output_type": "execute_result"
    },
    {
     "data": {
      "image/png": "[encoded data removed]",
      "text/plain": [
       "<Figure size 720x720 with 1 Axes>"
      ]
     },
     "metadata": {
      "needs_background": "light"
     },
     "output_type": "display_data"
    }
   ],
   "source": [
    "plt.figure(figsize=(10,10))\n",
    "plt.title('DTC DEFAULT')\n",
    "plt.plot(fpr_dtc,tpr_dtc, color='red',label = 'AUC = %0.2f' % roc_auc)\n",
    "plt.legend(loc = 'lower right')\n",
    "plt.plot([0, 1], [0, 1],linestyle='--')\n",
    "plt.axis('tight')\n",
    "plt.ylabel('True Positive Rate')\n",
    "plt.xlabel('False Positive Rate')"
   ]
  },
  {
   "cell_type": "code",
   "execution_count": null,
   "metadata": {},
   "outputs": [],
   "source": []
  },
  {
   "cell_type": "markdown",
   "metadata": {},
   "source": [
    "### Dtc Tuned Model"
   ]
  },
  {
   "cell_type": "code",
   "execution_count": 52,
   "metadata": {},
   "outputs": [],
   "source": [
    "from imblearn.over_sampling import RandomOverSampler, SMOTE"
   ]
  },
  {
   "cell_type": "code",
   "execution_count": 53,
   "metadata": {},
   "outputs": [],
   "source": [
    "model = dtc\n",
    "balance = SMOTE()\n",
    "skfold = StratifiedKFold(n_splits=5)\n",
    "scale = StandardScaler()\n",
    "\n",
    "estimator = Pipeline([\n",
    "    ('sc',StandardScaler()),\n",
    "    ('balancing', balance),\n",
    "    ('clf', model)\n",
    "])\n",
    "\n",
    "dtc_hyper_param = {\n",
    "    'clf__criterion': ['gini', 'entropy'],\n",
    "    'clf__max_depth': [5,10,15,20],\n",
    "    'clf__min_samples_split': [5,6,7,8]\n",
    "}\n",
    "\n",
    "grid_search_dtc = GridSearchCV(\n",
    "    estimator,\n",
    "    param_grid = dtc_hyper_param,\n",
    "    cv = StratifiedKFold(),\n",
    "    scoring = 'roc_auc',\n",
    "    n_jobs = -1,\n",
    "    verbose = 1\n",
    ")"
   ]
  },
  {
   "cell_type": "code",
   "execution_count": null,
   "metadata": {},
   "outputs": [],
   "source": []
  },
  {
   "cell_type": "markdown",
   "metadata": {},
   "source": [
    "## Benchmark"
   ]
  },
  {
   "cell_type": "code",
   "execution_count": 54,
   "metadata": {},
   "outputs": [
    {
     "name": "stdout",
     "output_type": "stream",
     "text": [
      "CV Score: [0.97945205 1.         0.98513178 0.99256589 0.99256589]\n",
      "CV Score Mean: 0.9899431226467996\n",
      "CV Score Std: 0.007044290247238586\n"
     ]
    }
   ],
   "source": [
    "model_cv = cross_val_score(estimator, x_train, y_train, scoring='roc_auc')\n",
    "print('CV Score:', model_cv)\n",
    "print('CV Score Mean:', model_cv.mean())\n",
    "print('CV Score Std:', model_cv.std())"
   ]
  },
  {
   "cell_type": "markdown",
   "metadata": {},
   "source": [
    "## With Balancing Smote()"
   ]
  },
  {
   "cell_type": "markdown",
   "metadata": {},
   "source": [
    "karena pada dataset terdapat imbalance hanya terdapat 4% kandidat yang lolos maka kita akan menggunakan balancing pada dataset"
   ]
  },
  {
   "cell_type": "code",
   "execution_count": 55,
   "metadata": {},
   "outputs": [
    {
     "name": "stdout",
     "output_type": "stream",
     "text": [
      "Fitting 5 folds for each of 32 candidates, totalling 160 fits\n"
     ]
    },
    {
     "data": {
      "text/plain": [
       "GridSearchCV(cv=StratifiedKFold(n_splits=5, random_state=None, shuffle=False),\n",
       "             estimator=Pipeline(steps=[('sc', StandardScaler()),\n",
       "                                       ('balancing', SMOTE()),\n",
       "                                       ('clf', DecisionTreeClassifier())]),\n",
       "             n_jobs=-1,\n",
       "             param_grid={'clf__criterion': ['gini', 'entropy'],\n",
       "                         'clf__max_depth': [5, 10, 15, 20],\n",
       "                         'clf__min_samples_split': [5, 6, 7, 8]},\n",
       "             scoring='roc_auc', verbose=1)"
      ]
     },
     "execution_count": 55,
     "metadata": {},
     "output_type": "execute_result"
    }
   ],
   "source": [
    "grid_search_dtc.fit(x_train,y_train)"
   ]
  },
  {
   "cell_type": "code",
   "execution_count": 56,
   "metadata": {},
   "outputs": [
    {
     "name": "stdout",
     "output_type": "stream",
     "text": [
      "estimator dtc tuned score: 0.9955972122086036\n",
      "estimator dtc best params: {'clf__criterion': 'entropy', 'clf__max_depth': 15, 'clf__min_samples_split': 6}\n"
     ]
    }
   ],
   "source": [
    "print('estimator dtc tuned score:', grid_search_dtc.best_score_)\n",
    "print('estimator dtc best params:', grid_search_dtc.best_params_)"
   ]
  },
  {
   "cell_type": "code",
   "execution_count": 57,
   "metadata": {},
   "outputs": [],
   "source": [
    "dtc_tuned = grid_search_dtc.best_estimator_"
   ]
  },
  {
   "cell_type": "code",
   "execution_count": 58,
   "metadata": {},
   "outputs": [],
   "source": [
    "dtc_tuned_pred = dtc_tuned.predict(x_test)\n",
    "dtc_tuned_prob = dtc_tuned.predict_proba(x_test)"
   ]
  },
  {
   "cell_type": "code",
   "execution_count": 59,
   "metadata": {},
   "outputs": [
    {
     "name": "stdout",
     "output_type": "stream",
     "text": [
      "[[2138    0]\n",
      " [   0   91]]\n"
     ]
    }
   ],
   "source": [
    "tn_dtc_tuned, fp_dtc_tuned, fn_dtc_tuned, tp_dtc_tuned = confusion_matrix(y_test,dtc_tuned_pred,labels=[0,1]).ravel()\n",
    "print(confusion_matrix(y_test, dtc_tuned_pred))"
   ]
  },
  {
   "cell_type": "code",
   "execution_count": 60,
   "metadata": {},
   "outputs": [
    {
     "data": {
      "text/plain": [
       "1.0"
      ]
     },
     "execution_count": 60,
     "metadata": {},
     "output_type": "execute_result"
    }
   ],
   "source": [
    "fpr_dtc_tuned, tpr_dtc_tuned, thr_dtc_tuned = roc_curve(y_test, dtc_tuned_prob[:,1])\n",
    "roc_auc_tuned = auc(fpr_dtc_tuned, tpr_dtc_tuned)\n",
    "roc_auc_tuned"
   ]
  },
  {
   "cell_type": "code",
   "execution_count": 61,
   "metadata": {},
   "outputs": [
    {
     "name": "stdout",
     "output_type": "stream",
     "text": [
      "              precision    recall  f1-score   support\n",
      "\n",
      "           0       1.00      1.00      1.00      2138\n",
      "           1       1.00      1.00      1.00        91\n",
      "\n",
      "    accuracy                           1.00      2229\n",
      "   macro avg       1.00      1.00      1.00      2229\n",
      "weighted avg       1.00      1.00      1.00      2229\n",
      "\n"
     ]
    }
   ],
   "source": [
    "print(classification_report(y_test, dtc_tuned_pred))"
   ]
  },
  {
   "cell_type": "markdown",
   "metadata": {},
   "source": [
    "pada hasil DTC_TUNED model menignkat di bandingkan pada benchmark baik pada precision maupun recall"
   ]
  },
  {
   "cell_type": "code",
   "execution_count": 62,
   "metadata": {},
   "outputs": [
    {
     "data": {
      "text/plain": [
       "Text(0.5, 0, 'False Positive Rate')"
      ]
     },
     "execution_count": 62,
     "metadata": {},
     "output_type": "execute_result"
    },
    {
     "data": {
      "image/png": "[encoded data removed]",
      "text/plain": [
       "<Figure size 720x720 with 1 Axes>"
      ]
     },
     "metadata": {
      "needs_background": "light"
     },
     "output_type": "display_data"
    }
   ],
   "source": [
    "plt.figure(figsize=(10,10))\n",
    "plt.title('DTC_TUNED')\n",
    "plt.plot(fpr_dtc_tuned,tpr_dtc_tuned, color='red',label = 'AUC = %0.2f' % roc_auc_tuned)\n",
    "plt.legend(loc = 'lower right')\n",
    "plt.plot([0, 1], [0, 1],linestyle='--')\n",
    "plt.axis('tight')\n",
    "plt.ylabel('True Positive Rate')\n",
    "plt.xlabel('False Positive Rate')"
   ]
  },
  {
   "cell_type": "markdown",
   "metadata": {},
   "source": [
    "## Compare tuned and default"
   ]
  },
  {
   "cell_type": "code",
   "execution_count": 63,
   "metadata": {},
   "outputs": [],
   "source": [
    "dtc_comparison = pd.DataFrame({\n",
    "  \"DTC Default\":[accuracy_score(y_test,dtc_pred),precision_score(y_test,dtc_pred),recall_score(y_test,dtc_pred),f1_score(y_test,dtc_pred),\n",
    "                tp_dtc,tn_dtc,fp_dtc,fn_dtc],\n",
    "    \"DTC TUNED\":[accuracy_score(y_test,dtc_tuned_pred),precision_score(y_test,dtc_tuned_pred),recall_score(y_test,dtc_tuned_pred),f1_score(y_test,dtc_tuned_pred),\n",
    "                tp_dtc_tuned,tn_dtc_tuned,fp_dtc_tuned,fn_dtc_tuned],\n",
    "},index = ['Acuracy Score','precision Score','recall score','f1 score','TP','TN','FP','FN'])"
   ]
  },
  {
   "cell_type": "code",
   "execution_count": 64,
   "metadata": {},
   "outputs": [
    {
     "data": {
      "text/html": [
       "<div>\n",
       "<style scoped>\n",
       "    .dataframe tbody tr th:only-of-type {\n",
       "        vertical-align: middle;\n",
       "    }\n",
       "\n",
       "    .dataframe tbody tr th {\n",
       "        vertical-align: top;\n",
       "    }\n",
       "\n",
       "    .dataframe thead th {\n",
       "        text-align: right;\n",
       "    }\n",
       "</style>\n",
       "<table border=\"1\" class=\"dataframe\">\n",
       "  <thead>\n",
       "    <tr style=\"text-align: right;\">\n",
       "      <th></th>\n",
       "      <th>DTC Default</th>\n",
       "      <th>DTC TUNED</th>\n",
       "    </tr>\n",
       "  </thead>\n",
       "  <tbody>\n",
       "    <tr>\n",
       "      <th>Acuracy Score</th>\n",
       "      <td>0.997308</td>\n",
       "      <td>1.0</td>\n",
       "    </tr>\n",
       "    <tr>\n",
       "      <th>precision Score</th>\n",
       "      <td>0.988506</td>\n",
       "      <td>1.0</td>\n",
       "    </tr>\n",
       "    <tr>\n",
       "      <th>recall score</th>\n",
       "      <td>0.945055</td>\n",
       "      <td>1.0</td>\n",
       "    </tr>\n",
       "    <tr>\n",
       "      <th>f1 score</th>\n",
       "      <td>0.966292</td>\n",
       "      <td>1.0</td>\n",
       "    </tr>\n",
       "    <tr>\n",
       "      <th>TP</th>\n",
       "      <td>86.000000</td>\n",
       "      <td>91.0</td>\n",
       "    </tr>\n",
       "    <tr>\n",
       "      <th>TN</th>\n",
       "      <td>2137.000000</td>\n",
       "      <td>2138.0</td>\n",
       "    </tr>\n",
       "    <tr>\n",
       "      <th>FP</th>\n",
       "      <td>1.000000</td>\n",
       "      <td>0.0</td>\n",
       "    </tr>\n",
       "    <tr>\n",
       "      <th>FN</th>\n",
       "      <td>5.000000</td>\n",
       "      <td>0.0</td>\n",
       "    </tr>\n",
       "  </tbody>\n",
       "</table>\n",
       "</div>"
      ],
      "text/plain": [
       "                 DTC Default  DTC TUNED\n",
       "Acuracy Score       0.997308        1.0\n",
       "precision Score     0.988506        1.0\n",
       "recall score        0.945055        1.0\n",
       "f1 score            0.966292        1.0\n",
       "TP                 86.000000       91.0\n",
       "TN               2137.000000     2138.0\n",
       "FP                  1.000000        0.0\n",
       "FN                  5.000000        0.0"
      ]
     },
     "execution_count": 64,
     "metadata": {},
     "output_type": "execute_result"
    }
   ],
   "source": [
    "dtc_comparison"
   ]
  },
  {
   "cell_type": "markdown",
   "metadata": {},
   "source": [
    "# LOGISTIC REGRESSION"
   ]
  },
  {
   "cell_type": "code",
   "execution_count": 65,
   "metadata": {},
   "outputs": [
    {
     "data": {
      "text/plain": [
       "LogisticRegression()"
      ]
     },
     "execution_count": 65,
     "metadata": {},
     "output_type": "execute_result"
    }
   ],
   "source": [
    "lr"
   ]
  },
  {
   "cell_type": "markdown",
   "metadata": {},
   "source": [
    "## Default"
   ]
  },
  {
   "cell_type": "code",
   "execution_count": 66,
   "metadata": {},
   "outputs": [
    {
     "name": "stderr",
     "output_type": "stream",
     "text": [
      "D:\\anaconda\\lib\\site-packages\\sklearn\\linear_model\\_logistic.py:763: ConvergenceWarning: lbfgs failed to converge (status=1):\n",
      "STOP: TOTAL NO. of ITERATIONS REACHED LIMIT.\n",
      "\n",
      "Increase the number of iterations (max_iter) or scale the data as shown in:\n",
      "    https://scikit-learn.org/stable/modules/preprocessing.html\n",
      "Please also refer to the documentation for alternative solver options:\n",
      "    https://scikit-learn.org/stable/modules/linear_model.html#logistic-regression\n",
      "  n_iter_i = _check_optimize_result(\n"
     ]
    },
    {
     "data": {
      "text/plain": [
       "LogisticRegression()"
      ]
     },
     "execution_count": 66,
     "metadata": {},
     "output_type": "execute_result"
    }
   ],
   "source": [
    "lr.fit(x_train,y_train)"
   ]
  },
  {
   "cell_type": "code",
   "execution_count": 67,
   "metadata": {},
   "outputs": [],
   "source": [
    "lr_pred = lr.predict(x_test)\n",
    "lr_prob = lr.predict_proba(x_test)"
   ]
  },
  {
   "cell_type": "code",
   "execution_count": 68,
   "metadata": {},
   "outputs": [
    {
     "name": "stdout",
     "output_type": "stream",
     "text": [
      "              precision    recall  f1-score   support\n",
      "\n",
      "           0       0.98      0.99      0.98      2138\n",
      "           1       0.68      0.45      0.54        91\n",
      "\n",
      "    accuracy                           0.97      2229\n",
      "   macro avg       0.83      0.72      0.76      2229\n",
      "weighted avg       0.96      0.97      0.97      2229\n",
      "\n"
     ]
    }
   ],
   "source": [
    "print(classification_report(y_test,lr_pred))"
   ]
  },
  {
   "cell_type": "code",
   "execution_count": 69,
   "metadata": {},
   "outputs": [
    {
     "name": "stdout",
     "output_type": "stream",
     "text": [
      "[[2119   19]\n",
      " [  50   41]]\n"
     ]
    }
   ],
   "source": [
    "tn_lr, fp_lr, fn_lr, tp_lr = confusion_matrix(y_test,lr_pred,labels=[0,1]).ravel()\n",
    "print(confusion_matrix(y_test, lr_pred))"
   ]
  },
  {
   "cell_type": "code",
   "execution_count": 70,
   "metadata": {},
   "outputs": [
    {
     "data": {
      "text/plain": [
       "0.9739769117692411"
      ]
     },
     "execution_count": 70,
     "metadata": {},
     "output_type": "execute_result"
    }
   ],
   "source": [
    "fpr_lr, tpr_lr, thr_lr = roc_curve(y_test, lr_prob[:,1])\n",
    "roc_auc_lr = auc(fpr_lr, tpr_lr)\n",
    "roc_auc_lr"
   ]
  },
  {
   "cell_type": "code",
   "execution_count": 71,
   "metadata": {},
   "outputs": [
    {
     "data": {
      "text/plain": [
       "Text(0.5, 0, 'False Positive Rate')"
      ]
     },
     "execution_count": 71,
     "metadata": {},
     "output_type": "execute_result"
    },
    {
     "data": {
      "image/png": "[encoded data removed]",
      "text/plain": [
       "<Figure size 720x720 with 1 Axes>"
      ]
     },
     "metadata": {
      "needs_background": "light"
     },
     "output_type": "display_data"
    }
   ],
   "source": [
    "plt.figure(figsize=(10,10))\n",
    "plt.title('LR DEFAULT')\n",
    "plt.plot(fpr_lr,tpr_lr, color='red',label = 'AUC = %0.2f' % roc_auc_lr)\n",
    "plt.legend(loc = 'lower right')\n",
    "plt.plot([0, 1], [0, 1],linestyle='--')\n",
    "plt.axis('tight')\n",
    "plt.ylabel('True Positive Rate')\n",
    "plt.xlabel('False Positive Rate')"
   ]
  },
  {
   "cell_type": "markdown",
   "metadata": {},
   "source": [
    "## LR TUNED MODEL"
   ]
  },
  {
   "cell_type": "code",
   "execution_count": 72,
   "metadata": {},
   "outputs": [],
   "source": [
    "model_lr = lr\n",
    "balance = SMOTE()\n",
    "skfold = StratifiedKFold(n_splits=5)\n",
    "scale = StandardScaler()\n",
    "\n",
    "lr_estimator = Pipeline([\n",
    "    ('sc',StandardScaler()),\n",
    "    ('balancing', balance),\n",
    "    ('clf',model_lr)\n",
    "    \n",
    "])\n",
    "\n",
    "lr_hyper_param = {\n",
    "    'clf__C':[1000, 500, 100, 50, 10, 5, 1, 0.5, 0.1, 0.05, 0.01, 0.005, 0.001, 0.0005, 0.0001],\n",
    "    'clf__max_iter':[100, 200, 300, 400, 500, 1000],\n",
    "    'clf__solver': ['liblinear', 'newton-cg','sag']\n",
    "}\n",
    "\n",
    "grid_search_lr = GridSearchCV(\n",
    "    lr_estimator,\n",
    "    param_grid = lr_hyper_param,\n",
    "    cv = StratifiedKFold(),\n",
    "    scoring ='roc_auc',\n",
    "    n_jobs = -1,\n",
    "    verbose =1\n",
    ")"
   ]
  },
  {
   "cell_type": "code",
   "execution_count": null,
   "metadata": {},
   "outputs": [],
   "source": []
  },
  {
   "cell_type": "markdown",
   "metadata": {},
   "source": [
    "## Benchmark"
   ]
  },
  {
   "cell_type": "code",
   "execution_count": 73,
   "metadata": {},
   "outputs": [
    {
     "name": "stdout",
     "output_type": "stream",
     "text": [
      "CV Score: [0.97231051 0.99970777 0.98513178 0.98600897 0.9994152 ]\n",
      "CV Score Mean: 0.9885148484580759\n",
      "CV Score Std: 0.010241136587341186\n"
     ]
    }
   ],
   "source": [
    "lr_model_cv = cross_val_score(estimator, x_train, y_train, scoring='roc_auc')\n",
    "print('CV Score:', lr_model_cv)\n",
    "print('CV Score Mean:', lr_model_cv.mean())\n",
    "print('CV Score Std:', lr_model_cv.std())"
   ]
  },
  {
   "cell_type": "markdown",
   "metadata": {},
   "source": [
    "## TUNED LR MODEL"
   ]
  },
  {
   "cell_type": "code",
   "execution_count": 74,
   "metadata": {},
   "outputs": [
    {
     "name": "stdout",
     "output_type": "stream",
     "text": [
      "Fitting 5 folds for each of 270 candidates, totalling 1350 fits\n"
     ]
    },
    {
     "data": {
      "text/plain": [
       "GridSearchCV(cv=StratifiedKFold(n_splits=5, random_state=None, shuffle=False),\n",
       "             estimator=Pipeline(steps=[('sc', StandardScaler()),\n",
       "                                       ('balancing', SMOTE()),\n",
       "                                       ('clf', LogisticRegression())]),\n",
       "             n_jobs=-1,\n",
       "             param_grid={'clf__C': [1000, 500, 100, 50, 10, 5, 1, 0.5, 0.1,\n",
       "                                    0.05, 0.01, 0.005, 0.001, 0.0005, 0.0001],\n",
       "                         'clf__max_iter': [100, 200, 300, 400, 500, 1000],\n",
       "                         'clf__solver': ['liblinear', 'newton-cg', 'sag']},\n",
       "             scoring='roc_auc', verbose=1)"
      ]
     },
     "execution_count": 74,
     "metadata": {},
     "output_type": "execute_result"
    }
   ],
   "source": [
    "grid_search_lr.fit(x_train,y_train)"
   ]
  },
  {
   "cell_type": "code",
   "execution_count": 75,
   "metadata": {},
   "outputs": [
    {
     "name": "stdout",
     "output_type": "stream",
     "text": [
      "estimator dtc tuned score: 0.983376884087783\n",
      "estimator dtc best params: {'clf__C': 0.5, 'clf__max_iter': 300, 'clf__solver': 'liblinear'}\n"
     ]
    }
   ],
   "source": [
    "print('estimator dtc tuned score:', grid_search_lr.best_score_)\n",
    "print('estimator dtc best params:', grid_search_lr.best_params_)"
   ]
  },
  {
   "cell_type": "code",
   "execution_count": 76,
   "metadata": {},
   "outputs": [],
   "source": [
    "lr_tuned = grid_search_lr.best_estimator_\n",
    "lr_tuned_pred = lr_tuned.predict(x_test)\n",
    "lr_tuned_prob = lr_tuned.predict_proba(x_test)"
   ]
  },
  {
   "cell_type": "code",
   "execution_count": 77,
   "metadata": {},
   "outputs": [
    {
     "name": "stdout",
     "output_type": "stream",
     "text": [
      "[[2012  126]\n",
      " [   8   83]]\n"
     ]
    }
   ],
   "source": [
    "tn_lr_tuned, fp_lr_tuned, fn_lr_tuned, tp_lr_tuned = confusion_matrix(y_test,lr_tuned_pred,labels=[0,1]).ravel()\n",
    "print(confusion_matrix(y_test, lr_tuned_pred))"
   ]
  },
  {
   "cell_type": "code",
   "execution_count": 78,
   "metadata": {},
   "outputs": [
    {
     "data": {
      "text/plain": [
       "0.978993410705291"
      ]
     },
     "execution_count": 78,
     "metadata": {},
     "output_type": "execute_result"
    }
   ],
   "source": [
    "fpr_lr_tuned, tpr_lr_tuned, thr_lr_tuned = roc_curve(y_test, lr_tuned_prob[:,1])\n",
    "roc_auc_tuned_lr = auc(fpr_lr_tuned, tpr_lr_tuned)\n",
    "roc_auc_tuned_lr"
   ]
  },
  {
   "cell_type": "code",
   "execution_count": 79,
   "metadata": {},
   "outputs": [
    {
     "name": "stdout",
     "output_type": "stream",
     "text": [
      "              precision    recall  f1-score   support\n",
      "\n",
      "           0       1.00      0.94      0.97      2138\n",
      "           1       0.40      0.91      0.55        91\n",
      "\n",
      "    accuracy                           0.94      2229\n",
      "   macro avg       0.70      0.93      0.76      2229\n",
      "weighted avg       0.97      0.94      0.95      2229\n",
      "\n"
     ]
    }
   ],
   "source": [
    "print(classification_report(y_test, lr_tuned_pred))"
   ]
  },
  {
   "cell_type": "markdown",
   "metadata": {},
   "source": [
    "pada hasil lr_tuned nila recal naik tetpai pada precision mengalami penurunan sehingga akan memilih model DTC_tuned"
   ]
  },
  {
   "cell_type": "code",
   "execution_count": 80,
   "metadata": {},
   "outputs": [
    {
     "data": {
      "text/plain": [
       "Text(0.5, 0, 'False Positive Rate')"
      ]
     },
     "execution_count": 80,
     "metadata": {},
     "output_type": "execute_result"
    },
    {
     "data": {
      "image/png": "[encoded data removed]",
      "text/plain": [
       "<Figure size 720x720 with 1 Axes>"
      ]
     },
     "metadata": {
      "needs_background": "light"
     },
     "output_type": "display_data"
    }
   ],
   "source": [
    "plt.figure(figsize=(10,10))\n",
    "plt.title('LR TUNED')\n",
    "plt.plot(fpr_lr_tuned,tpr_lr_tuned, color='red',label = 'AUC = %0.2f' % roc_auc_tuned_lr)\n",
    "plt.legend(loc = 'lower right')\n",
    "plt.plot([0, 1], [0, 1],linestyle='--')\n",
    "plt.axis('tight')\n",
    "plt.ylabel('True Positive Rate')\n",
    "plt.xlabel('False Positive Rate')"
   ]
  },
  {
   "cell_type": "markdown",
   "metadata": {},
   "source": [
    "### Model compare"
   ]
  },
  {
   "cell_type": "code",
   "execution_count": 81,
   "metadata": {},
   "outputs": [],
   "source": [
    "lr_comparison = pd.DataFrame({\n",
    "  \"LR Default\":[accuracy_score(y_test,lr_pred),precision_score(y_test,lr_pred),recall_score(y_test,lr_pred),f1_score(y_test,lr_pred),\n",
    "                tp_lr,tn_lr,fp_lr,fn_lr],\n",
    "    \"LR TUNED\":[accuracy_score(y_test,lr_tuned_pred),precision_score(y_test,lr_tuned_pred),recall_score(y_test,lr_tuned_pred),f1_score(y_test,lr_tuned_pred),\n",
    "                tp_lr_tuned,tn_lr_tuned,fp_lr_tuned,fn_lr_tuned],\n",
    "},index = ['Acuracy Score','precision Score','recall score','f1 score','TP','TN','FP','FN'])"
   ]
  },
  {
   "cell_type": "code",
   "execution_count": 82,
   "metadata": {},
   "outputs": [
    {
     "data": {
      "text/html": [
       "<div>\n",
       "<style scoped>\n",
       "    .dataframe tbody tr th:only-of-type {\n",
       "        vertical-align: middle;\n",
       "    }\n",
       "\n",
       "    .dataframe tbody tr th {\n",
       "        vertical-align: top;\n",
       "    }\n",
       "\n",
       "    .dataframe thead th {\n",
       "        text-align: right;\n",
       "    }\n",
       "</style>\n",
       "<table border=\"1\" class=\"dataframe\">\n",
       "  <thead>\n",
       "    <tr style=\"text-align: right;\">\n",
       "      <th></th>\n",
       "      <th>LR Default</th>\n",
       "      <th>LR TUNED</th>\n",
       "    </tr>\n",
       "  </thead>\n",
       "  <tbody>\n",
       "    <tr>\n",
       "      <th>Acuracy Score</th>\n",
       "      <td>0.969044</td>\n",
       "      <td>0.939883</td>\n",
       "    </tr>\n",
       "    <tr>\n",
       "      <th>precision Score</th>\n",
       "      <td>0.683333</td>\n",
       "      <td>0.397129</td>\n",
       "    </tr>\n",
       "    <tr>\n",
       "      <th>recall score</th>\n",
       "      <td>0.450549</td>\n",
       "      <td>0.912088</td>\n",
       "    </tr>\n",
       "    <tr>\n",
       "      <th>f1 score</th>\n",
       "      <td>0.543046</td>\n",
       "      <td>0.553333</td>\n",
       "    </tr>\n",
       "    <tr>\n",
       "      <th>TP</th>\n",
       "      <td>41.000000</td>\n",
       "      <td>83.000000</td>\n",
       "    </tr>\n",
       "    <tr>\n",
       "      <th>TN</th>\n",
       "      <td>2119.000000</td>\n",
       "      <td>2012.000000</td>\n",
       "    </tr>\n",
       "    <tr>\n",
       "      <th>FP</th>\n",
       "      <td>19.000000</td>\n",
       "      <td>126.000000</td>\n",
       "    </tr>\n",
       "    <tr>\n",
       "      <th>FN</th>\n",
       "      <td>50.000000</td>\n",
       "      <td>8.000000</td>\n",
       "    </tr>\n",
       "  </tbody>\n",
       "</table>\n",
       "</div>"
      ],
      "text/plain": [
       "                  LR Default     LR TUNED\n",
       "Acuracy Score       0.969044     0.939883\n",
       "precision Score     0.683333     0.397129\n",
       "recall score        0.450549     0.912088\n",
       "f1 score            0.543046     0.553333\n",
       "TP                 41.000000    83.000000\n",
       "TN               2119.000000  2012.000000\n",
       "FP                 19.000000   126.000000\n",
       "FN                 50.000000     8.000000"
      ]
     },
     "execution_count": 82,
     "metadata": {},
     "output_type": "execute_result"
    }
   ],
   "source": [
    "lr_comparison"
   ]
  },
  {
   "cell_type": "markdown",
   "metadata": {},
   "source": [
    "## DTC LR"
   ]
  },
  {
   "cell_type": "code",
   "execution_count": 83,
   "metadata": {},
   "outputs": [],
   "source": [
    "lrdtc_comparison = pd.DataFrame({\n",
    "  \"LR Default\":[accuracy_score(y_test,lr_pred),precision_score(y_test,lr_pred),recall_score(y_test,lr_pred),f1_score(y_test,lr_pred),\n",
    "                tp_lr,tn_lr,fp_lr,fn_lr],\n",
    "    \"DTC TUNED\":[accuracy_score(y_test,dtc_tuned_pred),precision_score(y_test,dtc_tuned_pred),recall_score(y_test,dtc_tuned_pred),f1_score(y_test,dtc_tuned_pred),\n",
    "                tp_dtc_tuned,tn_dtc_tuned,fp_dtc_tuned,fn_dtc_tuned],\n",
    "},index = ['Acuracy Score','precision Score','recall score','f1 score','TP','TN','FP','FN'])"
   ]
  },
  {
   "cell_type": "code",
   "execution_count": 84,
   "metadata": {},
   "outputs": [
    {
     "data": {
      "text/html": [
       "<div>\n",
       "<style scoped>\n",
       "    .dataframe tbody tr th:only-of-type {\n",
       "        vertical-align: middle;\n",
       "    }\n",
       "\n",
       "    .dataframe tbody tr th {\n",
       "        vertical-align: top;\n",
       "    }\n",
       "\n",
       "    .dataframe thead th {\n",
       "        text-align: right;\n",
       "    }\n",
       "</style>\n",
       "<table border=\"1\" class=\"dataframe\">\n",
       "  <thead>\n",
       "    <tr style=\"text-align: right;\">\n",
       "      <th></th>\n",
       "      <th>LR Default</th>\n",
       "      <th>DTC TUNED</th>\n",
       "    </tr>\n",
       "  </thead>\n",
       "  <tbody>\n",
       "    <tr>\n",
       "      <th>Acuracy Score</th>\n",
       "      <td>0.969044</td>\n",
       "      <td>1.0</td>\n",
       "    </tr>\n",
       "    <tr>\n",
       "      <th>precision Score</th>\n",
       "      <td>0.683333</td>\n",
       "      <td>1.0</td>\n",
       "    </tr>\n",
       "    <tr>\n",
       "      <th>recall score</th>\n",
       "      <td>0.450549</td>\n",
       "      <td>1.0</td>\n",
       "    </tr>\n",
       "    <tr>\n",
       "      <th>f1 score</th>\n",
       "      <td>0.543046</td>\n",
       "      <td>1.0</td>\n",
       "    </tr>\n",
       "    <tr>\n",
       "      <th>TP</th>\n",
       "      <td>41.000000</td>\n",
       "      <td>91.0</td>\n",
       "    </tr>\n",
       "    <tr>\n",
       "      <th>TN</th>\n",
       "      <td>2119.000000</td>\n",
       "      <td>2138.0</td>\n",
       "    </tr>\n",
       "    <tr>\n",
       "      <th>FP</th>\n",
       "      <td>19.000000</td>\n",
       "      <td>0.0</td>\n",
       "    </tr>\n",
       "    <tr>\n",
       "      <th>FN</th>\n",
       "      <td>50.000000</td>\n",
       "      <td>0.0</td>\n",
       "    </tr>\n",
       "  </tbody>\n",
       "</table>\n",
       "</div>"
      ],
      "text/plain": [
       "                  LR Default  DTC TUNED\n",
       "Acuracy Score       0.969044        1.0\n",
       "precision Score     0.683333        1.0\n",
       "recall score        0.450549        1.0\n",
       "f1 score            0.543046        1.0\n",
       "TP                 41.000000       91.0\n",
       "TN               2119.000000     2138.0\n",
       "FP                 19.000000        0.0\n",
       "FN                 50.000000        0.0"
      ]
     },
     "execution_count": 84,
     "metadata": {},
     "output_type": "execute_result"
    }
   ],
   "source": [
    "lrdtc_comparison"
   ]
  },
  {
   "cell_type": "markdown",
   "metadata": {},
   "source": [
    "## untuk melakukan predict data baru kita akan menggunakan DTC TUNED karena model lebih stabil"
   ]
  },
  {
   "cell_type": "markdown",
   "metadata": {},
   "source": [
    "## Mengatur threshold"
   ]
  },
  {
   "cell_type": "code",
   "execution_count": 85,
   "metadata": {},
   "outputs": [
    {
     "data": {
      "text/html": [
       "<div>\n",
       "<style scoped>\n",
       "    .dataframe tbody tr th:only-of-type {\n",
       "        vertical-align: middle;\n",
       "    }\n",
       "\n",
       "    .dataframe tbody tr th {\n",
       "        vertical-align: top;\n",
       "    }\n",
       "\n",
       "    .dataframe thead th {\n",
       "        text-align: right;\n",
       "    }\n",
       "</style>\n",
       "<table border=\"1\" class=\"dataframe\">\n",
       "  <thead>\n",
       "    <tr style=\"text-align: right;\">\n",
       "      <th></th>\n",
       "      <th>thr</th>\n",
       "      <th>tpr</th>\n",
       "      <th>fpr</th>\n",
       "    </tr>\n",
       "  </thead>\n",
       "  <tbody>\n",
       "    <tr>\n",
       "      <th>2</th>\n",
       "      <td>0.0</td>\n",
       "      <td>1.000000</td>\n",
       "      <td>1.000000</td>\n",
       "    </tr>\n",
       "    <tr>\n",
       "      <th>1</th>\n",
       "      <td>1.0</td>\n",
       "      <td>0.945055</td>\n",
       "      <td>0.000468</td>\n",
       "    </tr>\n",
       "    <tr>\n",
       "      <th>0</th>\n",
       "      <td>2.0</td>\n",
       "      <td>0.000000</td>\n",
       "      <td>0.000000</td>\n",
       "    </tr>\n",
       "  </tbody>\n",
       "</table>\n",
       "</div>"
      ],
      "text/plain": [
       "   thr       tpr       fpr\n",
       "2  0.0  1.000000  1.000000\n",
       "1  1.0  0.945055  0.000468\n",
       "0  2.0  0.000000  0.000000"
      ]
     },
     "execution_count": 85,
     "metadata": {},
     "output_type": "execute_result"
    }
   ],
   "source": [
    "dtc_thr = pd.DataFrame({'thr':thr_dtc,'tpr':tpr_dtc,'fpr':fpr_dtc})\n",
    "dtc_thr.sort_values('tpr',ascending=False)"
   ]
  },
  {
   "cell_type": "code",
   "execution_count": null,
   "metadata": {},
   "outputs": [],
   "source": []
  },
  {
   "cell_type": "code",
   "execution_count": 86,
   "metadata": {},
   "outputs": [
    {
     "name": "stdout",
     "output_type": "stream",
     "text": [
      "[0, 1, 0, 1, 0, 0, 0, 0, 0, 0, 0, 0, 0, 0, 0, 0, 0, 0, 0, 0, 0, 0, 0, 0, 0, 0, 0, 0, 0, 0, 0, 0, 0, 0, 0, 0, 0, 0, 0, 0, 0, 0, 0, 0, 0, 0, 0, 0, 0, 0, 0, 0, 0, 0, 0, 0, 0, 0, 0, 0, 0, 0, 0, 1, 0, 0, 0, 0, 0, 0, 0, 0, 0, 0, 0, 0, 0, 0, 0, 0, 0, 0, 0, 0, 0, 0, 0, 0, 0, 0, 0, 0, 0, 0, 0, 0, 0, 0, 0, 0, 0, 0, 0, 0, 0, 0, 0, 0, 0, 0, 0, 0, 0, 0, 0, 0, 0, 0, 0, 0, 0, 0, 0, 0, 0, 0, 0, 0, 0, 0, 0, 0, 0, 0, 0, 0, 0, 0, 0, 0, 0, 0, 0, 0, 0, 0, 0, 0, 0, 0, 0, 0, 0, 0, 0, 0, 0, 0, 0, 0, 0, 0, 0, 0, 0, 0, 0, 0, 0, 0, 1, 0, 0, 0, 0, 0, 0, 0, 1, 0, 0, 0, 0, 0, 0, 0, 0, 0, 0, 0, 0, 0, 0, 0, 0, 0, 0, 0, 1, 0, 0, 0, 0, 0, 0, 0, 0, 0, 0, 0, 0, 0, 0, 0, 0, 0, 0, 0, 0, 0, 0, 0, 0, 0, 0, 0, 0, 0, 0, 1, 0, 0, 0, 0, 0, 0, 0, 0, 1, 0, 0, 0, 0, 0, 0, 0, 0, 0, 0, 0, 1, 0, 0, 0, 0, 0, 0, 0, 0, 0, 0, 0, 0, 0, 0, 0, 0, 0, 0, 0, 0, 0, 0, 0, 0, 0, 0, 0, 0, 0, 0, 0, 0, 0, 0, 1, 0, 0, 0, 0, 0, 0, 0, 0, 0, 0, 0, 0, 0, 0, 0, 0, 0, 0, 0, 0, 0, 0, 0, 0, 0, 0, 0, 0, 0, 0, 0, 0, 0, 0, 0, 0, 0, 1, 0, 0, 0, 0, 0, 0, 1, 0, 1, 0, 0, 0, 0, 0, 0, 0, 0, 0, 0, 0, 0, 0, 0, 0, 0, 0, 0, 0, 0, 0, 0, 0, 0, 0, 0, 0, 0, 0, 0, 0, 0, 0, 0, 0, 0, 0, 0, 0, 0, 0, 0, 0, 0, 0, 0, 0, 0, 0, 0, 0, 0, 0, 0, 0, 0, 0, 0, 0, 0, 0, 0, 0, 0, 0, 0, 0, 0, 0, 0, 0, 0, 0, 0, 0, 0, 0, 0, 0, 0, 0, 0, 0, 0, 0, 0, 0, 0, 0, 1, 0, 0, 0, 0, 1, 0, 0, 0, 0, 0, 0, 0, 1, 0, 1, 0, 0, 0, 0, 0, 0, 0, 0, 0, 0, 0, 0, 0, 0, 0, 1, 0, 0, 0, 0, 0, 0, 0, 0, 0, 0, 0, 0, 0, 0, 0, 0, 0, 0, 0, 0, 0, 0, 0, 0, 0, 0, 0, 0, 0, 0, 0, 0, 1, 0, 0, 0, 0, 0, 0, 0, 0, 0, 0, 0, 0, 0, 0, 0, 0, 0, 0, 0, 0, 0, 0, 0, 0, 0, 0, 0, 0, 0, 0, 0, 0, 0, 0, 0, 0, 0, 0, 0, 0, 0, 0, 0, 0, 0, 0, 0, 0, 1, 0, 0, 0, 0, 0, 0, 0, 0, 0, 0, 0, 0, 0, 0, 0, 0, 0, 0, 0, 0, 0, 0, 0, 0, 0, 0, 0, 0, 0, 0, 0, 0, 0, 0, 0, 1, 0, 0, 0, 0, 0, 0, 0, 0, 0, 0, 0, 0, 0, 0, 0, 0, 1, 0, 0, 0, 0, 0, 0, 0, 0, 0, 0, 0, 0, 0, 0, 0, 0, 0, 0, 0, 0, 0, 0, 0, 0, 0, 0, 0, 0, 0, 0, 0, 0, 1, 0, 0, 0, 0, 0, 0, 0, 0, 0, 0, 0, 0, 0, 0, 0, 0, 0, 0, 0, 0, 0, 0, 0, 0, 0, 0, 0, 0, 0, 0, 0, 0, 0, 0, 0, 0, 0, 0, 0, 0, 0, 0, 0, 0, 0, 0, 0, 1, 0, 0, 0, 0, 0, 0, 0, 0, 0, 0, 0, 0, 0, 0, 0, 0, 0, 0, 0, 0, 0, 0, 0, 0, 0, 0, 0, 0, 0, 0, 0, 0, 0, 1, 0, 0, 0, 0, 0, 0, 0, 0, 0, 0, 0, 0, 0, 0, 0, 1, 0, 0, 0, 0, 0, 0, 0, 0, 0, 0, 0, 0, 0, 0, 0, 0, 0, 0, 0, 0, 0, 1, 0, 0, 0, 0, 0, 0, 0, 1, 0, 0, 0, 0, 0, 0, 0, 0, 0, 0, 0, 0, 0, 0, 0, 0, 0, 0, 0, 1, 0, 0, 0, 0, 0, 0, 0, 0, 0, 0, 0, 0, 0, 0, 0, 0, 0, 1, 0, 0, 0, 0, 0, 0, 0, 0, 0, 0, 0, 0, 0, 0, 0, 0, 0, 0, 0, 0, 0, 0, 0, 1, 0, 0, 0, 0, 0, 0, 0, 0, 0, 0, 0, 0, 1, 0, 0, 0, 0, 0, 0, 0, 0, 0, 0, 0, 0, 0, 0, 0, 0, 0, 0, 0, 0, 0, 0, 0, 0, 0, 0, 0, 0, 1, 0, 0, 0, 0, 0, 0, 0, 0, 0, 0, 0, 0, 0, 0, 0, 0, 0, 0, 0, 0, 0, 0, 0, 0, 0, 0, 0, 0, 0, 0, 0, 0, 0, 0, 0, 0, 0, 0, 0, 0, 1, 0, 0, 0, 0, 0, 0, 0, 0, 0, 0, 0, 0, 0, 0, 0, 0, 0, 0, 0, 0, 0, 0, 0, 0, 0, 0, 0, 0, 1, 0, 0, 0, 0, 0, 0, 0, 0, 0, 0, 0, 0, 0, 1, 1, 0, 0, 0, 0, 0, 0, 0, 0, 0, 0, 0, 0, 0, 0, 0, 0, 0, 0, 0, 0, 0, 0, 0, 0, 0, 0, 0, 0, 0, 0, 0, 0, 0, 0, 0, 0, 0, 0, 0, 0, 0, 0, 0, 0, 0, 0, 0, 0, 0, 0, 0, 0, 0, 1, 0, 0, 0, 0, 0, 0, 0, 0, 0, 0, 1, 0, 0, 0, 0, 0, 0, 0, 0, 0, 0, 0, 1, 0, 0, 0, 0, 0, 0, 0, 0, 0, 0, 0, 0, 0, 0, 0, 0, 0, 0, 0, 0, 0, 0, 0, 0, 0, 0, 0, 0, 0, 0, 0, 0, 0, 0, 0, 0, 0, 0, 0, 0, 0, 0, 0, 0, 0, 0, 0, 0, 0, 0, 0, 0, 0, 0, 0, 0, 0, 0, 0, 0, 0, 0, 0, 0, 0, 0, 0, 0, 0, 0, 0, 0, 0, 0, 0, 0, 0, 0, 0, 0, 0, 0, 0, 0, 0, 0, 0, 0, 0, 0, 0, 0, 0, 1, 0, 1, 0, 0, 0, 0, 0, 0, 0, 0, 0, 0, 1, 0, 0, 0, 0, 0, 0, 0, 0, 0, 0, 0, 0, 0, 1, 0, 0, 0, 0, 0, 0, 0, 0, 0, 0, 0, 0, 0, 1, 0, 0, 0, 0, 0, 0, 0, 0, 0, 0, 0, 0, 0, 0, 0, 0, 0, 0, 0, 0, 0, 0, 0, 0, 0, 0, 0, 0, 0, 0, 0, 0, 0, 0, 0, 0, 1, 1, 0, 0, 0, 0, 0, 0, 0, 1, 0, 0, 0, 0, 0, 0, 0, 0, 0, 0, 0, 0, 0, 0, 0, 0, 0, 0, 0, 0, 0, 0, 0, 0, 0, 0, 0, 0, 0, 0, 0, 0, 0, 0, 0, 0, 0, 0, 0, 0, 0, 0, 0, 0, 1, 0, 0, 0, 0, 0, 0, 0, 0, 0, 0, 0, 0, 0, 0, 0, 0, 0, 0, 0, 0, 0, 0, 0, 0, 0, 0, 0, 0, 0, 0, 0, 0, 1, 0, 0, 0, 0, 0, 0, 0, 0, 0, 0, 1, 0, 0, 0, 0, 0, 0, 0, 0, 0, 0, 0, 0, 0, 0, 0, 0, 0, 0, 0, 0, 0, 0, 0, 0, 0, 0, 0, 0, 0, 0, 0, 0, 0, 0, 0, 0, 0, 0, 0, 0, 0, 0, 0, 0, 0, 0, 0, 0, 0, 0, 0, 0, 0, 0, 0, 0, 0, 0, 0, 0, 0, 0, 0, 0, 0, 0, 0, 0, 0, 0, 0, 0, 1, 0, 0, 0, 0, 0, 0, 0, 0, 0, 0, 0, 1, 1, 0, 0, 0, 0, 0, 0, 0, 0, 0, 0, 0, 0, 0, 0, 0, 0, 0, 0, 0, 0, 0, 0, 0, 0, 0, 0, 0, 0, 0, 0, 0, 0, 0, 0, 1, 0, 0, 0, 0, 0, 0, 0, 0, 0, 1, 0, 0, 0, 0, 0, 0, 0, 0, 0, 0, 0, 1, 0, 0, 0, 0, 0, 0, 0, 0, 0, 0, 0, 0, 0, 0, 0, 0, 0, 0, 0, 0, 0, 0, 0, 0, 0, 0, 0, 1, 0, 0, 0, 0, 0, 1, 0, 0, 0, 0, 0, 0, 0, 0, 0, 0, 0, 0, 0, 0, 0, 0, 0, 0, 0, 0, 0, 0, 0, 0, 0, 0, 0, 0, 0, 0, 0, 0, 0, 0, 0, 0, 0, 0, 0, 0, 0, 0, 0, 0, 0, 0, 0, 0, 0, 0, 0, 0, 0, 0, 0, 0, 0, 0, 0, 0, 0, 0, 1, 0, 0, 0, 0, 0, 0, 0, 0, 0, 0, 0, 0, 0, 0, 0, 0, 0, 0, 0, 0, 0, 0, 0, 0, 0, 0, 0, 0, 0, 0, 0, 0, 0, 0, 0, 1, 0, 0, 0, 1, 0, 0, 0, 0, 0, 0, 0, 0, 0, 0, 0, 0, 0, 0, 0, 0, 0, 0, 0, 0, 0, 0, 0, 0, 0, 0, 0, 0, 0, 0, 0, 0, 0, 0, 0, 0, 0, 0, 0, 0, 0, 0, 0, 0, 0, 0, 0, 0, 0, 0, 0, 0, 0, 0, 0, 0, 0, 0, 0, 0, 0, 0, 0, 0, 0, 0, 0, 0, 0, 0, 0, 0, 0, 0, 0, 0, 0, 0, 0, 0, 0, 0, 0, 0, 0, 1, 0, 0, 0, 0, 0, 0, 0, 0, 0, 0, 0, 0, 0, 0, 0, 0, 0, 0, 0, 1, 0, 0, 0, 0, 0, 0, 0, 0, 0, 0, 0, 0, 0, 0, 0, 0, 0, 0, 0, 0, 0, 0, 0, 0, 0, 0, 0, 0, 0, 0, 0, 0, 0, 0, 0, 0, 0, 0, 0, 0, 0, 0, 0, 0, 0, 0, 0, 0, 0, 0, 0, 0, 0, 0, 0, 0, 0, 0, 0, 0, 0, 0, 0, 0, 0, 0, 0, 0, 0, 0, 0, 0, 0, 0, 1, 0, 0, 0, 0, 0, 0, 0, 0, 0, 0, 0, 0, 0, 0, 0, 0, 1, 0, 0, 0, 0, 0, 0, 0, 0, 0, 0, 0, 0, 0, 0, 0, 0, 0, 0, 0, 0, 0, 0, 0, 0, 0, 0, 0, 0, 0, 0, 0, 0, 0, 0, 0, 0, 0, 0, 1, 0, 0, 0, 0, 0, 0, 0, 0, 1, 0, 0, 0, 0, 0, 0, 0, 0, 0, 0, 0, 0, 0, 0, 0, 0, 0, 0, 0, 0, 0, 0, 0, 0, 1, 0, 0, 0, 0, 0, 0, 0, 0, 0, 0, 0, 0, 0, 0, 0, 0, 0, 0, 0, 0, 0, 0, 0, 0, 0, 0, 0, 0, 0, 0, 0, 0, 0, 0, 0, 0, 0, 0, 0, 0, 0, 0, 0, 0, 0, 0, 0, 0, 0, 0, 0, 0, 0, 1, 0, 0, 0, 0, 0, 0, 0, 0, 0, 0, 0, 0, 0, 0, 1, 0, 0, 0, 0, 0, 0, 0, 0, 0, 0, 0, 0, 0, 0, 0, 0, 0, 0, 0, 0, 0, 0, 0, 0, 0, 0, 0, 0, 0, 0, 0, 0, 0, 0, 0, 0, 0, 0, 0, 0, 0, 0, 0, 0, 0, 0, 0, 0, 0, 0, 0, 0, 1, 0, 0, 0, 0, 0, 0, 0, 0, 0, 0, 0, 0, 0, 0, 0, 1, 0, 0, 0, 0, 1, 0, 0, 0, 0, 0, 0, 0, 0, 0, 0, 0, 1, 0, 0, 0, 0, 0, 0, 1, 0, 0, 0, 0, 1, 0, 0, 0, 0, 1, 0, 0, 0, 0, 0, 0, 0, 0, 0, 0, 0, 0, 0, 0, 0, 0, 0, 1, 0, 0, 0, 0, 0, 0, 0, 0, 0, 0, 0, 0, 0, 0, 0, 0, 0, 0, 0, 0, 0, 0, 0, 0, 0, 0, 1, 0, 0, 0, 0, 0, 0, 0, 0, 0, 0, 0, 0, 0, 0, 0, 0, 1, 0, 0, 0, 0, 0, 0, 0, 0, 0, 0, 0, 0, 0, 0, 0, 0, 0, 0, 0, 0, 0, 0, 0, 0, 0, 1, 0, 0, 0, 0, 0, 0, 0, 0, 0, 0, 0, 0, 1, 0, 0, 0, 0, 0, 0, 0, 0, 0, 0, 0, 0, 0, 0, 0, 0, 1, 0, 0, 1, 0, 1, 0, 0, 0, 0, 0, 0, 0, 0, 0, 0, 0, 0, 0, 0, 0, 0, 0, 0, 0, 0, 0, 0, 0, 0, 0, 0, 0, 0, 0, 0, 0, 0, 0, 0, 0, 0, 0, 0, 0, 0, 0, 0, 0, 0, 0, 0, 0, 0, 0, 0, 0, 0, 0, 0, 0, 0, 0, 0, 0, 0, 0, 0, 0, 0, 0, 0, 0, 0, 0, 0, 0, 0, 0, 0, 1, 0, 0, 0, 0, 0, 0, 0, 0, 0, 0, 0, 0, 0, 0, 0, 0, 0, 0, 0, 0, 0, 0]\n"
     ]
    }
   ],
   "source": [
    "dtc_prob = dtc_proba[:,1]\n",
    "dtc_pred_18 = [0 if x < 0.000018 else 1 for x in dtc_prob]\n",
    "print(dtc_pred_18)"
   ]
  },
  {
   "cell_type": "code",
   "execution_count": 87,
   "metadata": {},
   "outputs": [
    {
     "name": "stdout",
     "output_type": "stream",
     "text": [
      "              precision    recall  f1-score   support\n",
      "\n",
      "           0       1.00      1.00      1.00      2138\n",
      "           1       0.99      0.95      0.97        91\n",
      "\n",
      "    accuracy                           1.00      2229\n",
      "   macro avg       0.99      0.97      0.98      2229\n",
      "weighted avg       1.00      1.00      1.00      2229\n",
      "\n"
     ]
    }
   ],
   "source": [
    "print(classification_report(y_test, dtc_pred))"
   ]
  },
  {
   "cell_type": "code",
   "execution_count": 88,
   "metadata": {},
   "outputs": [
    {
     "name": "stdout",
     "output_type": "stream",
     "text": [
      "              precision    recall  f1-score   support\n",
      "\n",
      "           0       1.00      1.00      1.00      2138\n",
      "           1       0.99      0.95      0.97        91\n",
      "\n",
      "    accuracy                           1.00      2229\n",
      "   macro avg       0.99      0.97      0.98      2229\n",
      "weighted avg       1.00      1.00      1.00      2229\n",
      "\n"
     ]
    }
   ],
   "source": [
    "print(classification_report(y_test, dtc_pred_18))"
   ]
  },
  {
   "cell_type": "markdown",
   "metadata": {},
   "source": [
    "pada perubahan thr tidak berpengaruh apa apa"
   ]
  },
  {
   "cell_type": "markdown",
   "metadata": {},
   "source": [
    "##  LR"
   ]
  },
  {
   "cell_type": "code",
   "execution_count": 89,
   "metadata": {},
   "outputs": [
    {
     "data": {
      "text/html": [
       "<div>\n",
       "<style scoped>\n",
       "    .dataframe tbody tr th:only-of-type {\n",
       "        vertical-align: middle;\n",
       "    }\n",
       "\n",
       "    .dataframe tbody tr th {\n",
       "        vertical-align: top;\n",
       "    }\n",
       "\n",
       "    .dataframe thead th {\n",
       "        text-align: right;\n",
       "    }\n",
       "</style>\n",
       "<table border=\"1\" class=\"dataframe\">\n",
       "  <thead>\n",
       "    <tr style=\"text-align: right;\">\n",
       "      <th></th>\n",
       "      <th>thr</th>\n",
       "      <th>tpr</th>\n",
       "      <th>fpr</th>\n",
       "    </tr>\n",
       "  </thead>\n",
       "  <tbody>\n",
       "    <tr>\n",
       "      <th>111</th>\n",
       "      <td>2.562635e-08</td>\n",
       "      <td>1.000000</td>\n",
       "      <td>1.000000</td>\n",
       "    </tr>\n",
       "    <tr>\n",
       "      <th>110</th>\n",
       "      <td>1.517443e-02</td>\n",
       "      <td>1.000000</td>\n",
       "      <td>0.150608</td>\n",
       "    </tr>\n",
       "    <tr>\n",
       "      <th>109</th>\n",
       "      <td>1.517806e-02</td>\n",
       "      <td>0.989011</td>\n",
       "      <td>0.150608</td>\n",
       "    </tr>\n",
       "    <tr>\n",
       "      <th>108</th>\n",
       "      <td>1.524671e-02</td>\n",
       "      <td>0.989011</td>\n",
       "      <td>0.150140</td>\n",
       "    </tr>\n",
       "    <tr>\n",
       "      <th>107</th>\n",
       "      <td>1.542095e-02</td>\n",
       "      <td>0.978022</td>\n",
       "      <td>0.150140</td>\n",
       "    </tr>\n",
       "    <tr>\n",
       "      <th>...</th>\n",
       "      <td>...</td>\n",
       "      <td>...</td>\n",
       "      <td>...</td>\n",
       "    </tr>\n",
       "    <tr>\n",
       "      <th>5</th>\n",
       "      <td>8.929953e-01</td>\n",
       "      <td>0.142857</td>\n",
       "      <td>0.001403</td>\n",
       "    </tr>\n",
       "    <tr>\n",
       "      <th>2</th>\n",
       "      <td>9.339176e-01</td>\n",
       "      <td>0.131868</td>\n",
       "      <td>0.000000</td>\n",
       "    </tr>\n",
       "    <tr>\n",
       "      <th>3</th>\n",
       "      <td>9.243722e-01</td>\n",
       "      <td>0.131868</td>\n",
       "      <td>0.000468</td>\n",
       "    </tr>\n",
       "    <tr>\n",
       "      <th>1</th>\n",
       "      <td>9.993074e-01</td>\n",
       "      <td>0.010989</td>\n",
       "      <td>0.000000</td>\n",
       "    </tr>\n",
       "    <tr>\n",
       "      <th>0</th>\n",
       "      <td>1.999307e+00</td>\n",
       "      <td>0.000000</td>\n",
       "      <td>0.000000</td>\n",
       "    </tr>\n",
       "  </tbody>\n",
       "</table>\n",
       "<p>112 rows × 3 columns</p>\n",
       "</div>"
      ],
      "text/plain": [
       "              thr       tpr       fpr\n",
       "111  2.562635e-08  1.000000  1.000000\n",
       "110  1.517443e-02  1.000000  0.150608\n",
       "109  1.517806e-02  0.989011  0.150608\n",
       "108  1.524671e-02  0.989011  0.150140\n",
       "107  1.542095e-02  0.978022  0.150140\n",
       "..            ...       ...       ...\n",
       "5    8.929953e-01  0.142857  0.001403\n",
       "2    9.339176e-01  0.131868  0.000000\n",
       "3    9.243722e-01  0.131868  0.000468\n",
       "1    9.993074e-01  0.010989  0.000000\n",
       "0    1.999307e+00  0.000000  0.000000\n",
       "\n",
       "[112 rows x 3 columns]"
      ]
     },
     "execution_count": 89,
     "metadata": {},
     "output_type": "execute_result"
    }
   ],
   "source": [
    "lr_thr = pd.DataFrame({'thr':thr_lr,'tpr':tpr_lr,'fpr':fpr_lr})\n",
    "lr_thr.sort_values('tpr',ascending=False)"
   ]
  },
  {
   "cell_type": "code",
   "execution_count": 90,
   "metadata": {},
   "outputs": [
    {
     "name": "stdout",
     "output_type": "stream",
     "text": [
      "[1, 1, 1, 1, 1, 1, 1, 1, 1, 1, 1, 1, 1, 1, 1, 1, 1, 1, 1, 1, 1, 1, 1, 1, 1, 1, 1, 1, 1, 1, 1, 1, 1, 1, 1, 1, 1, 1, 1, 1, 1, 1, 1, 1, 1, 1, 1, 1, 1, 1, 1, 1, 1, 1, 1, 1, 1, 1, 1, 1, 1, 1, 1, 1, 1, 1, 1, 1, 1, 1, 1, 1, 1, 1, 1, 1, 1, 1, 1, 1, 1, 1, 1, 1, 1, 1, 1, 1, 1, 1, 1, 1, 1, 1, 1, 1, 1, 1, 1, 1, 1, 1, 1, 1, 1, 1, 1, 1, 1, 1, 1, 1, 1, 1, 1, 1, 1, 0, 1, 1, 1, 1, 1, 1, 1, 1, 1, 1, 1, 1, 1, 1, 1, 1, 1, 1, 1, 1, 1, 1, 1, 1, 1, 1, 1, 1, 1, 1, 1, 1, 1, 1, 1, 1, 1, 1, 1, 1, 1, 1, 1, 1, 1, 1, 1, 1, 1, 1, 1, 1, 1, 1, 1, 1, 1, 1, 1, 1, 1, 1, 1, 1, 1, 1, 1, 1, 1, 1, 0, 1, 1, 1, 1, 1, 1, 1, 1, 1, 1, 1, 1, 1, 1, 1, 1, 1, 1, 1, 1, 1, 1, 1, 1, 1, 1, 1, 1, 1, 1, 1, 1, 1, 1, 1, 1, 1, 1, 1, 1, 1, 1, 1, 1, 1, 1, 1, 1, 1, 1, 1, 1, 1, 1, 1, 1, 1, 1, 1, 1, 1, 1, 1, 1, 1, 1, 1, 1, 0, 1, 1, 1, 1, 1, 1, 1, 1, 1, 1, 1, 1, 1, 1, 1, 1, 1, 1, 1, 1, 1, 1, 1, 1, 1, 1, 1, 1, 0, 1, 1, 1, 1, 1, 1, 1, 1, 1, 1, 1, 1, 1, 1, 1, 1, 1, 1, 1, 1, 1, 1, 1, 1, 1, 1, 1, 1, 1, 1, 1, 1, 1, 1, 1, 1, 1, 1, 1, 1, 1, 1, 1, 1, 1, 1, 1, 1, 1, 1, 1, 1, 1, 1, 1, 1, 1, 1, 1, 1, 1, 1, 1, 1, 1, 1, 1, 1, 1, 1, 1, 1, 1, 1, 1, 1, 1, 1, 1, 1, 1, 1, 1, 1, 1, 0, 1, 1, 1, 1, 1, 1, 1, 1, 1, 1, 1, 1, 1, 1, 1, 1, 1, 1, 1, 1, 1, 1, 1, 1, 1, 1, 1, 1, 1, 1, 1, 1, 1, 1, 1, 1, 1, 1, 1, 1, 1, 1, 1, 1, 1, 1, 1, 1, 1, 1, 1, 1, 1, 1, 1, 1, 1, 1, 1, 1, 1, 1, 1, 1, 1, 1, 1, 1, 1, 1, 1, 1, 1, 1, 1, 1, 1, 1, 1, 1, 1, 1, 0, 1, 1, 1, 1, 1, 1, 1, 1, 1, 1, 1, 1, 0, 1, 1, 1, 1, 1, 1, 1, 1, 1, 1, 1, 1, 1, 1, 1, 1, 1, 1, 1, 1, 1, 1, 1, 1, 1, 1, 1, 1, 1, 1, 1, 0, 1, 1, 1, 1, 1, 1, 1, 1, 1, 1, 1, 1, 1, 1, 1, 1, 1, 1, 1, 1, 1, 1, 1, 1, 1, 1, 1, 1, 1, 1, 1, 1, 0, 1, 1, 1, 1, 1, 1, 1, 1, 0, 1, 1, 1, 1, 1, 1, 1, 1, 1, 1, 1, 1, 1, 0, 1, 1, 1, 1, 1, 1, 1, 1, 1, 1, 1, 1, 1, 1, 1, 1, 1, 1, 1, 1, 1, 1, 1, 1, 1, 1, 1, 1, 1, 1, 1, 1, 1, 1, 1, 1, 1, 1, 1, 1, 1, 1, 1, 1, 1, 1, 1, 1, 1, 1, 1, 1, 1, 1, 1, 1, 1, 1, 1, 1, 1, 1, 1, 1, 1, 1, 1, 1, 1, 1, 1, 1, 1, 1, 1, 1, 1, 0, 1, 1, 1, 1, 1, 1, 1, 1, 1, 1, 1, 1, 1, 1, 1, 1, 1, 1, 1, 1, 1, 1, 1, 1, 1, 1, 1, 1, 0, 1, 1, 1, 1, 1, 1, 1, 1, 1, 1, 1, 1, 1, 1, 1, 1, 1, 1, 1, 1, 1, 1, 1, 1, 1, 1, 1, 1, 1, 1, 1, 1, 1, 1, 1, 1, 1, 1, 1, 1, 1, 1, 1, 1, 1, 1, 1, 1, 1, 1, 1, 1, 1, 1, 1, 1, 1, 1, 1, 1, 1, 1, 1, 1, 1, 1, 1, 1, 1, 1, 1, 1, 0, 1, 1, 1, 1, 1, 1, 1, 1, 1, 1, 1, 1, 1, 1, 1, 1, 1, 1, 1, 1, 1, 1, 1, 1, 1, 1, 1, 1, 1, 1, 1, 1, 1, 1, 1, 1, 1, 1, 1, 1, 1, 1, 1, 1, 1, 1, 1, 1, 1, 1, 1, 1, 1, 1, 1, 1, 1, 1, 1, 1, 1, 1, 1, 1, 1, 1, 1, 1, 1, 1, 1, 1, 1, 1, 1, 1, 1, 1, 1, 1, 1, 1, 1, 1, 0, 1, 1, 1, 1, 1, 1, 1, 1, 1, 1, 1, 1, 1, 1, 1, 1, 1, 1, 1, 1, 1, 1, 1, 1, 1, 1, 1, 1, 1, 1, 1, 1, 1, 1, 1, 1, 1, 1, 1, 1, 1, 1, 1, 1, 1, 1, 1, 1, 0, 1, 1, 1, 1, 1, 1, 1, 1, 1, 1, 1, 1, 1, 1, 1, 1, 1, 1, 1, 1, 1, 1, 1, 1, 1, 1, 1, 1, 1, 1, 1, 1, 1, 0, 1, 1, 1, 1, 1, 1, 1, 1, 1, 1, 0, 1, 1, 0, 1, 1, 1, 1, 1, 1, 1, 0, 1, 1, 1, 1, 1, 1, 1, 1, 1, 1, 1, 1, 1, 1, 1, 1, 1, 1, 1, 1, 1, 1, 1, 1, 1, 1, 1, 1, 1, 1, 1, 1, 1, 1, 1, 1, 1, 1, 1, 1, 1, 1, 1, 1, 1, 1, 1, 1, 1, 1, 1, 1, 1, 1, 1, 1, 1, 1, 1, 1, 1, 1, 1, 1, 1, 1, 1, 1, 1, 1, 1, 1, 1, 1, 1, 1, 1, 1, 1, 1, 1, 1, 1, 1, 1, 1, 1, 1, 1, 1, 1, 1, 1, 1, 1, 1, 1, 1, 1, 1, 1, 1, 1, 1, 1, 1, 1, 1, 1, 1, 1, 1, 1, 1, 1, 1, 1, 1, 1, 1, 1, 1, 1, 1, 1, 1, 1, 1, 1, 1, 1, 1, 1, 1, 1, 1, 1, 1, 1, 1, 1, 1, 1, 1, 1, 1, 1, 1, 1, 1, 1, 1, 1, 1, 1, 1, 1, 1, 1, 0, 1, 1, 0, 1, 1, 1, 1, 1, 1, 0, 1, 1, 1, 1, 1, 1, 1, 1, 1, 1, 1, 1, 1, 1, 1, 1, 1, 1, 1, 1, 1, 1, 1, 1, 1, 1, 1, 1, 1, 1, 1, 1, 1, 1, 1, 1, 1, 1, 1, 1, 1, 1, 1, 1, 1, 1, 1, 1, 1, 1, 1, 1, 1, 1, 1, 1, 1, 1, 1, 1, 1, 1, 1, 1, 1, 1, 1, 1, 1, 1, 1, 1, 1, 1, 1, 1, 1, 1, 1, 1, 1, 1, 1, 1, 1, 1, 1, 1, 1, 1, 1, 1, 1, 1, 1, 1, 1, 1, 1, 1, 1, 1, 1, 0, 1, 1, 1, 1, 1, 1, 1, 1, 1, 1, 1, 1, 1, 1, 1, 1, 1, 1, 1, 1, 1, 1, 1, 1, 1, 1, 1, 1, 1, 1, 1, 1, 1, 1, 1, 1, 1, 1, 1, 1, 1, 1, 1, 1, 1, 1, 1, 1, 1, 1, 1, 1, 1, 1, 1, 1, 1, 1, 1, 1, 1, 1, 1, 1, 1, 1, 1, 1, 1, 1, 1, 1, 1, 1, 1, 1, 1, 1, 1, 1, 1, 1, 1, 1, 1, 1, 1, 1, 1, 1, 1, 1, 1, 1, 1, 1, 1, 1, 1, 1, 1, 1, 1, 1, 1, 1, 1, 1, 1, 1, 1, 1, 1, 1, 1, 1, 1, 1, 1, 1, 1, 1, 1, 1, 1, 1, 1, 1, 1, 1, 1, 1, 1, 1, 1, 1, 1, 1, 1, 1, 1, 1, 1, 1, 1, 1, 1, 1, 1, 1, 1, 1, 1, 1, 1, 1, 1, 1, 1, 1, 1, 1, 1, 1, 1, 1, 1, 1, 1, 1, 1, 1, 1, 1, 1, 1, 1, 1, 1, 1, 1, 1, 1, 1, 1, 1, 1, 1, 1, 1, 1, 1, 1, 1, 1, 1, 1, 1, 0, 1, 1, 1, 1, 1, 1, 1, 1, 1, 1, 1, 1, 1, 1, 1, 1, 1, 1, 1, 1, 1, 1, 1, 1, 1, 1, 1, 1, 1, 1, 1, 1, 1, 1, 1, 1, 1, 1, 1, 1, 1, 1, 1, 1, 1, 1, 1, 1, 1, 1, 1, 1, 1, 1, 1, 1, 1, 1, 1, 1, 1, 1, 1, 1, 1, 1, 1, 1, 1, 1, 1, 1, 1, 1, 1, 1, 1, 1, 1, 1, 1, 1, 1, 1, 1, 1, 1, 1, 1, 1, 1, 1, 1, 1, 1, 1, 1, 1, 1, 1, 1, 1, 1, 1, 1, 1, 1, 1, 1, 1, 1, 1, 1, 1, 1, 1, 1, 1, 1, 1, 1, 1, 1, 1, 1, 1, 1, 1, 1, 1, 1, 1, 1, 1, 1, 1, 1, 1, 1, 1, 1, 1, 1, 1, 1, 1, 1, 1, 1, 1, 1, 1, 1, 1, 1, 1, 1, 1, 1, 1, 1, 1, 1, 1, 1, 1, 1, 1, 1, 1, 1, 1, 1, 1, 1, 1, 1, 1, 1, 1, 1, 1, 1, 1, 1, 1, 1, 1, 1, 1, 1, 1, 0, 1, 1, 1, 1, 1, 1, 1, 1, 1, 1, 1, 1, 1, 1, 1, 1, 1, 1, 1, 1, 1, 1, 1, 1, 1, 1, 1, 1, 1, 1, 1, 1, 1, 1, 1, 1, 1, 1, 1, 1, 1, 1, 1, 1, 1, 1, 1, 1, 1, 1, 1, 1, 1, 1, 1, 1, 1, 1, 1, 1, 1, 1, 1, 1, 1, 1, 1, 1, 1, 1, 1, 1, 1, 1, 1, 1, 1, 1, 1, 1, 1, 1, 1, 1, 1, 1, 1, 1, 1, 1, 1, 1, 1, 1, 1, 1, 1, 0, 1, 1, 1, 1, 1, 1, 1, 1, 1, 1, 1, 1, 1, 1, 1, 1, 1, 1, 1, 1, 1, 1, 1, 1, 1, 1, 1, 1, 1, 1, 1, 1, 1, 1, 1, 1, 1, 1, 1, 1, 1, 1, 1, 1, 1, 1, 1, 1, 1, 1, 1, 1, 1, 1, 1, 1, 1, 1, 1, 1, 1, 1, 1, 1, 1, 1, 1, 1, 1, 1, 1, 1, 1, 1, 1, 1, 1, 1, 1, 1, 1, 1, 1, 1, 1, 1, 1, 1, 1, 1, 1, 1, 1, 1, 1, 1, 1, 1, 1, 1, 1, 1, 1, 1, 1, 1, 1, 1, 1, 1, 1, 1, 1, 1, 1, 1, 1, 1, 1, 1, 1, 1, 1, 1, 1, 1, 1, 1, 1, 1, 1, 1, 1, 0, 1, 1, 1, 1, 1, 1, 1, 1, 1, 1, 1, 1, 1, 1, 1, 1, 1, 1, 1, 1, 1, 1, 1, 1, 1, 1, 1, 1, 1, 1, 1, 1, 1, 1, 1, 1, 1, 1, 1, 1, 1, 1, 1, 1, 1, 1, 1, 1, 1, 1, 1, 1, 0, 1, 1, 1, 1, 1, 1, 1, 1, 1, 1, 1, 1, 1, 1, 1, 1, 0, 1, 1, 1, 1, 1, 1, 1, 1, 1, 1, 1, 1, 1, 1, 1, 1, 1, 1, 1, 1, 1, 1, 1, 1, 1, 1, 1, 1, 1, 1, 1, 1, 1, 1, 1, 1, 1, 1, 1, 1, 1, 0, 1, 1, 1, 1, 1, 1, 1, 1, 1, 1, 1, 1, 1, 1, 1, 1, 1, 1, 1, 1, 1, 1, 1, 1, 1, 1, 1, 1, 1, 1, 1, 1, 1, 1, 1, 1, 1, 1, 1, 1, 1, 1, 1, 1, 1, 1, 1, 0, 1, 1, 1, 1, 1, 1, 1, 1, 1, 1, 1, 1, 1, 1, 1, 1, 1, 1, 1, 1, 1, 1, 1, 1, 1, 1, 1, 1, 1, 1, 1, 1, 1, 1, 1, 1, 1, 1, 1, 1, 1, 1, 1, 1, 1, 1, 1, 1, 1, 0, 1, 1, 1, 1, 1, 1, 1, 1, 1, 1, 1, 1, 1, 1, 1, 1, 1, 1, 1, 1, 1, 1, 1, 1, 1, 1, 0, 1, 1, 1, 1, 1, 1, 1, 1, 1, 1, 1, 1, 1, 1, 1, 1, 1, 1, 1, 1, 1, 1, 1, 1, 1, 1, 1, 1, 1, 1, 1, 1, 1, 1, 1, 1, 1, 1, 1, 1, 1, 1, 1, 1, 1, 1, 1, 1, 1, 1, 1, 1, 1, 1, 1, 1, 1, 1, 1, 1, 1, 1, 1, 1, 1, 1, 1, 1, 1, 1, 1, 1, 1, 1, 1, 1, 1, 1, 1, 1, 1, 1, 1, 1, 1, 1, 1, 1, 1, 1, 1, 1, 1, 1, 1, 1, 1, 1, 1, 1, 1, 1, 1, 1, 1, 1, 0, 1, 1, 1, 1, 1, 1, 1, 1, 1, 1, 1, 1, 1, 1, 1, 1, 1, 1, 1, 1, 1, 1, 1, 1, 1, 1, 1, 1, 1, 1, 1, 1, 1, 1, 1, 1, 1, 1, 1, 1, 1, 1, 1, 1, 1, 1, 1, 1, 0, 1, 1, 1, 1, 1, 1, 1, 1, 1, 1, 0]\n"
     ]
    }
   ],
   "source": [
    "lr_proba = lr_prob[:,1]\n",
    "lr_pred_18 = [0 if x < 0.000018 else 1 for x in lr_proba]\n",
    "print(lr_pred_18)"
   ]
  },
  {
   "cell_type": "code",
   "execution_count": 91,
   "metadata": {},
   "outputs": [
    {
     "name": "stdout",
     "output_type": "stream",
     "text": [
      "              precision    recall  f1-score   support\n",
      "\n",
      "           0       0.98      0.99      0.98      2138\n",
      "           1       0.68      0.45      0.54        91\n",
      "\n",
      "    accuracy                           0.97      2229\n",
      "   macro avg       0.83      0.72      0.76      2229\n",
      "weighted avg       0.96      0.97      0.97      2229\n",
      "\n"
     ]
    }
   ],
   "source": [
    "print(classification_report(y_test, lr_pred))"
   ]
  },
  {
   "cell_type": "code",
   "execution_count": 92,
   "metadata": {},
   "outputs": [
    {
     "name": "stdout",
     "output_type": "stream",
     "text": [
      "              precision    recall  f1-score   support\n",
      "\n",
      "           0       1.00      0.02      0.03      2138\n",
      "           1       0.04      1.00      0.08        91\n",
      "\n",
      "    accuracy                           0.06      2229\n",
      "   macro avg       0.52      0.51      0.06      2229\n",
      "weighted avg       0.96      0.06      0.04      2229\n",
      "\n"
     ]
    }
   ],
   "source": [
    "print(classification_report(y_test, lr_pred_18))"
   ]
  },
  {
   "cell_type": "markdown",
   "metadata": {},
   "source": [
    "bila thr di turunkan model semakin buruk"
   ]
  },
  {
   "cell_type": "markdown",
   "metadata": {},
   "source": [
    "## deployment and predict new data"
   ]
  },
  {
   "cell_type": "code",
   "execution_count": 93,
   "metadata": {},
   "outputs": [],
   "source": [
    "import pickle\n",
    "import joblib"
   ]
  },
  {
   "cell_type": "code",
   "execution_count": 94,
   "metadata": {},
   "outputs": [],
   "source": [
    "dtc_tuned.fit(nba_model_sc,label)\n",
    "filename = 'dtc_tuned.sav'\n",
    "pickle.dump(dtc_tuned, open(filename, 'wb'))"
   ]
  },
  {
   "cell_type": "code",
   "execution_count": 95,
   "metadata": {},
   "outputs": [],
   "source": [
    "filename = 'dtc_tuned.sav'\n",
    "loaded_model = pickle.load((open(filename, 'rb')))"
   ]
  },
  {
   "cell_type": "code",
   "execution_count": 96,
   "metadata": {},
   "outputs": [
    {
     "data": {
      "text/plain": [
       "Pipeline(steps=[('sc', StandardScaler()), ('balancing', SMOTE()),\n",
       "                ('clf',\n",
       "                 DecisionTreeClassifier(criterion='entropy', max_depth=15,\n",
       "                                        min_samples_split=6))])"
      ]
     },
     "execution_count": 96,
     "metadata": {},
     "output_type": "execute_result"
    }
   ],
   "source": [
    "loaded_model"
   ]
  },
  {
   "cell_type": "code",
   "execution_count": 97,
   "metadata": {},
   "outputs": [],
   "source": [
    "test_x = new"
   ]
  },
  {
   "cell_type": "code",
   "execution_count": 98,
   "metadata": {},
   "outputs": [],
   "source": [
    "test_x = new.drop(['Unnamed: 0', 'player_id','country','college'], axis=1)"
   ]
  },
  {
   "cell_type": "code",
   "execution_count": 99,
   "metadata": {},
   "outputs": [],
   "source": [
    "new_test = loaded_model.predict(test_x)"
   ]
  },
  {
   "cell_type": "code",
   "execution_count": 100,
   "metadata": {},
   "outputs": [
    {
     "data": {
      "text/html": [
       "<div>\n",
       "<style scoped>\n",
       "    .dataframe tbody tr th:only-of-type {\n",
       "        vertical-align: middle;\n",
       "    }\n",
       "\n",
       "    .dataframe tbody tr th {\n",
       "        vertical-align: top;\n",
       "    }\n",
       "\n",
       "    .dataframe thead th {\n",
       "        text-align: right;\n",
       "    }\n",
       "</style>\n",
       "<table border=\"1\" class=\"dataframe\">\n",
       "  <thead>\n",
       "    <tr style=\"text-align: right;\">\n",
       "      <th></th>\n",
       "      <th>id</th>\n",
       "      <th>label</th>\n",
       "    </tr>\n",
       "  </thead>\n",
       "  <tbody>\n",
       "    <tr>\n",
       "      <th>0</th>\n",
       "      <td>0</td>\n",
       "      <td>0</td>\n",
       "    </tr>\n",
       "    <tr>\n",
       "      <th>1</th>\n",
       "      <td>1</td>\n",
       "      <td>0</td>\n",
       "    </tr>\n",
       "    <tr>\n",
       "      <th>2</th>\n",
       "      <td>2</td>\n",
       "      <td>0</td>\n",
       "    </tr>\n",
       "    <tr>\n",
       "      <th>3</th>\n",
       "      <td>3</td>\n",
       "      <td>0</td>\n",
       "    </tr>\n",
       "    <tr>\n",
       "      <th>4</th>\n",
       "      <td>4</td>\n",
       "      <td>0</td>\n",
       "    </tr>\n",
       "    <tr>\n",
       "      <th>...</th>\n",
       "      <td>...</td>\n",
       "      <td>...</td>\n",
       "    </tr>\n",
       "    <tr>\n",
       "      <th>495</th>\n",
       "      <td>495</td>\n",
       "      <td>0</td>\n",
       "    </tr>\n",
       "    <tr>\n",
       "      <th>496</th>\n",
       "      <td>496</td>\n",
       "      <td>0</td>\n",
       "    </tr>\n",
       "    <tr>\n",
       "      <th>497</th>\n",
       "      <td>497</td>\n",
       "      <td>0</td>\n",
       "    </tr>\n",
       "    <tr>\n",
       "      <th>498</th>\n",
       "      <td>498</td>\n",
       "      <td>0</td>\n",
       "    </tr>\n",
       "    <tr>\n",
       "      <th>499</th>\n",
       "      <td>499</td>\n",
       "      <td>0</td>\n",
       "    </tr>\n",
       "  </tbody>\n",
       "</table>\n",
       "<p>500 rows × 2 columns</p>\n",
       "</div>"
      ],
      "text/plain": [
       "      id  label\n",
       "0      0      0\n",
       "1      1      0\n",
       "2      2      0\n",
       "3      3      0\n",
       "4      4      0\n",
       "..   ...    ...\n",
       "495  495      0\n",
       "496  496      0\n",
       "497  497      0\n",
       "498  498      0\n",
       "499  499      0\n",
       "\n",
       "[500 rows x 2 columns]"
      ]
     },
     "execution_count": 100,
     "metadata": {},
     "output_type": "execute_result"
    }
   ],
   "source": [
    "results = pd.DataFrame({'id': new.index, 'label': new_test})\n",
    "results"
   ]
  },
  {
   "cell_type": "code",
   "execution_count": 101,
   "metadata": {},
   "outputs": [
    {
     "data": {
      "text/plain": [
       "0    488\n",
       "1     12\n",
       "Name: label, dtype: int64"
      ]
     },
     "execution_count": 101,
     "metadata": {},
     "output_type": "execute_result"
    }
   ],
   "source": [
    "results['label'].value_counts()"
   ]
  },
  {
   "cell_type": "markdown",
   "metadata": {},
   "source": [
    "## pada hasil predict di atas terdapat 12 potential_player yang baru untuk di recruit"
   ]
  },
  {
   "cell_type": "code",
   "execution_count": null,
   "metadata": {},
   "outputs": [],
   "source": []
  },
  {
   "cell_type": "code",
   "execution_count": null,
   "metadata": {},
   "outputs": [],
   "source": []
  },
  {
   "cell_type": "code",
   "execution_count": null,
   "metadata": {},
   "outputs": [],
   "source": []
  },
  {
   "cell_type": "code",
   "execution_count": null,
   "metadata": {},
   "outputs": [],
   "source": []
  },
  {
   "cell_type": "code",
   "execution_count": null,
   "metadata": {},
   "outputs": [],
   "source": []
  },
  {
   "cell_type": "code",
   "execution_count": null,
   "metadata": {},
   "outputs": [],
   "source": []
  },
  {
   "cell_type": "code",
   "execution_count": null,
   "metadata": {},
   "outputs": [],
   "source": []
  },
  {
   "cell_type": "code",
   "execution_count": null,
   "metadata": {},
   "outputs": [],
   "source": []
  },
  {
   "cell_type": "code",
   "execution_count": null,
   "metadata": {},
   "outputs": [],
   "source": []
  }
 ],
 "metadata": {
  "kernelspec": {
   "display_name": "Python 3",
   "language": "python",
   "name": "python3"
  },
  "language_info": {
   "codemirror_mode": {
    "name": "ipython",
    "version": 3
   },
   "file_extension": ".py",
   "mimetype": "text/x-python",
   "name": "python",
   "nbconvert_exporter": "python",
   "pygments_lexer": "ipython3",
   "version": "3.8.5"
  }
 },
 "nbformat": 4,
 "nbformat_minor": 4
}
